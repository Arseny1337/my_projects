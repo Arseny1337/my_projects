{
 "cells": [
  {
   "cell_type": "markdown",
   "id": "4aab94ae",
   "metadata": {},
   "source": [
    "# Описание проекта: промышленность"
   ]
  },
  {
   "cell_type": "markdown",
   "id": "eae3825d",
   "metadata": {},
   "source": [
    "Чтобы оптимизировать производственные расходы, металлургический комбинат «Стальная птица» решил уменьшить потребление электроэнергии на этапе обработки стали. Для этого комбинату нужно контролировать температуру сплава. Ваша задача — построить модель, которая будет её предсказывать. "
   ]
  },
  {
   "cell_type": "markdown",
   "id": "c2dc9adc",
   "metadata": {},
   "source": [
    "## Описание данных\n",
    "\n",
    "Данные состоят из нескольких файлов, полученных из разных источников:\n",
    "\n",
    "1. **data_arc_new.csv** — данные об электродах:\n",
    "   - `key` — номер партии;\n",
    "   - `Начало нагрева дугой` — время начала нагрева;\n",
    "   - `Конец нагрева дугой` — время окончания нагрева;\n",
    "   - `Активная мощность` — значение активной мощности;\n",
    "   - `Реактивная мощность` — значение реактивной мощности.\n",
    "\n",
    "2. **data_bulk_new.csv** — данные о подаче сыпучих материалов (объём):\n",
    "   - `key` — номер партии;\n",
    "   - `Bulk 1 … Bulk 15` — объём подаваемого материала.\n",
    "\n",
    "3. **data_bulk_time_new.csv** — данные о подаче сыпучих материалов (время):\n",
    "   - `key` — номер партии;\n",
    "   - `Bulk 1 … Bulk 15` — время подачи материала.\n",
    "\n",
    "4. **data_gas_new.csv** — данные о продувке сплава газом:\n",
    "   - `key` — номер партии;\n",
    "   - `Газ 1` — объём подаваемого газа.\n",
    "\n",
    "5. **data_temp_new.csv** — результаты измерения температуры:\n",
    "   - `key` — номер партии;\n",
    "   - `Время замера` — время замера;\n",
    "   - `Температура` — значение температуры.\n",
    "\n",
    "6. **data_wire_new.csv** — данные о проволочных материалах (объём):\n",
    "   - `key` — номер партии;\n",
    "   - `Wire 1 … Wire 15` — объём подаваемых проволочных материалов.\n",
    "\n",
    "7. **data_wire_time_new.csv** — данные о проволочных материалах (время):\n",
    "   - `key` — номер партии;\n",
    "   - `Wire 1 … Wire 15` — время подачи проволочных материалов.\n",
    "\n",
    "Во всех файлах столбец `key` содержит номер партии. В файлах может быть несколько строк с одинаковым значением `key`: они соответствуют разным итерациям обработки. Данные также находятся в тренажёре, в папке `/datasets/`."
   ]
  },
  {
   "cell_type": "code",
   "execution_count": 1,
   "id": "bbad6e24",
   "metadata": {},
   "outputs": [],
   "source": [
    "import pandas as pd\n",
    "\n",
    "import matplotlib.pyplot as plt\n",
    "\n",
    "import seaborn as sns\n",
    "\n",
    "import numpy as np\n",
    "\n",
    "from sklearn.model_selection import train_test_split, GridSearchCV\n",
    "from sklearn.ensemble import RandomForestRegressor\n",
    "from sklearn.pipeline import Pipeline\n",
    "from sklearn.compose import ColumnTransformer\n",
    "from sklearn.preprocessing import StandardScaler\n",
    "from sklearn.metrics import mean_absolute_error\n",
    "from sklearn.model_selection import StratifiedKFold\n",
    "\n",
    "from lightgbm import LGBMRegressor\n",
    "\n",
    "from catboost import CatBoostRegressor\n",
    "\n",
    "import warnings\n",
    "warnings.filterwarnings(\"ignore\")\n",
    "\n",
    "RANDOM_STATE = 131223"
   ]
  },
  {
   "cell_type": "markdown",
   "id": "cf64cac0",
   "metadata": {},
   "source": [
    "## Загрузка данных"
   ]
  },
  {
   "cell_type": "markdown",
   "id": "e04a1fbf",
   "metadata": {},
   "source": [
    "Загрузим данные и посмотрим на них."
   ]
  },
  {
   "cell_type": "code",
   "execution_count": 2,
   "id": "862e05bb",
   "metadata": {},
   "outputs": [
    {
     "data": {
      "text/plain": [
       "'Data Arc:'"
      ]
     },
     "metadata": {},
     "output_type": "display_data"
    },
    {
     "data": {
      "text/html": [
       "<div>\n",
       "<style scoped>\n",
       "    .dataframe tbody tr th:only-of-type {\n",
       "        vertical-align: middle;\n",
       "    }\n",
       "\n",
       "    .dataframe tbody tr th {\n",
       "        vertical-align: top;\n",
       "    }\n",
       "\n",
       "    .dataframe thead th {\n",
       "        text-align: right;\n",
       "    }\n",
       "</style>\n",
       "<table border=\"1\" class=\"dataframe\">\n",
       "  <thead>\n",
       "    <tr style=\"text-align: right;\">\n",
       "      <th></th>\n",
       "      <th>key</th>\n",
       "      <th>Начало нагрева дугой</th>\n",
       "      <th>Конец нагрева дугой</th>\n",
       "      <th>Активная мощность</th>\n",
       "      <th>Реактивная мощность</th>\n",
       "    </tr>\n",
       "  </thead>\n",
       "  <tbody>\n",
       "    <tr>\n",
       "      <th>0</th>\n",
       "      <td>1</td>\n",
       "      <td>2019-05-03 11:02:14</td>\n",
       "      <td>2019-05-03 11:06:02</td>\n",
       "      <td>0.305130</td>\n",
       "      <td>0.211253</td>\n",
       "    </tr>\n",
       "    <tr>\n",
       "      <th>1</th>\n",
       "      <td>1</td>\n",
       "      <td>2019-05-03 11:07:28</td>\n",
       "      <td>2019-05-03 11:10:33</td>\n",
       "      <td>0.765658</td>\n",
       "      <td>0.477438</td>\n",
       "    </tr>\n",
       "    <tr>\n",
       "      <th>2</th>\n",
       "      <td>1</td>\n",
       "      <td>2019-05-03 11:11:44</td>\n",
       "      <td>2019-05-03 11:14:36</td>\n",
       "      <td>0.580313</td>\n",
       "      <td>0.430460</td>\n",
       "    </tr>\n",
       "    <tr>\n",
       "      <th>3</th>\n",
       "      <td>1</td>\n",
       "      <td>2019-05-03 11:18:14</td>\n",
       "      <td>2019-05-03 11:24:19</td>\n",
       "      <td>0.518496</td>\n",
       "      <td>0.379979</td>\n",
       "    </tr>\n",
       "    <tr>\n",
       "      <th>4</th>\n",
       "      <td>1</td>\n",
       "      <td>2019-05-03 11:26:09</td>\n",
       "      <td>2019-05-03 11:28:37</td>\n",
       "      <td>0.867133</td>\n",
       "      <td>0.643691</td>\n",
       "    </tr>\n",
       "    <tr>\n",
       "      <th>...</th>\n",
       "      <td>...</td>\n",
       "      <td>...</td>\n",
       "      <td>...</td>\n",
       "      <td>...</td>\n",
       "      <td>...</td>\n",
       "    </tr>\n",
       "    <tr>\n",
       "      <th>14871</th>\n",
       "      <td>3241</td>\n",
       "      <td>2019-09-06 16:49:05</td>\n",
       "      <td>2019-09-06 16:51:42</td>\n",
       "      <td>0.439735</td>\n",
       "      <td>0.299579</td>\n",
       "    </tr>\n",
       "    <tr>\n",
       "      <th>14872</th>\n",
       "      <td>3241</td>\n",
       "      <td>2019-09-06 16:55:11</td>\n",
       "      <td>2019-09-06 16:58:11</td>\n",
       "      <td>0.646498</td>\n",
       "      <td>0.458240</td>\n",
       "    </tr>\n",
       "    <tr>\n",
       "      <th>14873</th>\n",
       "      <td>3241</td>\n",
       "      <td>2019-09-06 17:06:48</td>\n",
       "      <td>2019-09-06 17:09:52</td>\n",
       "      <td>1.039726</td>\n",
       "      <td>0.769302</td>\n",
       "    </tr>\n",
       "    <tr>\n",
       "      <th>14874</th>\n",
       "      <td>3241</td>\n",
       "      <td>2019-09-06 17:21:58</td>\n",
       "      <td>2019-09-06 17:22:55</td>\n",
       "      <td>0.530267</td>\n",
       "      <td>0.361543</td>\n",
       "    </tr>\n",
       "    <tr>\n",
       "      <th>14875</th>\n",
       "      <td>3241</td>\n",
       "      <td>2019-09-06 17:24:54</td>\n",
       "      <td>2019-09-06 17:26:15</td>\n",
       "      <td>0.389057</td>\n",
       "      <td>0.251347</td>\n",
       "    </tr>\n",
       "  </tbody>\n",
       "</table>\n",
       "<p>14876 rows × 5 columns</p>\n",
       "</div>"
      ],
      "text/plain": [
       "        key Начало нагрева дугой  Конец нагрева дугой  Активная мощность  \\\n",
       "0         1  2019-05-03 11:02:14  2019-05-03 11:06:02           0.305130   \n",
       "1         1  2019-05-03 11:07:28  2019-05-03 11:10:33           0.765658   \n",
       "2         1  2019-05-03 11:11:44  2019-05-03 11:14:36           0.580313   \n",
       "3         1  2019-05-03 11:18:14  2019-05-03 11:24:19           0.518496   \n",
       "4         1  2019-05-03 11:26:09  2019-05-03 11:28:37           0.867133   \n",
       "...     ...                  ...                  ...                ...   \n",
       "14871  3241  2019-09-06 16:49:05  2019-09-06 16:51:42           0.439735   \n",
       "14872  3241  2019-09-06 16:55:11  2019-09-06 16:58:11           0.646498   \n",
       "14873  3241  2019-09-06 17:06:48  2019-09-06 17:09:52           1.039726   \n",
       "14874  3241  2019-09-06 17:21:58  2019-09-06 17:22:55           0.530267   \n",
       "14875  3241  2019-09-06 17:24:54  2019-09-06 17:26:15           0.389057   \n",
       "\n",
       "       Реактивная мощность  \n",
       "0                 0.211253  \n",
       "1                 0.477438  \n",
       "2                 0.430460  \n",
       "3                 0.379979  \n",
       "4                 0.643691  \n",
       "...                    ...  \n",
       "14871             0.299579  \n",
       "14872             0.458240  \n",
       "14873             0.769302  \n",
       "14874             0.361543  \n",
       "14875             0.251347  \n",
       "\n",
       "[14876 rows x 5 columns]"
      ]
     },
     "metadata": {},
     "output_type": "display_data"
    },
    {
     "data": {
      "text/plain": [
       "'\\nData Bulk:'"
      ]
     },
     "metadata": {},
     "output_type": "display_data"
    },
    {
     "data": {
      "text/html": [
       "<div>\n",
       "<style scoped>\n",
       "    .dataframe tbody tr th:only-of-type {\n",
       "        vertical-align: middle;\n",
       "    }\n",
       "\n",
       "    .dataframe tbody tr th {\n",
       "        vertical-align: top;\n",
       "    }\n",
       "\n",
       "    .dataframe thead th {\n",
       "        text-align: right;\n",
       "    }\n",
       "</style>\n",
       "<table border=\"1\" class=\"dataframe\">\n",
       "  <thead>\n",
       "    <tr style=\"text-align: right;\">\n",
       "      <th></th>\n",
       "      <th>key</th>\n",
       "      <th>Bulk 1</th>\n",
       "      <th>Bulk 2</th>\n",
       "      <th>Bulk 3</th>\n",
       "      <th>Bulk 4</th>\n",
       "      <th>Bulk 5</th>\n",
       "      <th>Bulk 6</th>\n",
       "      <th>Bulk 7</th>\n",
       "      <th>Bulk 8</th>\n",
       "      <th>Bulk 9</th>\n",
       "      <th>Bulk 10</th>\n",
       "      <th>Bulk 11</th>\n",
       "      <th>Bulk 12</th>\n",
       "      <th>Bulk 13</th>\n",
       "      <th>Bulk 14</th>\n",
       "      <th>Bulk 15</th>\n",
       "    </tr>\n",
       "  </thead>\n",
       "  <tbody>\n",
       "    <tr>\n",
       "      <th>0</th>\n",
       "      <td>1</td>\n",
       "      <td>NaN</td>\n",
       "      <td>NaN</td>\n",
       "      <td>NaN</td>\n",
       "      <td>43.0</td>\n",
       "      <td>NaN</td>\n",
       "      <td>NaN</td>\n",
       "      <td>NaN</td>\n",
       "      <td>NaN</td>\n",
       "      <td>NaN</td>\n",
       "      <td>NaN</td>\n",
       "      <td>NaN</td>\n",
       "      <td>206.0</td>\n",
       "      <td>NaN</td>\n",
       "      <td>150.0</td>\n",
       "      <td>154.0</td>\n",
       "    </tr>\n",
       "    <tr>\n",
       "      <th>1</th>\n",
       "      <td>2</td>\n",
       "      <td>NaN</td>\n",
       "      <td>NaN</td>\n",
       "      <td>NaN</td>\n",
       "      <td>73.0</td>\n",
       "      <td>NaN</td>\n",
       "      <td>NaN</td>\n",
       "      <td>NaN</td>\n",
       "      <td>NaN</td>\n",
       "      <td>NaN</td>\n",
       "      <td>NaN</td>\n",
       "      <td>NaN</td>\n",
       "      <td>206.0</td>\n",
       "      <td>NaN</td>\n",
       "      <td>149.0</td>\n",
       "      <td>154.0</td>\n",
       "    </tr>\n",
       "    <tr>\n",
       "      <th>2</th>\n",
       "      <td>3</td>\n",
       "      <td>NaN</td>\n",
       "      <td>NaN</td>\n",
       "      <td>NaN</td>\n",
       "      <td>34.0</td>\n",
       "      <td>NaN</td>\n",
       "      <td>NaN</td>\n",
       "      <td>NaN</td>\n",
       "      <td>NaN</td>\n",
       "      <td>NaN</td>\n",
       "      <td>NaN</td>\n",
       "      <td>NaN</td>\n",
       "      <td>205.0</td>\n",
       "      <td>NaN</td>\n",
       "      <td>152.0</td>\n",
       "      <td>153.0</td>\n",
       "    </tr>\n",
       "    <tr>\n",
       "      <th>3</th>\n",
       "      <td>4</td>\n",
       "      <td>NaN</td>\n",
       "      <td>NaN</td>\n",
       "      <td>NaN</td>\n",
       "      <td>81.0</td>\n",
       "      <td>NaN</td>\n",
       "      <td>NaN</td>\n",
       "      <td>NaN</td>\n",
       "      <td>NaN</td>\n",
       "      <td>NaN</td>\n",
       "      <td>NaN</td>\n",
       "      <td>NaN</td>\n",
       "      <td>207.0</td>\n",
       "      <td>NaN</td>\n",
       "      <td>153.0</td>\n",
       "      <td>154.0</td>\n",
       "    </tr>\n",
       "    <tr>\n",
       "      <th>4</th>\n",
       "      <td>5</td>\n",
       "      <td>NaN</td>\n",
       "      <td>NaN</td>\n",
       "      <td>NaN</td>\n",
       "      <td>78.0</td>\n",
       "      <td>NaN</td>\n",
       "      <td>NaN</td>\n",
       "      <td>NaN</td>\n",
       "      <td>NaN</td>\n",
       "      <td>NaN</td>\n",
       "      <td>NaN</td>\n",
       "      <td>NaN</td>\n",
       "      <td>203.0</td>\n",
       "      <td>NaN</td>\n",
       "      <td>151.0</td>\n",
       "      <td>152.0</td>\n",
       "    </tr>\n",
       "    <tr>\n",
       "      <th>...</th>\n",
       "      <td>...</td>\n",
       "      <td>...</td>\n",
       "      <td>...</td>\n",
       "      <td>...</td>\n",
       "      <td>...</td>\n",
       "      <td>...</td>\n",
       "      <td>...</td>\n",
       "      <td>...</td>\n",
       "      <td>...</td>\n",
       "      <td>...</td>\n",
       "      <td>...</td>\n",
       "      <td>...</td>\n",
       "      <td>...</td>\n",
       "      <td>...</td>\n",
       "      <td>...</td>\n",
       "      <td>...</td>\n",
       "    </tr>\n",
       "    <tr>\n",
       "      <th>3124</th>\n",
       "      <td>3237</td>\n",
       "      <td>NaN</td>\n",
       "      <td>NaN</td>\n",
       "      <td>170.0</td>\n",
       "      <td>NaN</td>\n",
       "      <td>NaN</td>\n",
       "      <td>NaN</td>\n",
       "      <td>NaN</td>\n",
       "      <td>NaN</td>\n",
       "      <td>NaN</td>\n",
       "      <td>NaN</td>\n",
       "      <td>NaN</td>\n",
       "      <td>252.0</td>\n",
       "      <td>NaN</td>\n",
       "      <td>130.0</td>\n",
       "      <td>206.0</td>\n",
       "    </tr>\n",
       "    <tr>\n",
       "      <th>3125</th>\n",
       "      <td>3238</td>\n",
       "      <td>NaN</td>\n",
       "      <td>NaN</td>\n",
       "      <td>126.0</td>\n",
       "      <td>NaN</td>\n",
       "      <td>NaN</td>\n",
       "      <td>NaN</td>\n",
       "      <td>NaN</td>\n",
       "      <td>NaN</td>\n",
       "      <td>NaN</td>\n",
       "      <td>NaN</td>\n",
       "      <td>NaN</td>\n",
       "      <td>254.0</td>\n",
       "      <td>NaN</td>\n",
       "      <td>108.0</td>\n",
       "      <td>106.0</td>\n",
       "    </tr>\n",
       "    <tr>\n",
       "      <th>3126</th>\n",
       "      <td>3239</td>\n",
       "      <td>NaN</td>\n",
       "      <td>NaN</td>\n",
       "      <td>NaN</td>\n",
       "      <td>NaN</td>\n",
       "      <td>NaN</td>\n",
       "      <td>114.0</td>\n",
       "      <td>NaN</td>\n",
       "      <td>NaN</td>\n",
       "      <td>NaN</td>\n",
       "      <td>NaN</td>\n",
       "      <td>NaN</td>\n",
       "      <td>158.0</td>\n",
       "      <td>NaN</td>\n",
       "      <td>270.0</td>\n",
       "      <td>88.0</td>\n",
       "    </tr>\n",
       "    <tr>\n",
       "      <th>3127</th>\n",
       "      <td>3240</td>\n",
       "      <td>NaN</td>\n",
       "      <td>NaN</td>\n",
       "      <td>NaN</td>\n",
       "      <td>NaN</td>\n",
       "      <td>NaN</td>\n",
       "      <td>26.0</td>\n",
       "      <td>NaN</td>\n",
       "      <td>NaN</td>\n",
       "      <td>NaN</td>\n",
       "      <td>NaN</td>\n",
       "      <td>NaN</td>\n",
       "      <td>NaN</td>\n",
       "      <td>NaN</td>\n",
       "      <td>192.0</td>\n",
       "      <td>54.0</td>\n",
       "    </tr>\n",
       "    <tr>\n",
       "      <th>3128</th>\n",
       "      <td>3241</td>\n",
       "      <td>NaN</td>\n",
       "      <td>NaN</td>\n",
       "      <td>NaN</td>\n",
       "      <td>NaN</td>\n",
       "      <td>NaN</td>\n",
       "      <td>NaN</td>\n",
       "      <td>NaN</td>\n",
       "      <td>NaN</td>\n",
       "      <td>NaN</td>\n",
       "      <td>NaN</td>\n",
       "      <td>NaN</td>\n",
       "      <td>NaN</td>\n",
       "      <td>NaN</td>\n",
       "      <td>180.0</td>\n",
       "      <td>52.0</td>\n",
       "    </tr>\n",
       "  </tbody>\n",
       "</table>\n",
       "<p>3129 rows × 16 columns</p>\n",
       "</div>"
      ],
      "text/plain": [
       "       key  Bulk 1  Bulk 2  Bulk 3  Bulk 4  Bulk 5  Bulk 6  Bulk 7  Bulk 8  \\\n",
       "0        1     NaN     NaN     NaN    43.0     NaN     NaN     NaN     NaN   \n",
       "1        2     NaN     NaN     NaN    73.0     NaN     NaN     NaN     NaN   \n",
       "2        3     NaN     NaN     NaN    34.0     NaN     NaN     NaN     NaN   \n",
       "3        4     NaN     NaN     NaN    81.0     NaN     NaN     NaN     NaN   \n",
       "4        5     NaN     NaN     NaN    78.0     NaN     NaN     NaN     NaN   \n",
       "...    ...     ...     ...     ...     ...     ...     ...     ...     ...   \n",
       "3124  3237     NaN     NaN   170.0     NaN     NaN     NaN     NaN     NaN   \n",
       "3125  3238     NaN     NaN   126.0     NaN     NaN     NaN     NaN     NaN   \n",
       "3126  3239     NaN     NaN     NaN     NaN     NaN   114.0     NaN     NaN   \n",
       "3127  3240     NaN     NaN     NaN     NaN     NaN    26.0     NaN     NaN   \n",
       "3128  3241     NaN     NaN     NaN     NaN     NaN     NaN     NaN     NaN   \n",
       "\n",
       "      Bulk 9  Bulk 10  Bulk 11  Bulk 12  Bulk 13  Bulk 14  Bulk 15  \n",
       "0        NaN      NaN      NaN    206.0      NaN    150.0    154.0  \n",
       "1        NaN      NaN      NaN    206.0      NaN    149.0    154.0  \n",
       "2        NaN      NaN      NaN    205.0      NaN    152.0    153.0  \n",
       "3        NaN      NaN      NaN    207.0      NaN    153.0    154.0  \n",
       "4        NaN      NaN      NaN    203.0      NaN    151.0    152.0  \n",
       "...      ...      ...      ...      ...      ...      ...      ...  \n",
       "3124     NaN      NaN      NaN    252.0      NaN    130.0    206.0  \n",
       "3125     NaN      NaN      NaN    254.0      NaN    108.0    106.0  \n",
       "3126     NaN      NaN      NaN    158.0      NaN    270.0     88.0  \n",
       "3127     NaN      NaN      NaN      NaN      NaN    192.0     54.0  \n",
       "3128     NaN      NaN      NaN      NaN      NaN    180.0     52.0  \n",
       "\n",
       "[3129 rows x 16 columns]"
      ]
     },
     "metadata": {},
     "output_type": "display_data"
    },
    {
     "data": {
      "text/plain": [
       "'\\nData Bulk Time:'"
      ]
     },
     "metadata": {},
     "output_type": "display_data"
    },
    {
     "data": {
      "text/html": [
       "<div>\n",
       "<style scoped>\n",
       "    .dataframe tbody tr th:only-of-type {\n",
       "        vertical-align: middle;\n",
       "    }\n",
       "\n",
       "    .dataframe tbody tr th {\n",
       "        vertical-align: top;\n",
       "    }\n",
       "\n",
       "    .dataframe thead th {\n",
       "        text-align: right;\n",
       "    }\n",
       "</style>\n",
       "<table border=\"1\" class=\"dataframe\">\n",
       "  <thead>\n",
       "    <tr style=\"text-align: right;\">\n",
       "      <th></th>\n",
       "      <th>key</th>\n",
       "      <th>Bulk 1</th>\n",
       "      <th>Bulk 2</th>\n",
       "      <th>Bulk 3</th>\n",
       "      <th>Bulk 4</th>\n",
       "      <th>Bulk 5</th>\n",
       "      <th>Bulk 6</th>\n",
       "      <th>Bulk 7</th>\n",
       "      <th>Bulk 8</th>\n",
       "      <th>Bulk 9</th>\n",
       "      <th>Bulk 10</th>\n",
       "      <th>Bulk 11</th>\n",
       "      <th>Bulk 12</th>\n",
       "      <th>Bulk 13</th>\n",
       "      <th>Bulk 14</th>\n",
       "      <th>Bulk 15</th>\n",
       "    </tr>\n",
       "  </thead>\n",
       "  <tbody>\n",
       "    <tr>\n",
       "      <th>0</th>\n",
       "      <td>1</td>\n",
       "      <td>NaN</td>\n",
       "      <td>NaN</td>\n",
       "      <td>NaN</td>\n",
       "      <td>2019-05-03 11:28:48</td>\n",
       "      <td>NaN</td>\n",
       "      <td>NaN</td>\n",
       "      <td>NaN</td>\n",
       "      <td>NaN</td>\n",
       "      <td>NaN</td>\n",
       "      <td>NaN</td>\n",
       "      <td>NaN</td>\n",
       "      <td>2019-05-03 11:24:31</td>\n",
       "      <td>NaN</td>\n",
       "      <td>2019-05-03 11:14:50</td>\n",
       "      <td>2019-05-03 11:10:43</td>\n",
       "    </tr>\n",
       "    <tr>\n",
       "      <th>1</th>\n",
       "      <td>2</td>\n",
       "      <td>NaN</td>\n",
       "      <td>NaN</td>\n",
       "      <td>NaN</td>\n",
       "      <td>2019-05-03 11:36:50</td>\n",
       "      <td>NaN</td>\n",
       "      <td>NaN</td>\n",
       "      <td>NaN</td>\n",
       "      <td>NaN</td>\n",
       "      <td>NaN</td>\n",
       "      <td>NaN</td>\n",
       "      <td>NaN</td>\n",
       "      <td>2019-05-03 11:53:30</td>\n",
       "      <td>NaN</td>\n",
       "      <td>2019-05-03 11:48:37</td>\n",
       "      <td>2019-05-03 11:44:39</td>\n",
       "    </tr>\n",
       "    <tr>\n",
       "      <th>2</th>\n",
       "      <td>3</td>\n",
       "      <td>NaN</td>\n",
       "      <td>NaN</td>\n",
       "      <td>NaN</td>\n",
       "      <td>2019-05-03 12:32:39</td>\n",
       "      <td>NaN</td>\n",
       "      <td>NaN</td>\n",
       "      <td>NaN</td>\n",
       "      <td>NaN</td>\n",
       "      <td>NaN</td>\n",
       "      <td>NaN</td>\n",
       "      <td>NaN</td>\n",
       "      <td>2019-05-03 12:27:13</td>\n",
       "      <td>NaN</td>\n",
       "      <td>2019-05-03 12:21:01</td>\n",
       "      <td>2019-05-03 12:16:16</td>\n",
       "    </tr>\n",
       "    <tr>\n",
       "      <th>3</th>\n",
       "      <td>4</td>\n",
       "      <td>NaN</td>\n",
       "      <td>NaN</td>\n",
       "      <td>NaN</td>\n",
       "      <td>2019-05-03 12:43:22</td>\n",
       "      <td>NaN</td>\n",
       "      <td>NaN</td>\n",
       "      <td>NaN</td>\n",
       "      <td>NaN</td>\n",
       "      <td>NaN</td>\n",
       "      <td>NaN</td>\n",
       "      <td>NaN</td>\n",
       "      <td>2019-05-03 12:58:00</td>\n",
       "      <td>NaN</td>\n",
       "      <td>2019-05-03 12:51:11</td>\n",
       "      <td>2019-05-03 12:46:36</td>\n",
       "    </tr>\n",
       "    <tr>\n",
       "      <th>4</th>\n",
       "      <td>5</td>\n",
       "      <td>NaN</td>\n",
       "      <td>NaN</td>\n",
       "      <td>NaN</td>\n",
       "      <td>2019-05-03 13:30:47</td>\n",
       "      <td>NaN</td>\n",
       "      <td>NaN</td>\n",
       "      <td>NaN</td>\n",
       "      <td>NaN</td>\n",
       "      <td>NaN</td>\n",
       "      <td>NaN</td>\n",
       "      <td>NaN</td>\n",
       "      <td>2019-05-03 13:30:47</td>\n",
       "      <td>NaN</td>\n",
       "      <td>2019-05-03 13:34:12</td>\n",
       "      <td>2019-05-03 13:30:47</td>\n",
       "    </tr>\n",
       "    <tr>\n",
       "      <th>...</th>\n",
       "      <td>...</td>\n",
       "      <td>...</td>\n",
       "      <td>...</td>\n",
       "      <td>...</td>\n",
       "      <td>...</td>\n",
       "      <td>...</td>\n",
       "      <td>...</td>\n",
       "      <td>...</td>\n",
       "      <td>...</td>\n",
       "      <td>...</td>\n",
       "      <td>...</td>\n",
       "      <td>...</td>\n",
       "      <td>...</td>\n",
       "      <td>...</td>\n",
       "      <td>...</td>\n",
       "      <td>...</td>\n",
       "    </tr>\n",
       "    <tr>\n",
       "      <th>3124</th>\n",
       "      <td>3237</td>\n",
       "      <td>NaN</td>\n",
       "      <td>NaN</td>\n",
       "      <td>2019-09-06 11:54:15</td>\n",
       "      <td>NaN</td>\n",
       "      <td>NaN</td>\n",
       "      <td>NaN</td>\n",
       "      <td>NaN</td>\n",
       "      <td>NaN</td>\n",
       "      <td>NaN</td>\n",
       "      <td>NaN</td>\n",
       "      <td>NaN</td>\n",
       "      <td>2019-09-06 11:49:45</td>\n",
       "      <td>NaN</td>\n",
       "      <td>2019-09-06 11:45:22</td>\n",
       "      <td>2019-09-06 11:40:06</td>\n",
       "    </tr>\n",
       "    <tr>\n",
       "      <th>3125</th>\n",
       "      <td>3238</td>\n",
       "      <td>NaN</td>\n",
       "      <td>NaN</td>\n",
       "      <td>2019-09-06 12:26:52</td>\n",
       "      <td>NaN</td>\n",
       "      <td>NaN</td>\n",
       "      <td>NaN</td>\n",
       "      <td>NaN</td>\n",
       "      <td>NaN</td>\n",
       "      <td>NaN</td>\n",
       "      <td>NaN</td>\n",
       "      <td>NaN</td>\n",
       "      <td>2019-09-06 12:18:35</td>\n",
       "      <td>NaN</td>\n",
       "      <td>2019-09-06 12:31:49</td>\n",
       "      <td>2019-09-06 12:26:52</td>\n",
       "    </tr>\n",
       "    <tr>\n",
       "      <th>3126</th>\n",
       "      <td>3239</td>\n",
       "      <td>NaN</td>\n",
       "      <td>NaN</td>\n",
       "      <td>NaN</td>\n",
       "      <td>NaN</td>\n",
       "      <td>NaN</td>\n",
       "      <td>2019-09-06 15:06:00</td>\n",
       "      <td>NaN</td>\n",
       "      <td>NaN</td>\n",
       "      <td>NaN</td>\n",
       "      <td>NaN</td>\n",
       "      <td>NaN</td>\n",
       "      <td>2019-09-06 15:01:44</td>\n",
       "      <td>NaN</td>\n",
       "      <td>2019-09-06 14:58:15</td>\n",
       "      <td>2019-09-06 14:48:06</td>\n",
       "    </tr>\n",
       "    <tr>\n",
       "      <th>3127</th>\n",
       "      <td>3240</td>\n",
       "      <td>NaN</td>\n",
       "      <td>NaN</td>\n",
       "      <td>NaN</td>\n",
       "      <td>NaN</td>\n",
       "      <td>NaN</td>\n",
       "      <td>2019-09-06 16:24:28</td>\n",
       "      <td>NaN</td>\n",
       "      <td>NaN</td>\n",
       "      <td>NaN</td>\n",
       "      <td>NaN</td>\n",
       "      <td>NaN</td>\n",
       "      <td>NaN</td>\n",
       "      <td>NaN</td>\n",
       "      <td>2019-09-06 16:07:29</td>\n",
       "      <td>2019-09-06 16:01:34</td>\n",
       "    </tr>\n",
       "    <tr>\n",
       "      <th>3128</th>\n",
       "      <td>3241</td>\n",
       "      <td>NaN</td>\n",
       "      <td>NaN</td>\n",
       "      <td>NaN</td>\n",
       "      <td>NaN</td>\n",
       "      <td>NaN</td>\n",
       "      <td>NaN</td>\n",
       "      <td>NaN</td>\n",
       "      <td>NaN</td>\n",
       "      <td>NaN</td>\n",
       "      <td>NaN</td>\n",
       "      <td>NaN</td>\n",
       "      <td>NaN</td>\n",
       "      <td>NaN</td>\n",
       "      <td>2019-09-06 17:26:33</td>\n",
       "      <td>2019-09-06 17:23:15</td>\n",
       "    </tr>\n",
       "  </tbody>\n",
       "</table>\n",
       "<p>3129 rows × 16 columns</p>\n",
       "</div>"
      ],
      "text/plain": [
       "       key Bulk 1 Bulk 2               Bulk 3               Bulk 4 Bulk 5  \\\n",
       "0        1    NaN    NaN                  NaN  2019-05-03 11:28:48    NaN   \n",
       "1        2    NaN    NaN                  NaN  2019-05-03 11:36:50    NaN   \n",
       "2        3    NaN    NaN                  NaN  2019-05-03 12:32:39    NaN   \n",
       "3        4    NaN    NaN                  NaN  2019-05-03 12:43:22    NaN   \n",
       "4        5    NaN    NaN                  NaN  2019-05-03 13:30:47    NaN   \n",
       "...    ...    ...    ...                  ...                  ...    ...   \n",
       "3124  3237    NaN    NaN  2019-09-06 11:54:15                  NaN    NaN   \n",
       "3125  3238    NaN    NaN  2019-09-06 12:26:52                  NaN    NaN   \n",
       "3126  3239    NaN    NaN                  NaN                  NaN    NaN   \n",
       "3127  3240    NaN    NaN                  NaN                  NaN    NaN   \n",
       "3128  3241    NaN    NaN                  NaN                  NaN    NaN   \n",
       "\n",
       "                   Bulk 6 Bulk 7 Bulk 8 Bulk 9 Bulk 10 Bulk 11  \\\n",
       "0                     NaN    NaN    NaN    NaN     NaN     NaN   \n",
       "1                     NaN    NaN    NaN    NaN     NaN     NaN   \n",
       "2                     NaN    NaN    NaN    NaN     NaN     NaN   \n",
       "3                     NaN    NaN    NaN    NaN     NaN     NaN   \n",
       "4                     NaN    NaN    NaN    NaN     NaN     NaN   \n",
       "...                   ...    ...    ...    ...     ...     ...   \n",
       "3124                  NaN    NaN    NaN    NaN     NaN     NaN   \n",
       "3125                  NaN    NaN    NaN    NaN     NaN     NaN   \n",
       "3126  2019-09-06 15:06:00    NaN    NaN    NaN     NaN     NaN   \n",
       "3127  2019-09-06 16:24:28    NaN    NaN    NaN     NaN     NaN   \n",
       "3128                  NaN    NaN    NaN    NaN     NaN     NaN   \n",
       "\n",
       "                  Bulk 12 Bulk 13              Bulk 14              Bulk 15  \n",
       "0     2019-05-03 11:24:31     NaN  2019-05-03 11:14:50  2019-05-03 11:10:43  \n",
       "1     2019-05-03 11:53:30     NaN  2019-05-03 11:48:37  2019-05-03 11:44:39  \n",
       "2     2019-05-03 12:27:13     NaN  2019-05-03 12:21:01  2019-05-03 12:16:16  \n",
       "3     2019-05-03 12:58:00     NaN  2019-05-03 12:51:11  2019-05-03 12:46:36  \n",
       "4     2019-05-03 13:30:47     NaN  2019-05-03 13:34:12  2019-05-03 13:30:47  \n",
       "...                   ...     ...                  ...                  ...  \n",
       "3124  2019-09-06 11:49:45     NaN  2019-09-06 11:45:22  2019-09-06 11:40:06  \n",
       "3125  2019-09-06 12:18:35     NaN  2019-09-06 12:31:49  2019-09-06 12:26:52  \n",
       "3126  2019-09-06 15:01:44     NaN  2019-09-06 14:58:15  2019-09-06 14:48:06  \n",
       "3127                  NaN     NaN  2019-09-06 16:07:29  2019-09-06 16:01:34  \n",
       "3128                  NaN     NaN  2019-09-06 17:26:33  2019-09-06 17:23:15  \n",
       "\n",
       "[3129 rows x 16 columns]"
      ]
     },
     "metadata": {},
     "output_type": "display_data"
    },
    {
     "data": {
      "text/plain": [
       "'\\nData Gas:'"
      ]
     },
     "metadata": {},
     "output_type": "display_data"
    },
    {
     "data": {
      "text/html": [
       "<div>\n",
       "<style scoped>\n",
       "    .dataframe tbody tr th:only-of-type {\n",
       "        vertical-align: middle;\n",
       "    }\n",
       "\n",
       "    .dataframe tbody tr th {\n",
       "        vertical-align: top;\n",
       "    }\n",
       "\n",
       "    .dataframe thead th {\n",
       "        text-align: right;\n",
       "    }\n",
       "</style>\n",
       "<table border=\"1\" class=\"dataframe\">\n",
       "  <thead>\n",
       "    <tr style=\"text-align: right;\">\n",
       "      <th></th>\n",
       "      <th>key</th>\n",
       "      <th>Газ 1</th>\n",
       "    </tr>\n",
       "  </thead>\n",
       "  <tbody>\n",
       "    <tr>\n",
       "      <th>0</th>\n",
       "      <td>1</td>\n",
       "      <td>29.749986</td>\n",
       "    </tr>\n",
       "    <tr>\n",
       "      <th>1</th>\n",
       "      <td>2</td>\n",
       "      <td>12.555561</td>\n",
       "    </tr>\n",
       "    <tr>\n",
       "      <th>2</th>\n",
       "      <td>3</td>\n",
       "      <td>28.554793</td>\n",
       "    </tr>\n",
       "    <tr>\n",
       "      <th>3</th>\n",
       "      <td>4</td>\n",
       "      <td>18.841219</td>\n",
       "    </tr>\n",
       "    <tr>\n",
       "      <th>4</th>\n",
       "      <td>5</td>\n",
       "      <td>5.413692</td>\n",
       "    </tr>\n",
       "    <tr>\n",
       "      <th>...</th>\n",
       "      <td>...</td>\n",
       "      <td>...</td>\n",
       "    </tr>\n",
       "    <tr>\n",
       "      <th>3234</th>\n",
       "      <td>3237</td>\n",
       "      <td>5.543905</td>\n",
       "    </tr>\n",
       "    <tr>\n",
       "      <th>3235</th>\n",
       "      <td>3238</td>\n",
       "      <td>6.745669</td>\n",
       "    </tr>\n",
       "    <tr>\n",
       "      <th>3236</th>\n",
       "      <td>3239</td>\n",
       "      <td>16.023518</td>\n",
       "    </tr>\n",
       "    <tr>\n",
       "      <th>3237</th>\n",
       "      <td>3240</td>\n",
       "      <td>11.863103</td>\n",
       "    </tr>\n",
       "    <tr>\n",
       "      <th>3238</th>\n",
       "      <td>3241</td>\n",
       "      <td>12.680959</td>\n",
       "    </tr>\n",
       "  </tbody>\n",
       "</table>\n",
       "<p>3239 rows × 2 columns</p>\n",
       "</div>"
      ],
      "text/plain": [
       "       key      Газ 1\n",
       "0        1  29.749986\n",
       "1        2  12.555561\n",
       "2        3  28.554793\n",
       "3        4  18.841219\n",
       "4        5   5.413692\n",
       "...    ...        ...\n",
       "3234  3237   5.543905\n",
       "3235  3238   6.745669\n",
       "3236  3239  16.023518\n",
       "3237  3240  11.863103\n",
       "3238  3241  12.680959\n",
       "\n",
       "[3239 rows x 2 columns]"
      ]
     },
     "metadata": {},
     "output_type": "display_data"
    },
    {
     "data": {
      "text/plain": [
       "'\\nData Temp:'"
      ]
     },
     "metadata": {},
     "output_type": "display_data"
    },
    {
     "data": {
      "text/html": [
       "<div>\n",
       "<style scoped>\n",
       "    .dataframe tbody tr th:only-of-type {\n",
       "        vertical-align: middle;\n",
       "    }\n",
       "\n",
       "    .dataframe tbody tr th {\n",
       "        vertical-align: top;\n",
       "    }\n",
       "\n",
       "    .dataframe thead th {\n",
       "        text-align: right;\n",
       "    }\n",
       "</style>\n",
       "<table border=\"1\" class=\"dataframe\">\n",
       "  <thead>\n",
       "    <tr style=\"text-align: right;\">\n",
       "      <th></th>\n",
       "      <th>key</th>\n",
       "      <th>Время замера</th>\n",
       "      <th>Температура</th>\n",
       "    </tr>\n",
       "  </thead>\n",
       "  <tbody>\n",
       "    <tr>\n",
       "      <th>0</th>\n",
       "      <td>1</td>\n",
       "      <td>2019-05-03 11:02:04</td>\n",
       "      <td>1571.0</td>\n",
       "    </tr>\n",
       "    <tr>\n",
       "      <th>1</th>\n",
       "      <td>1</td>\n",
       "      <td>2019-05-03 11:07:18</td>\n",
       "      <td>1604.0</td>\n",
       "    </tr>\n",
       "    <tr>\n",
       "      <th>2</th>\n",
       "      <td>1</td>\n",
       "      <td>2019-05-03 11:11:34</td>\n",
       "      <td>1618.0</td>\n",
       "    </tr>\n",
       "    <tr>\n",
       "      <th>3</th>\n",
       "      <td>1</td>\n",
       "      <td>2019-05-03 11:18:04</td>\n",
       "      <td>1601.0</td>\n",
       "    </tr>\n",
       "    <tr>\n",
       "      <th>4</th>\n",
       "      <td>1</td>\n",
       "      <td>2019-05-03 11:25:59</td>\n",
       "      <td>1606.0</td>\n",
       "    </tr>\n",
       "    <tr>\n",
       "      <th>...</th>\n",
       "      <td>...</td>\n",
       "      <td>...</td>\n",
       "      <td>...</td>\n",
       "    </tr>\n",
       "    <tr>\n",
       "      <th>18087</th>\n",
       "      <td>3241</td>\n",
       "      <td>2019-09-06 16:55:01</td>\n",
       "      <td>NaN</td>\n",
       "    </tr>\n",
       "    <tr>\n",
       "      <th>18088</th>\n",
       "      <td>3241</td>\n",
       "      <td>2019-09-06 17:06:38</td>\n",
       "      <td>NaN</td>\n",
       "    </tr>\n",
       "    <tr>\n",
       "      <th>18089</th>\n",
       "      <td>3241</td>\n",
       "      <td>2019-09-06 17:21:48</td>\n",
       "      <td>NaN</td>\n",
       "    </tr>\n",
       "    <tr>\n",
       "      <th>18090</th>\n",
       "      <td>3241</td>\n",
       "      <td>2019-09-06 17:24:44</td>\n",
       "      <td>NaN</td>\n",
       "    </tr>\n",
       "    <tr>\n",
       "      <th>18091</th>\n",
       "      <td>3241</td>\n",
       "      <td>2019-09-06 17:30:05</td>\n",
       "      <td>NaN</td>\n",
       "    </tr>\n",
       "  </tbody>\n",
       "</table>\n",
       "<p>18092 rows × 3 columns</p>\n",
       "</div>"
      ],
      "text/plain": [
       "        key         Время замера  Температура\n",
       "0         1  2019-05-03 11:02:04       1571.0\n",
       "1         1  2019-05-03 11:07:18       1604.0\n",
       "2         1  2019-05-03 11:11:34       1618.0\n",
       "3         1  2019-05-03 11:18:04       1601.0\n",
       "4         1  2019-05-03 11:25:59       1606.0\n",
       "...     ...                  ...          ...\n",
       "18087  3241  2019-09-06 16:55:01          NaN\n",
       "18088  3241  2019-09-06 17:06:38          NaN\n",
       "18089  3241  2019-09-06 17:21:48          NaN\n",
       "18090  3241  2019-09-06 17:24:44          NaN\n",
       "18091  3241  2019-09-06 17:30:05          NaN\n",
       "\n",
       "[18092 rows x 3 columns]"
      ]
     },
     "metadata": {},
     "output_type": "display_data"
    },
    {
     "data": {
      "text/plain": [
       "'\\nData Wire:'"
      ]
     },
     "metadata": {},
     "output_type": "display_data"
    },
    {
     "data": {
      "text/html": [
       "<div>\n",
       "<style scoped>\n",
       "    .dataframe tbody tr th:only-of-type {\n",
       "        vertical-align: middle;\n",
       "    }\n",
       "\n",
       "    .dataframe tbody tr th {\n",
       "        vertical-align: top;\n",
       "    }\n",
       "\n",
       "    .dataframe thead th {\n",
       "        text-align: right;\n",
       "    }\n",
       "</style>\n",
       "<table border=\"1\" class=\"dataframe\">\n",
       "  <thead>\n",
       "    <tr style=\"text-align: right;\">\n",
       "      <th></th>\n",
       "      <th>key</th>\n",
       "      <th>Wire 1</th>\n",
       "      <th>Wire 2</th>\n",
       "      <th>Wire 3</th>\n",
       "      <th>Wire 4</th>\n",
       "      <th>Wire 5</th>\n",
       "      <th>Wire 6</th>\n",
       "      <th>Wire 7</th>\n",
       "      <th>Wire 8</th>\n",
       "      <th>Wire 9</th>\n",
       "    </tr>\n",
       "  </thead>\n",
       "  <tbody>\n",
       "    <tr>\n",
       "      <th>0</th>\n",
       "      <td>1</td>\n",
       "      <td>60.059998</td>\n",
       "      <td>NaN</td>\n",
       "      <td>NaN</td>\n",
       "      <td>NaN</td>\n",
       "      <td>NaN</td>\n",
       "      <td>NaN</td>\n",
       "      <td>NaN</td>\n",
       "      <td>NaN</td>\n",
       "      <td>NaN</td>\n",
       "    </tr>\n",
       "    <tr>\n",
       "      <th>1</th>\n",
       "      <td>2</td>\n",
       "      <td>96.052315</td>\n",
       "      <td>NaN</td>\n",
       "      <td>NaN</td>\n",
       "      <td>NaN</td>\n",
       "      <td>NaN</td>\n",
       "      <td>NaN</td>\n",
       "      <td>NaN</td>\n",
       "      <td>NaN</td>\n",
       "      <td>NaN</td>\n",
       "    </tr>\n",
       "    <tr>\n",
       "      <th>2</th>\n",
       "      <td>3</td>\n",
       "      <td>91.160157</td>\n",
       "      <td>NaN</td>\n",
       "      <td>NaN</td>\n",
       "      <td>NaN</td>\n",
       "      <td>NaN</td>\n",
       "      <td>NaN</td>\n",
       "      <td>NaN</td>\n",
       "      <td>NaN</td>\n",
       "      <td>NaN</td>\n",
       "    </tr>\n",
       "    <tr>\n",
       "      <th>3</th>\n",
       "      <td>4</td>\n",
       "      <td>89.063515</td>\n",
       "      <td>NaN</td>\n",
       "      <td>NaN</td>\n",
       "      <td>NaN</td>\n",
       "      <td>NaN</td>\n",
       "      <td>NaN</td>\n",
       "      <td>NaN</td>\n",
       "      <td>NaN</td>\n",
       "      <td>NaN</td>\n",
       "    </tr>\n",
       "    <tr>\n",
       "      <th>4</th>\n",
       "      <td>5</td>\n",
       "      <td>89.238236</td>\n",
       "      <td>9.11456</td>\n",
       "      <td>NaN</td>\n",
       "      <td>NaN</td>\n",
       "      <td>NaN</td>\n",
       "      <td>NaN</td>\n",
       "      <td>NaN</td>\n",
       "      <td>NaN</td>\n",
       "      <td>NaN</td>\n",
       "    </tr>\n",
       "    <tr>\n",
       "      <th>...</th>\n",
       "      <td>...</td>\n",
       "      <td>...</td>\n",
       "      <td>...</td>\n",
       "      <td>...</td>\n",
       "      <td>...</td>\n",
       "      <td>...</td>\n",
       "      <td>...</td>\n",
       "      <td>...</td>\n",
       "      <td>...</td>\n",
       "      <td>...</td>\n",
       "    </tr>\n",
       "    <tr>\n",
       "      <th>3076</th>\n",
       "      <td>3237</td>\n",
       "      <td>38.088959</td>\n",
       "      <td>NaN</td>\n",
       "      <td>NaN</td>\n",
       "      <td>NaN</td>\n",
       "      <td>NaN</td>\n",
       "      <td>NaN</td>\n",
       "      <td>NaN</td>\n",
       "      <td>NaN</td>\n",
       "      <td>NaN</td>\n",
       "    </tr>\n",
       "    <tr>\n",
       "      <th>3077</th>\n",
       "      <td>3238</td>\n",
       "      <td>56.128799</td>\n",
       "      <td>NaN</td>\n",
       "      <td>NaN</td>\n",
       "      <td>NaN</td>\n",
       "      <td>NaN</td>\n",
       "      <td>NaN</td>\n",
       "      <td>NaN</td>\n",
       "      <td>NaN</td>\n",
       "      <td>NaN</td>\n",
       "    </tr>\n",
       "    <tr>\n",
       "      <th>3078</th>\n",
       "      <td>3239</td>\n",
       "      <td>143.357761</td>\n",
       "      <td>NaN</td>\n",
       "      <td>NaN</td>\n",
       "      <td>NaN</td>\n",
       "      <td>NaN</td>\n",
       "      <td>NaN</td>\n",
       "      <td>NaN</td>\n",
       "      <td>NaN</td>\n",
       "      <td>NaN</td>\n",
       "    </tr>\n",
       "    <tr>\n",
       "      <th>3079</th>\n",
       "      <td>3240</td>\n",
       "      <td>34.070400</td>\n",
       "      <td>NaN</td>\n",
       "      <td>NaN</td>\n",
       "      <td>NaN</td>\n",
       "      <td>NaN</td>\n",
       "      <td>NaN</td>\n",
       "      <td>NaN</td>\n",
       "      <td>NaN</td>\n",
       "      <td>NaN</td>\n",
       "    </tr>\n",
       "    <tr>\n",
       "      <th>3080</th>\n",
       "      <td>3241</td>\n",
       "      <td>63.117595</td>\n",
       "      <td>NaN</td>\n",
       "      <td>NaN</td>\n",
       "      <td>NaN</td>\n",
       "      <td>NaN</td>\n",
       "      <td>NaN</td>\n",
       "      <td>NaN</td>\n",
       "      <td>NaN</td>\n",
       "      <td>NaN</td>\n",
       "    </tr>\n",
       "  </tbody>\n",
       "</table>\n",
       "<p>3081 rows × 10 columns</p>\n",
       "</div>"
      ],
      "text/plain": [
       "       key      Wire 1   Wire 2  Wire 3  Wire 4  Wire 5  Wire 6  Wire 7  \\\n",
       "0        1   60.059998      NaN     NaN     NaN     NaN     NaN     NaN   \n",
       "1        2   96.052315      NaN     NaN     NaN     NaN     NaN     NaN   \n",
       "2        3   91.160157      NaN     NaN     NaN     NaN     NaN     NaN   \n",
       "3        4   89.063515      NaN     NaN     NaN     NaN     NaN     NaN   \n",
       "4        5   89.238236  9.11456     NaN     NaN     NaN     NaN     NaN   \n",
       "...    ...         ...      ...     ...     ...     ...     ...     ...   \n",
       "3076  3237   38.088959      NaN     NaN     NaN     NaN     NaN     NaN   \n",
       "3077  3238   56.128799      NaN     NaN     NaN     NaN     NaN     NaN   \n",
       "3078  3239  143.357761      NaN     NaN     NaN     NaN     NaN     NaN   \n",
       "3079  3240   34.070400      NaN     NaN     NaN     NaN     NaN     NaN   \n",
       "3080  3241   63.117595      NaN     NaN     NaN     NaN     NaN     NaN   \n",
       "\n",
       "      Wire 8  Wire 9  \n",
       "0        NaN     NaN  \n",
       "1        NaN     NaN  \n",
       "2        NaN     NaN  \n",
       "3        NaN     NaN  \n",
       "4        NaN     NaN  \n",
       "...      ...     ...  \n",
       "3076     NaN     NaN  \n",
       "3077     NaN     NaN  \n",
       "3078     NaN     NaN  \n",
       "3079     NaN     NaN  \n",
       "3080     NaN     NaN  \n",
       "\n",
       "[3081 rows x 10 columns]"
      ]
     },
     "metadata": {},
     "output_type": "display_data"
    },
    {
     "data": {
      "text/plain": [
       "'\\nData Wire Time:'"
      ]
     },
     "metadata": {},
     "output_type": "display_data"
    },
    {
     "data": {
      "text/html": [
       "<div>\n",
       "<style scoped>\n",
       "    .dataframe tbody tr th:only-of-type {\n",
       "        vertical-align: middle;\n",
       "    }\n",
       "\n",
       "    .dataframe tbody tr th {\n",
       "        vertical-align: top;\n",
       "    }\n",
       "\n",
       "    .dataframe thead th {\n",
       "        text-align: right;\n",
       "    }\n",
       "</style>\n",
       "<table border=\"1\" class=\"dataframe\">\n",
       "  <thead>\n",
       "    <tr style=\"text-align: right;\">\n",
       "      <th></th>\n",
       "      <th>key</th>\n",
       "      <th>Wire 1</th>\n",
       "      <th>Wire 2</th>\n",
       "      <th>Wire 3</th>\n",
       "      <th>Wire 4</th>\n",
       "      <th>Wire 5</th>\n",
       "      <th>Wire 6</th>\n",
       "      <th>Wire 7</th>\n",
       "      <th>Wire 8</th>\n",
       "      <th>Wire 9</th>\n",
       "    </tr>\n",
       "  </thead>\n",
       "  <tbody>\n",
       "    <tr>\n",
       "      <th>0</th>\n",
       "      <td>1</td>\n",
       "      <td>2019-05-03 11:06:19</td>\n",
       "      <td>NaN</td>\n",
       "      <td>NaN</td>\n",
       "      <td>NaN</td>\n",
       "      <td>NaN</td>\n",
       "      <td>NaN</td>\n",
       "      <td>NaN</td>\n",
       "      <td>NaN</td>\n",
       "      <td>NaN</td>\n",
       "    </tr>\n",
       "    <tr>\n",
       "      <th>1</th>\n",
       "      <td>2</td>\n",
       "      <td>2019-05-03 11:36:50</td>\n",
       "      <td>NaN</td>\n",
       "      <td>NaN</td>\n",
       "      <td>NaN</td>\n",
       "      <td>NaN</td>\n",
       "      <td>NaN</td>\n",
       "      <td>NaN</td>\n",
       "      <td>NaN</td>\n",
       "      <td>NaN</td>\n",
       "    </tr>\n",
       "    <tr>\n",
       "      <th>2</th>\n",
       "      <td>3</td>\n",
       "      <td>2019-05-03 12:11:46</td>\n",
       "      <td>NaN</td>\n",
       "      <td>NaN</td>\n",
       "      <td>NaN</td>\n",
       "      <td>NaN</td>\n",
       "      <td>NaN</td>\n",
       "      <td>NaN</td>\n",
       "      <td>NaN</td>\n",
       "      <td>NaN</td>\n",
       "    </tr>\n",
       "    <tr>\n",
       "      <th>3</th>\n",
       "      <td>4</td>\n",
       "      <td>2019-05-03 12:43:22</td>\n",
       "      <td>NaN</td>\n",
       "      <td>NaN</td>\n",
       "      <td>NaN</td>\n",
       "      <td>NaN</td>\n",
       "      <td>NaN</td>\n",
       "      <td>NaN</td>\n",
       "      <td>NaN</td>\n",
       "      <td>NaN</td>\n",
       "    </tr>\n",
       "    <tr>\n",
       "      <th>4</th>\n",
       "      <td>5</td>\n",
       "      <td>2019-05-03 13:20:44</td>\n",
       "      <td>2019-05-03 13:15:34</td>\n",
       "      <td>NaN</td>\n",
       "      <td>NaN</td>\n",
       "      <td>NaN</td>\n",
       "      <td>NaN</td>\n",
       "      <td>NaN</td>\n",
       "      <td>NaN</td>\n",
       "      <td>NaN</td>\n",
       "    </tr>\n",
       "    <tr>\n",
       "      <th>...</th>\n",
       "      <td>...</td>\n",
       "      <td>...</td>\n",
       "      <td>...</td>\n",
       "      <td>...</td>\n",
       "      <td>...</td>\n",
       "      <td>...</td>\n",
       "      <td>...</td>\n",
       "      <td>...</td>\n",
       "      <td>...</td>\n",
       "      <td>...</td>\n",
       "    </tr>\n",
       "    <tr>\n",
       "      <th>3076</th>\n",
       "      <td>3237</td>\n",
       "      <td>2019-09-06 11:33:38</td>\n",
       "      <td>NaN</td>\n",
       "      <td>NaN</td>\n",
       "      <td>NaN</td>\n",
       "      <td>NaN</td>\n",
       "      <td>NaN</td>\n",
       "      <td>NaN</td>\n",
       "      <td>NaN</td>\n",
       "      <td>NaN</td>\n",
       "    </tr>\n",
       "    <tr>\n",
       "      <th>3077</th>\n",
       "      <td>3238</td>\n",
       "      <td>2019-09-06 12:18:35</td>\n",
       "      <td>NaN</td>\n",
       "      <td>NaN</td>\n",
       "      <td>NaN</td>\n",
       "      <td>NaN</td>\n",
       "      <td>NaN</td>\n",
       "      <td>NaN</td>\n",
       "      <td>NaN</td>\n",
       "      <td>NaN</td>\n",
       "    </tr>\n",
       "    <tr>\n",
       "      <th>3078</th>\n",
       "      <td>3239</td>\n",
       "      <td>2019-09-06 14:36:11</td>\n",
       "      <td>NaN</td>\n",
       "      <td>NaN</td>\n",
       "      <td>NaN</td>\n",
       "      <td>NaN</td>\n",
       "      <td>NaN</td>\n",
       "      <td>NaN</td>\n",
       "      <td>NaN</td>\n",
       "      <td>NaN</td>\n",
       "    </tr>\n",
       "    <tr>\n",
       "      <th>3079</th>\n",
       "      <td>3240</td>\n",
       "      <td>2019-09-06 15:33:55</td>\n",
       "      <td>NaN</td>\n",
       "      <td>NaN</td>\n",
       "      <td>NaN</td>\n",
       "      <td>NaN</td>\n",
       "      <td>NaN</td>\n",
       "      <td>NaN</td>\n",
       "      <td>NaN</td>\n",
       "      <td>NaN</td>\n",
       "    </tr>\n",
       "    <tr>\n",
       "      <th>3080</th>\n",
       "      <td>3241</td>\n",
       "      <td>2019-09-06 17:10:06</td>\n",
       "      <td>NaN</td>\n",
       "      <td>NaN</td>\n",
       "      <td>NaN</td>\n",
       "      <td>NaN</td>\n",
       "      <td>NaN</td>\n",
       "      <td>NaN</td>\n",
       "      <td>NaN</td>\n",
       "      <td>NaN</td>\n",
       "    </tr>\n",
       "  </tbody>\n",
       "</table>\n",
       "<p>3081 rows × 10 columns</p>\n",
       "</div>"
      ],
      "text/plain": [
       "       key               Wire 1               Wire 2 Wire 3 Wire 4 Wire 5  \\\n",
       "0        1  2019-05-03 11:06:19                  NaN    NaN    NaN    NaN   \n",
       "1        2  2019-05-03 11:36:50                  NaN    NaN    NaN    NaN   \n",
       "2        3  2019-05-03 12:11:46                  NaN    NaN    NaN    NaN   \n",
       "3        4  2019-05-03 12:43:22                  NaN    NaN    NaN    NaN   \n",
       "4        5  2019-05-03 13:20:44  2019-05-03 13:15:34    NaN    NaN    NaN   \n",
       "...    ...                  ...                  ...    ...    ...    ...   \n",
       "3076  3237  2019-09-06 11:33:38                  NaN    NaN    NaN    NaN   \n",
       "3077  3238  2019-09-06 12:18:35                  NaN    NaN    NaN    NaN   \n",
       "3078  3239  2019-09-06 14:36:11                  NaN    NaN    NaN    NaN   \n",
       "3079  3240  2019-09-06 15:33:55                  NaN    NaN    NaN    NaN   \n",
       "3080  3241  2019-09-06 17:10:06                  NaN    NaN    NaN    NaN   \n",
       "\n",
       "     Wire 6 Wire 7 Wire 8 Wire 9  \n",
       "0       NaN    NaN    NaN    NaN  \n",
       "1       NaN    NaN    NaN    NaN  \n",
       "2       NaN    NaN    NaN    NaN  \n",
       "3       NaN    NaN    NaN    NaN  \n",
       "4       NaN    NaN    NaN    NaN  \n",
       "...     ...    ...    ...    ...  \n",
       "3076    NaN    NaN    NaN    NaN  \n",
       "3077    NaN    NaN    NaN    NaN  \n",
       "3078    NaN    NaN    NaN    NaN  \n",
       "3079    NaN    NaN    NaN    NaN  \n",
       "3080    NaN    NaN    NaN    NaN  \n",
       "\n",
       "[3081 rows x 10 columns]"
      ]
     },
     "metadata": {},
     "output_type": "display_data"
    }
   ],
   "source": [
    "# Загрузка данных\n",
    "data_arc = pd.read_csv('/datasets/data_arc_new.csv')\n",
    "data_bulk = pd.read_csv('/datasets/data_bulk_new.csv')\n",
    "data_bulk_time = pd.read_csv('/datasets/data_bulk_time_new.csv')\n",
    "data_gas = pd.read_csv('/datasets/data_gas_new.csv')\n",
    "data_temp = pd.read_csv('/datasets/data_temp_new.csv')\n",
    "data_wire = pd.read_csv('/datasets/data_wire_new.csv')\n",
    "data_wire_time = pd.read_csv('/datasets/data_wire_time_new.csv')\n",
    "\n",
    "with pd.option_context('display.max_columns', None):\n",
    "    display(\"Data Arc:\")\n",
    "    display(data_arc)\n",
    "\n",
    "    display(\"\\nData Bulk:\")\n",
    "    display(data_bulk)\n",
    "\n",
    "    display(\"\\nData Bulk Time:\")\n",
    "    display(data_bulk_time)\n",
    "\n",
    "    display(\"\\nData Gas:\")\n",
    "    display(data_gas)\n",
    "\n",
    "    display(\"\\nData Temp:\")\n",
    "    display(data_temp)\n",
    "\n",
    "    display(\"\\nData Wire:\")\n",
    "    display(data_wire)\n",
    "\n",
    "    display(\"\\nData Wire Time:\")\n",
    "    display(data_wire_time)"
   ]
  },
  {
   "cell_type": "code",
   "execution_count": 3,
   "id": "858da8bb",
   "metadata": {},
   "outputs": [
    {
     "name": "stdout",
     "output_type": "stream",
     "text": [
      "Датасет: data_arc\n",
      "Пропущенные значения:\n",
      "key                     0\n",
      "Начало нагрева дугой    0\n",
      "Конец нагрева дугой     0\n",
      "Активная мощность       0\n",
      "Реактивная мощность     0\n",
      "dtype: int64\n",
      "\n",
      "Информация о датасете:\n",
      "<class 'pandas.core.frame.DataFrame'>\n",
      "RangeIndex: 14876 entries, 0 to 14875\n",
      "Data columns (total 5 columns):\n",
      " #   Column                Non-Null Count  Dtype  \n",
      "---  ------                --------------  -----  \n",
      " 0   key                   14876 non-null  int64  \n",
      " 1   Начало нагрева дугой  14876 non-null  object \n",
      " 2   Конец нагрева дугой   14876 non-null  object \n",
      " 3   Активная мощность     14876 non-null  float64\n",
      " 4   Реактивная мощность   14876 non-null  float64\n",
      "dtypes: float64(2), int64(1), object(2)\n",
      "memory usage: 581.2+ KB\n",
      "None\n",
      "\n",
      "Описание датасета:\n",
      "                key  Активная мощность  Реактивная мощность\n",
      "count  14876.000000       14876.000000         14876.000000\n",
      "mean    1615.220422           0.662752             0.438986\n",
      "std      934.571502           0.258885             5.873485\n",
      "min        1.000000           0.223120          -715.479924\n",
      "25%      806.000000           0.467115             0.337175\n",
      "50%     1617.000000           0.599587             0.441639\n",
      "75%     2429.000000           0.830070             0.608201\n",
      "max     3241.000000           1.463773             1.270284\n",
      "\n",
      "==================================================\n",
      "\n",
      "Датасет: data_bulk\n",
      "Пропущенные значения:\n",
      "key           0\n",
      "Bulk 1     2877\n",
      "Bulk 2     3107\n",
      "Bulk 3     1831\n",
      "Bulk 4     2115\n",
      "Bulk 5     3052\n",
      "Bulk 6     2553\n",
      "Bulk 7     3104\n",
      "Bulk 8     3128\n",
      "Bulk 9     3110\n",
      "Bulk 10    2953\n",
      "Bulk 11    2952\n",
      "Bulk 12     679\n",
      "Bulk 13    3111\n",
      "Bulk 14     323\n",
      "Bulk 15     881\n",
      "dtype: int64\n",
      "\n",
      "Информация о датасете:\n",
      "<class 'pandas.core.frame.DataFrame'>\n",
      "RangeIndex: 3129 entries, 0 to 3128\n",
      "Data columns (total 16 columns):\n",
      " #   Column   Non-Null Count  Dtype  \n",
      "---  ------   --------------  -----  \n",
      " 0   key      3129 non-null   int64  \n",
      " 1   Bulk 1   252 non-null    float64\n",
      " 2   Bulk 2   22 non-null     float64\n",
      " 3   Bulk 3   1298 non-null   float64\n",
      " 4   Bulk 4   1014 non-null   float64\n",
      " 5   Bulk 5   77 non-null     float64\n",
      " 6   Bulk 6   576 non-null    float64\n",
      " 7   Bulk 7   25 non-null     float64\n",
      " 8   Bulk 8   1 non-null      float64\n",
      " 9   Bulk 9   19 non-null     float64\n",
      " 10  Bulk 10  176 non-null    float64\n",
      " 11  Bulk 11  177 non-null    float64\n",
      " 12  Bulk 12  2450 non-null   float64\n",
      " 13  Bulk 13  18 non-null     float64\n",
      " 14  Bulk 14  2806 non-null   float64\n",
      " 15  Bulk 15  2248 non-null   float64\n",
      "dtypes: float64(15), int64(1)\n",
      "memory usage: 391.2 KB\n",
      "None\n",
      "\n",
      "Описание датасета:\n",
      "               key      Bulk 1      Bulk 2       Bulk 3       Bulk 4  \\\n",
      "count  3129.000000  252.000000   22.000000  1298.000000  1014.000000   \n",
      "mean   1624.383509   39.242063  253.045455   113.879045   104.394477   \n",
      "std     933.337642   18.277654   21.180578    75.483494    48.184126   \n",
      "min       1.000000   10.000000  228.000000     6.000000    12.000000   \n",
      "25%     816.000000   27.000000  242.000000    58.000000    72.000000   \n",
      "50%    1622.000000   31.000000  251.500000    97.500000   102.000000   \n",
      "75%    2431.000000   46.000000  257.750000   152.000000   133.000000   \n",
      "max    3241.000000  185.000000  325.000000   454.000000   281.000000   \n",
      "\n",
      "           Bulk 5      Bulk 6      Bulk 7  Bulk 8      Bulk 9     Bulk 10  \\\n",
      "count   77.000000  576.000000   25.000000     1.0   19.000000  176.000000   \n",
      "mean   107.025974  118.925347  305.600000    49.0   76.315789   83.284091   \n",
      "std     81.790646   72.057776  191.022904     NaN   21.720581   26.060347   \n",
      "min     11.000000   17.000000   47.000000    49.0   63.000000   24.000000   \n",
      "25%     70.000000   69.750000  155.000000    49.0   66.000000   64.000000   \n",
      "50%     86.000000  100.000000  298.000000    49.0   68.000000   86.500000   \n",
      "75%    132.000000  157.000000  406.000000    49.0   70.500000  102.000000   \n",
      "max    603.000000  503.000000  772.000000    49.0  147.000000  159.000000   \n",
      "\n",
      "          Bulk 11      Bulk 12     Bulk 13      Bulk 14      Bulk 15  \n",
      "count  177.000000  2450.000000   18.000000  2806.000000  2248.000000  \n",
      "mean    76.819209   260.471020  181.111111   170.284747   160.513345  \n",
      "std     59.655365   120.649269   46.088009    65.868652    51.765319  \n",
      "min      8.000000    53.000000  151.000000    16.000000     1.000000  \n",
      "25%     25.000000   204.000000  153.250000   119.000000   105.000000  \n",
      "50%     64.000000   208.000000  155.500000   151.000000   160.000000  \n",
      "75%    106.000000   316.000000  203.500000   205.750000   205.000000  \n",
      "max    313.000000  1849.000000  305.000000   636.000000   405.000000  \n",
      "\n",
      "==================================================\n",
      "\n",
      "Датасет: data_bulk_time\n",
      "Пропущенные значения:\n",
      "key           0\n",
      "Bulk 1     2877\n",
      "Bulk 2     3107\n",
      "Bulk 3     1831\n",
      "Bulk 4     2115\n",
      "Bulk 5     3052\n",
      "Bulk 6     2553\n",
      "Bulk 7     3104\n",
      "Bulk 8     3128\n",
      "Bulk 9     3110\n",
      "Bulk 10    2953\n",
      "Bulk 11    2952\n",
      "Bulk 12     679\n",
      "Bulk 13    3111\n",
      "Bulk 14     323\n",
      "Bulk 15     881\n",
      "dtype: int64\n",
      "\n",
      "Информация о датасете:\n",
      "<class 'pandas.core.frame.DataFrame'>\n",
      "RangeIndex: 3129 entries, 0 to 3128\n",
      "Data columns (total 16 columns):\n",
      " #   Column   Non-Null Count  Dtype \n",
      "---  ------   --------------  ----- \n",
      " 0   key      3129 non-null   int64 \n",
      " 1   Bulk 1   252 non-null    object\n",
      " 2   Bulk 2   22 non-null     object\n",
      " 3   Bulk 3   1298 non-null   object\n",
      " 4   Bulk 4   1014 non-null   object\n",
      " 5   Bulk 5   77 non-null     object\n",
      " 6   Bulk 6   576 non-null    object\n",
      " 7   Bulk 7   25 non-null     object\n",
      " 8   Bulk 8   1 non-null      object\n",
      " 9   Bulk 9   19 non-null     object\n",
      " 10  Bulk 10  176 non-null    object\n",
      " 11  Bulk 11  177 non-null    object\n",
      " 12  Bulk 12  2450 non-null   object\n",
      " 13  Bulk 13  18 non-null     object\n",
      " 14  Bulk 14  2806 non-null   object\n",
      " 15  Bulk 15  2248 non-null   object\n",
      "dtypes: int64(1), object(15)\n",
      "memory usage: 391.2+ KB\n",
      "None\n",
      "\n",
      "Описание датасета:\n",
      "               key\n",
      "count  3129.000000\n",
      "mean   1624.383509\n",
      "std     933.337642\n",
      "min       1.000000\n",
      "25%     816.000000\n",
      "50%    1622.000000\n",
      "75%    2431.000000\n",
      "max    3241.000000\n",
      "\n",
      "==================================================\n",
      "\n",
      "Датасет: data_gas\n",
      "Пропущенные значения:\n",
      "key      0\n",
      "Газ 1    0\n",
      "dtype: int64\n",
      "\n",
      "Информация о датасете:\n",
      "<class 'pandas.core.frame.DataFrame'>\n",
      "RangeIndex: 3239 entries, 0 to 3238\n",
      "Data columns (total 2 columns):\n",
      " #   Column  Non-Null Count  Dtype  \n",
      "---  ------  --------------  -----  \n",
      " 0   key     3239 non-null   int64  \n",
      " 1   Газ 1   3239 non-null   float64\n",
      "dtypes: float64(1), int64(1)\n",
      "memory usage: 50.7 KB\n",
      "None\n",
      "\n",
      "Описание датасета:\n",
      "               key        Газ 1\n",
      "count  3239.000000  3239.000000\n",
      "mean   1621.861377    11.002062\n",
      "std     935.386334     6.220327\n",
      "min       1.000000     0.008399\n",
      "25%     812.500000     7.043089\n",
      "50%    1622.000000     9.836267\n",
      "75%    2431.500000    13.769915\n",
      "max    3241.000000    77.995040\n",
      "\n",
      "==================================================\n",
      "\n",
      "Датасет: data_temp\n",
      "Пропущенные значения:\n",
      "key                0\n",
      "Время замера       0\n",
      "Температура     3427\n",
      "dtype: int64\n",
      "\n",
      "Информация о датасете:\n",
      "<class 'pandas.core.frame.DataFrame'>\n",
      "RangeIndex: 18092 entries, 0 to 18091\n",
      "Data columns (total 3 columns):\n",
      " #   Column        Non-Null Count  Dtype  \n",
      "---  ------        --------------  -----  \n",
      " 0   key           18092 non-null  int64  \n",
      " 1   Время замера  18092 non-null  object \n",
      " 2   Температура   14665 non-null  float64\n",
      "dtypes: float64(1), int64(1), object(1)\n",
      "memory usage: 424.2+ KB\n",
      "None\n",
      "\n",
      "Описание датасета:\n",
      "                key   Температура\n",
      "count  18092.000000  14665.000000\n",
      "mean    1616.460977   1590.722741\n",
      "std      934.641385     20.394381\n",
      "min        1.000000   1191.000000\n",
      "25%      807.750000   1580.000000\n",
      "50%     1618.000000   1590.000000\n",
      "75%     2429.000000   1599.000000\n",
      "max     3241.000000   1705.000000\n",
      "\n",
      "==================================================\n",
      "\n",
      "Датасет: data_wire\n",
      "Пропущенные значения:\n",
      "key          0\n",
      "Wire 1      26\n",
      "Wire 2    2002\n",
      "Wire 3    3018\n",
      "Wire 4    3067\n",
      "Wire 5    3080\n",
      "Wire 6    3008\n",
      "Wire 7    3070\n",
      "Wire 8    3062\n",
      "Wire 9    3052\n",
      "dtype: int64\n",
      "\n",
      "Информация о датасете:\n",
      "<class 'pandas.core.frame.DataFrame'>\n",
      "RangeIndex: 3081 entries, 0 to 3080\n",
      "Data columns (total 10 columns):\n",
      " #   Column  Non-Null Count  Dtype  \n",
      "---  ------  --------------  -----  \n",
      " 0   key     3081 non-null   int64  \n",
      " 1   Wire 1  3055 non-null   float64\n",
      " 2   Wire 2  1079 non-null   float64\n",
      " 3   Wire 3  63 non-null     float64\n",
      " 4   Wire 4  14 non-null     float64\n",
      " 5   Wire 5  1 non-null      float64\n",
      " 6   Wire 6  73 non-null     float64\n",
      " 7   Wire 7  11 non-null     float64\n",
      " 8   Wire 8  19 non-null     float64\n",
      " 9   Wire 9  29 non-null     float64\n",
      "dtypes: float64(9), int64(1)\n",
      "memory usage: 240.8 KB\n",
      "None\n",
      "\n",
      "Описание датасета:\n",
      "               key       Wire 1       Wire 2      Wire 3      Wire 4  Wire 5  \\\n",
      "count  3081.000000  3055.000000  1079.000000   63.000000   14.000000   1.000   \n",
      "mean   1623.426485   100.895853    50.577323  189.482681   57.442841  15.132   \n",
      "std     932.996726    42.012518    39.320216   99.513444   28.824667     NaN   \n",
      "min       1.000000     1.918800     0.030160    0.144144   24.148801  15.132   \n",
      "25%     823.000000    72.115684    20.193680   95.135044   40.807002  15.132   \n",
      "50%    1619.000000   100.158234    40.142956  235.194977   45.234282  15.132   \n",
      "75%    2434.000000   126.060483    70.227558  276.252014   76.124619  15.132   \n",
      "max    3241.000000   330.314424   282.780152  385.008668  113.231044  15.132   \n",
      "\n",
      "           Wire 6     Wire 7      Wire 8     Wire 9  \n",
      "count   73.000000  11.000000   19.000000  29.000000  \n",
      "mean    48.016974  10.039007   53.625193  34.155752  \n",
      "std     33.919845   8.610584   16.881728  19.931616  \n",
      "min      0.034320   0.234208   45.076721   4.622800  \n",
      "25%     25.053600   6.762756   46.094879  22.058401  \n",
      "50%     42.076324   9.017009   46.279999  30.066399  \n",
      "75%     64.212723  11.886057   48.089603  43.862003  \n",
      "max    180.454575  32.847674  102.762401  90.053604  \n",
      "\n",
      "==================================================\n",
      "\n",
      "Датасет: data_wire_time\n",
      "Пропущенные значения:\n",
      "key          0\n",
      "Wire 1      26\n",
      "Wire 2    2002\n",
      "Wire 3    3018\n",
      "Wire 4    3067\n",
      "Wire 5    3080\n",
      "Wire 6    3008\n",
      "Wire 7    3070\n",
      "Wire 8    3062\n",
      "Wire 9    3052\n",
      "dtype: int64\n",
      "\n",
      "Информация о датасете:\n",
      "<class 'pandas.core.frame.DataFrame'>\n",
      "RangeIndex: 3081 entries, 0 to 3080\n",
      "Data columns (total 10 columns):\n",
      " #   Column  Non-Null Count  Dtype \n",
      "---  ------  --------------  ----- \n",
      " 0   key     3081 non-null   int64 \n",
      " 1   Wire 1  3055 non-null   object\n",
      " 2   Wire 2  1079 non-null   object\n",
      " 3   Wire 3  63 non-null     object\n",
      " 4   Wire 4  14 non-null     object\n",
      " 5   Wire 5  1 non-null      object\n",
      " 6   Wire 6  73 non-null     object\n",
      " 7   Wire 7  11 non-null     object\n",
      " 8   Wire 8  19 non-null     object\n",
      " 9   Wire 9  29 non-null     object\n",
      "dtypes: int64(1), object(9)\n",
      "memory usage: 240.8+ KB\n",
      "None\n",
      "\n",
      "Описание датасета:\n",
      "               key\n",
      "count  3081.000000\n",
      "mean   1623.426485\n",
      "std     932.996726\n",
      "min       1.000000\n",
      "25%     823.000000\n",
      "50%    1619.000000\n",
      "75%    2434.000000\n",
      "max    3241.000000\n",
      "\n",
      "==================================================\n",
      "\n"
     ]
    }
   ],
   "source": [
    "datasets = {\n",
    "    'data_arc': data_arc,\n",
    "    'data_bulk': data_bulk,\n",
    "    'data_bulk_time': data_bulk_time,\n",
    "    'data_gas': data_gas,\n",
    "    'data_temp': data_temp,\n",
    "    'data_wire': data_wire,\n",
    "    'data_wire_time': data_wire_time\n",
    "}\n",
    "\n",
    "for dataset_name, dataset in datasets.items():\n",
    "    print(f'Датасет: {dataset_name}')\n",
    "    print('Пропущенные значения:')\n",
    "    print(dataset.isna().sum())\n",
    "    print(\"\\nИнформация о датасете:\")\n",
    "    print(dataset.info())\n",
    "    print(\"\\nОписание датасета:\")\n",
    "    print(dataset.describe())\n",
    "    print(\"\\n\" + \"=\"*50 + \"\\n\")\n"
   ]
  },
  {
   "cell_type": "markdown",
   "id": "29188880",
   "metadata": {},
   "source": [
    "## Первичный анализ данных\n",
    "\n",
    "**Датасет: data_arc**\n",
    "\n",
    "*Пропущенные значения:*\n",
    "- Колонки не содержат пропущенных значений.\n",
    "\n",
    "*Информация о датасете:*\n",
    "- Всего 14876 записей.\n",
    "- Колонки \"Начало нагрева дугой\" и \"Конец нагрева дугой\" имеют тип object, требует преобразования в формат даты и времени.\n",
    "- Для \"Активной мощности\" и \"Реактивной мощности\" используется числовой формат.\n",
    "\n",
    "*Описание датасета:*\n",
    "- Средние значения активной и реактивной мощности близки к средним значениям в рамках стандартных технологических процессов.\n",
    "- Минимальное значение реактивной мощности отрицательно, что может потребовать дополнительного анализа.\n",
    "\n",
    "**Датасет: data_bulk**\n",
    "\n",
    "*Пропущенные значения:*\n",
    "- Множество колонок, связанных с добавками, содержат пропущенные значения. На этих этапах добавки не производились.\n",
    "\n",
    "*Информация о датасете:*\n",
    "- Всего 3129 записей.\n",
    "- Большинство добавок имеют различное количество пропущенных значений.\n",
    "- В некоторых случаях пропущены все значения (например, \"Bulk 8\").\n",
    "\n",
    "*Описание датасета:*\n",
    "- Разные добавки имеют разные средние и стандартные отклонения, что может быть связано с их химическим составом.\n",
    "\n",
    "**Датасет: data_bulk_time**\n",
    "\n",
    "*Пропущенные значения:*\n",
    "- Как и в предыдущем датасете, множество пропущенных значений в колонках, связанных с добавками.\n",
    "\n",
    "*Информация о датасете:*\n",
    "- Схож с data_bulk в структурном аспекте.\n",
    "\n",
    "*Описание датасета:*\n",
    "- Как и в data_bulk, временные добавки имеют разное среднее и стандартное отклонение.\n",
    "\n",
    "**Датасет: data_gas**\n",
    "\n",
    "*Пропущенные значения:*\n",
    "- Все колонки не содержат пропущенных значений.\n",
    "\n",
    "*Информация о датасете:*\n",
    "- Всего 3239 записей.\n",
    "- Колонка \"Газ 1\" представляет измерения газа.\n",
    "\n",
    "*Описание датасета:*\n",
    "- Среднее значение и стандартное отклонение соответствуют стандартным характеристикам производственных процессов.\n",
    "\n",
    "**Датасет: data_temp**\n",
    "\n",
    "*Пропущенные значения:*\n",
    "- Пропущенные значения в колонке \"Температура\".\n",
    "\n",
    "*Информация о датасете:*\n",
    "- Всего 18092 записи.\n",
    "- Колонка \"Время замера\" имеет тип object, требует преобразования в формат даты и времени.\n",
    "\n",
    "*Описание датасета:*\n",
    "- Среднее значение температуры соответствует типичным значениям в металлургических процессах.\n",
    "- Присутствуют пропущенные значения в колонке \"Температура\", что может потребовать дополнительного внимания.\n",
    "\n",
    "**Датасет: data_wire**\n",
    "\n",
    "*Пропущенные значения:*\n",
    "- Различные колонки, связанные с проволокой, содержат пропущенные значения.\n",
    "\n",
    "*Информация о датасете:*\n",
    "- Всего 3081 запись.\n",
    "\n",
    "*Описание датасета:*\n",
    "- Разные типы проволоки имеют разные средние значения и стандартные отклонения.\n",
    "\n",
    "**Датасет: data_wire_time**\n",
    "\n",
    "*Пропущенные значения:*\n",
    "- Как и в предыдущем датасете, различные колонки с временем связаны с проволокой и содержат пропущенные значения.\n",
    "\n",
    "*Информация о датасете:*\n",
    "- Схож с data_wire в структурном аспекте.\n",
    "\n",
    "*Описание датасета:*\n",
    "- Как и в data_wire, временные значения проволоки имеют разное среднее и стандартное отклонение.\n",
    "\n",
    "**Выводы:**\n",
    "1. Необходимо провести преобразование типов данных для временных колонок (например, \"Начало нагрева дугой\", \"Конец нагрева дугой\", \"Время замера\").\n",
    "2. Присутствуют пропущенные значения в нескольких датасетах, что может потребовать дополнительного анализа и принятия решений по их обработке.\n",
    "3. Различные добавки и проволока имеют разные характеристики, что может быть важным при дальнейшем анализе данных и моделировании.\n",
    "4. Присутствуют отрицательные значения в \"Реактивной мощности\" в data_arc, что также требует внимания.\n",
    "5. Требуется более детальный анализ пропущенных значений в колонке \"Температура\" в data_temp для принятия решений о их обработке."
   ]
  },
  {
   "cell_type": "markdown",
   "id": "ab23c362",
   "metadata": {},
   "source": [
    "## Предобработка данных"
   ]
  },
  {
   "cell_type": "markdown",
   "id": "4e755372",
   "metadata": {},
   "source": [
    "Преобразуем временные колонки в тип данных DateTime"
   ]
  },
  {
   "cell_type": "code",
   "execution_count": 4,
   "id": "50648afa",
   "metadata": {},
   "outputs": [
    {
     "name": "stdout",
     "output_type": "stream",
     "text": [
      "Датасет: data_arc\n",
      "\n",
      "Информация о датасете после преобразования типов данных:\n",
      "<class 'pandas.core.frame.DataFrame'>\n",
      "RangeIndex: 14876 entries, 0 to 14875\n",
      "Data columns (total 5 columns):\n",
      " #   Column                Non-Null Count  Dtype         \n",
      "---  ------                --------------  -----         \n",
      " 0   key                   14876 non-null  int64         \n",
      " 1   Начало нагрева дугой  14876 non-null  datetime64[ns]\n",
      " 2   Конец нагрева дугой   14876 non-null  datetime64[ns]\n",
      " 3   Активная мощность     14876 non-null  float64       \n",
      " 4   Реактивная мощность   14876 non-null  float64       \n",
      "dtypes: datetime64[ns](2), float64(2), int64(1)\n",
      "memory usage: 581.2 KB\n",
      "None\n",
      "\n",
      "==================================================\n",
      "\n",
      "Датасет: data_temp\n",
      "\n",
      "Информация о датасете после преобразования типов данных:\n",
      "<class 'pandas.core.frame.DataFrame'>\n",
      "RangeIndex: 18092 entries, 0 to 18091\n",
      "Data columns (total 3 columns):\n",
      " #   Column        Non-Null Count  Dtype         \n",
      "---  ------        --------------  -----         \n",
      " 0   key           18092 non-null  int64         \n",
      " 1   Время замера  18092 non-null  datetime64[ns]\n",
      " 2   Температура   14665 non-null  float64       \n",
      "dtypes: datetime64[ns](1), float64(1), int64(1)\n",
      "memory usage: 424.2 KB\n",
      "None\n",
      "\n",
      "==================================================\n",
      "\n",
      "Датасет: data_bulk_time\n",
      "\n",
      "Информация о датасете после преобразования типов данных:\n",
      "<class 'pandas.core.frame.DataFrame'>\n",
      "RangeIndex: 3129 entries, 0 to 3128\n",
      "Data columns (total 16 columns):\n",
      " #   Column   Non-Null Count  Dtype         \n",
      "---  ------   --------------  -----         \n",
      " 0   key      3129 non-null   int64         \n",
      " 1   Bulk 1   252 non-null    datetime64[ns]\n",
      " 2   Bulk 2   22 non-null     datetime64[ns]\n",
      " 3   Bulk 3   1298 non-null   datetime64[ns]\n",
      " 4   Bulk 4   1014 non-null   datetime64[ns]\n",
      " 5   Bulk 5   77 non-null     datetime64[ns]\n",
      " 6   Bulk 6   576 non-null    datetime64[ns]\n",
      " 7   Bulk 7   25 non-null     datetime64[ns]\n",
      " 8   Bulk 8   1 non-null      datetime64[ns]\n",
      " 9   Bulk 9   19 non-null     datetime64[ns]\n",
      " 10  Bulk 10  176 non-null    datetime64[ns]\n",
      " 11  Bulk 11  177 non-null    datetime64[ns]\n",
      " 12  Bulk 12  2450 non-null   datetime64[ns]\n",
      " 13  Bulk 13  18 non-null     datetime64[ns]\n",
      " 14  Bulk 14  2806 non-null   datetime64[ns]\n",
      " 15  Bulk 15  2248 non-null   datetime64[ns]\n",
      "dtypes: datetime64[ns](15), int64(1)\n",
      "memory usage: 391.2 KB\n",
      "None\n",
      "\n",
      "==================================================\n",
      "\n",
      "Датасет: data_wire_time\n",
      "\n",
      "Информация о датасете после преобразования типов данных:\n",
      "<class 'pandas.core.frame.DataFrame'>\n",
      "RangeIndex: 3081 entries, 0 to 3080\n",
      "Data columns (total 10 columns):\n",
      " #   Column  Non-Null Count  Dtype         \n",
      "---  ------  --------------  -----         \n",
      " 0   key     3081 non-null   int64         \n",
      " 1   Wire 1  3055 non-null   datetime64[ns]\n",
      " 2   Wire 2  1079 non-null   datetime64[ns]\n",
      " 3   Wire 3  63 non-null     datetime64[ns]\n",
      " 4   Wire 4  14 non-null     datetime64[ns]\n",
      " 5   Wire 5  1 non-null      datetime64[ns]\n",
      " 6   Wire 6  73 non-null     datetime64[ns]\n",
      " 7   Wire 7  11 non-null     datetime64[ns]\n",
      " 8   Wire 8  19 non-null     datetime64[ns]\n",
      " 9   Wire 9  29 non-null     datetime64[ns]\n",
      "dtypes: datetime64[ns](9), int64(1)\n",
      "memory usage: 240.8 KB\n",
      "None\n",
      "\n",
      "==================================================\n",
      "\n"
     ]
    }
   ],
   "source": [
    "# Преобразование типов данных для временных колонок в data_arc\n",
    "data_arc['Начало нагрева дугой'] = pd.to_datetime(data_arc['Начало нагрева дугой'])\n",
    "data_arc['Конец нагрева дугой'] = pd.to_datetime(data_arc['Конец нагрева дугой'])\n",
    "\n",
    "# Преобразование типов данных для временных колонок в data_temp\n",
    "data_temp['Время замера'] = pd.to_datetime(data_temp['Время замера'])\n",
    "\n",
    "# Преобразование типов данных для временных колонок в data_bulk_time\n",
    "for col in data_bulk_time.columns[1:]:\n",
    "    data_bulk_time[col] = pd.to_datetime(data_bulk_time[col])\n",
    "\n",
    "# Преобразование типов данных для временных колонок в data_wire_time\n",
    "for col in data_wire_time.columns[1:]:\n",
    "    data_wire_time[col] = pd.to_datetime(data_wire_time[col])\n",
    "\n",
    "# Вывод обновленной информации о типах данных для временных колонок\n",
    "datasets = {\n",
    "    'data_arc': data_arc,\n",
    "    'data_temp': data_temp,\n",
    "    'data_bulk_time': data_bulk_time,\n",
    "    'data_wire_time': data_wire_time\n",
    "}\n",
    "\n",
    "for dataset_name, dataset in datasets.items():\n",
    "    print(f'Датасет: {dataset_name}')\n",
    "    print(\"\\nИнформация о датасете после преобразования типов данных:\")\n",
    "    print(dataset.info())\n",
    "    print(\"\\n\" + \"=\"*50 + \"\\n\")\n"
   ]
  },
  {
   "cell_type": "markdown",
   "id": "955ab82c",
   "metadata": {},
   "source": [
    "Необходимо изучить графики boxplot для выявления возможных аномалий в датасете data_arc"
   ]
  },
  {
   "cell_type": "code",
   "execution_count": 5,
   "id": "1d4e2f06",
   "metadata": {
    "scrolled": true
   },
   "outputs": [
    {
     "data": {
      "image/png": "[encoded data removed]",
      "text/plain": [
       "<Figure size 720x432 with 1 Axes>"
      ]
     },
     "metadata": {
      "needs_background": "light"
     },
     "output_type": "display_data"
    },
    {
     "data": {
      "image/png": "[encoded data removed]",
      "text/plain": [
       "<Figure size 720x432 with 1 Axes>"
      ]
     },
     "metadata": {
      "needs_background": "light"
     },
     "output_type": "display_data"
    }
   ],
   "source": [
    "# Построение графика для Активной мощности\n",
    "plt.figure(figsize=(10, 6))\n",
    "sns.boxplot(x='Активная мощность', data=data_arc)\n",
    "plt.title('Ящик с усами для Активной мощности')\n",
    "plt.xlabel('Активная мощность')\n",
    "plt.show()\n",
    "\n",
    "# Построение графика для Реактивной мощности\n",
    "plt.figure(figsize=(10, 6))\n",
    "sns.boxplot(x='Реактивная мощность', data=data_arc)\n",
    "plt.title('Ящик с усами для Реактивной мощности')\n",
    "plt.xlabel('Реактивная мощность')\n",
    "plt.show()\n"
   ]
  },
  {
   "cell_type": "markdown",
   "id": "1b397df8",
   "metadata": {},
   "source": [
    "На графике реактивной мощности оказалось аномальное значение меньше -700. Значение реактивной мощности может быть отрицательным, но учитывая его величину, сильно отличающуюся от всех остальных. Посмотрим на распределение без этого значения."
   ]
  },
  {
   "cell_type": "code",
   "execution_count": 6,
   "id": "efab6ab4",
   "metadata": {},
   "outputs": [
    {
     "data": {
      "image/png": "[encoded data removed]",
      "text/plain": [
       "<Figure size 720x432 with 1 Axes>"
      ]
     },
     "metadata": {
      "needs_background": "light"
     },
     "output_type": "display_data"
    }
   ],
   "source": [
    "plt.figure(figsize=(10, 6))\n",
    "sns.boxplot(x='Реактивная мощность', data=data_arc[(data_arc['Реактивная мощность'] >= -100)])\n",
    "plt.title('Ящик с усами для Реактивной мощности (без значений меньше -100)')\n",
    "plt.xlabel('Реактивная мощность')\n",
    "plt.show()"
   ]
  },
  {
   "cell_type": "markdown",
   "id": "b0b4356f",
   "metadata": {},
   "source": [
    "Теперь очевидно что это значение - явная аномалия, которую можно заменить, зная отношение среднего значения активной мощности к среднему значению реактивной мощности."
   ]
  },
  {
   "cell_type": "code",
   "execution_count": 7,
   "id": "4413c2b0",
   "metadata": {
    "scrolled": true
   },
   "outputs": [
    {
     "name": "stdout",
     "output_type": "stream",
     "text": [
      "Среднее отношение между активной и реактивной мощностью:  1.3735003434334967\n",
      "Строка для замены: \n",
      "\n"
     ]
    },
    {
     "data": {
      "text/plain": [
       "key                                    2116\n",
       "Начало нагрева дугой    2019-07-28 02:22:08\n",
       "Конец нагрева дугой     2019-07-28 02:23:57\n",
       "Активная мощность                  0.705344\n",
       "Реактивная мощность             -715.479924\n",
       "Name: 9780, dtype: object"
      ]
     },
     "metadata": {},
     "output_type": "display_data"
    },
    {
     "name": "stdout",
     "output_type": "stream",
     "text": [
      "Восстновленное значение Реактивной мощности:  0.5135375490600683\n",
      "Обновленная строка в data_arc:\n",
      "key                                    2116\n",
      "Начало нагрева дугой    2019-07-28 02:22:08\n",
      "Конец нагрева дугой     2019-07-28 02:23:57\n",
      "Активная мощность                  0.705344\n",
      "Реактивная мощность                0.513538\n",
      "Name: 9780, dtype: object\n"
     ]
    }
   ],
   "source": [
    "# Фильтрация\n",
    "filtered_data_arc = data_arc[data_arc['Реактивная мощность'] >= -100]\n",
    "\n",
    "# Расчет среднего отношения между активной и реактивной мощностью\n",
    "mean_ratio = (filtered_data_arc['Активная мощность'] / filtered_data_arc['Реактивная мощность']).mean()\n",
    "print('Среднее отношение между активной и реактивной мощностью: ', mean_ratio)\n",
    "\n",
    "# Находим строку, которую нужно заменить\n",
    "row_to_replace = data_arc[data_arc['Реактивная мощность'] < -100].iloc[0]\n",
    "print('Строка для замены: \\n')\n",
    "display(row_to_replace)\n",
    "\n",
    "# Заменяем значение Реактивной мощности\n",
    "new_reactive_power = row_to_replace['Активная мощность'] / mean_ratio\n",
    "print('Восстновленное значение Реактивной мощности: ', new_reactive_power)\n",
    "row_to_replace['Реактивная мощность'] = new_reactive_power\n",
    "\n",
    "# Находим индекс строки, которую нужно заменить\n",
    "index_to_replace = data_arc[data_arc['Реактивная мощность'] < -100].index[0]\n",
    "\n",
    "# Заменяем значение Реактивной мощности в оригинальном датафрейме\n",
    "data_arc.loc[index_to_replace, 'Реактивная мощность'] = new_reactive_power\n",
    "\n",
    "# Выводим обновленную строку\n",
    "print(\"Обновленная строка в data_arc:\")\n",
    "print(data_arc.loc[index_to_replace])"
   ]
  },
  {
   "cell_type": "markdown",
   "id": "3b7fe3a1",
   "metadata": {},
   "source": [
    "Нам нужны только те партии, где все данные собраны правильно. Если в одной из колонок название которой содержит 'Wire' или 'Bulk' datetime метка раньше, чем самая ранняя метка в колонке 'Время замера' или позже чем  самая поздняя метка в колонке 'Время замера', то все данные с этим ключом key подлежат удалению, нас интересуют только те данные, где первая и последняя операция - замер температуры."
   ]
  },
  {
   "cell_type": "code",
   "execution_count": 8,
   "id": "245d3afe",
   "metadata": {
    "scrolled": true
   },
   "outputs": [
    {
     "name": "stdout",
     "output_type": "stream",
     "text": [
      "[279, 2500, 2501, 2502, 2503, 2504, 2505, 2506, 2507, 2508, 2509, 2510, 2511, 2512, 2513, 2514, 2515, 2516, 2517, 2518, 2519, 2520, 2521, 2522, 2523, 2524, 2525, 2526, 2527, 2528, 2529, 2530, 2531, 2532, 2533, 2534, 2535, 2536, 2537, 2538, 2539, 2540, 2541, 2542, 2543, 2544, 2545, 2546, 2547, 2548, 2549, 2550, 2551, 2552, 2553, 2554, 2555, 2556, 2557, 2558, 2559, 2560, 2561, 2562, 2563, 2564, 2565, 2566, 2567, 2568, 2569, 2570, 2571, 2572, 2573, 2574, 2575, 2576, 2577, 2578, 2579, 2580, 2581, 2582, 2583, 2584, 2585, 2586, 2587, 2588, 2589, 2590, 2591, 2592, 2593, 2594, 2595, 2596, 2597, 2598, 2599, 2600, 2601, 2602, 2603, 2604, 2605, 2606, 2607, 2608, 2609, 2610, 2611, 2612, 2613, 2614, 2615, 2616, 2617, 2618, 2619, 2620, 2621, 2622, 2623, 2630, 2631, 2632, 2633, 2634, 2635, 2636, 2637, 2638, 2639, 2640, 2641, 2642, 2643, 2644, 2645, 2646, 2647, 2648, 2649, 2650, 2651, 2652, 2653, 2654, 2655, 2656, 2657, 2658, 2659, 2660, 2661, 2662, 2663, 2664, 2665, 2666, 2667, 2668, 2669, 2670, 2671, 2672, 2673, 2674, 2675, 2676, 2677, 2678, 2679, 2680, 2681, 2682, 2684, 2685, 2686, 2687, 2688, 2689, 2690, 2691, 2692, 2693, 2694, 2695, 2696, 2697, 2698, 2699, 2700, 2701, 2702, 2703, 2704, 2705, 2706, 2707, 2708, 2709, 2710, 2711, 2712, 2713, 2714, 2715, 2716, 2717, 2718, 2719, 2720, 2721, 2722, 2723, 2724, 2725, 2726, 2727, 2728, 2729, 2730, 2731, 2732, 2733, 2734, 2735, 2736, 2737, 2738, 2739, 2740, 2741, 2742, 2743, 2744, 2745, 2746, 2747, 2748, 2749, 2750, 2751, 2752, 2753, 2754, 2755, 2756, 2757, 2758, 2759, 2760, 2761, 2762, 2763, 2764, 2765, 2766, 2767, 2768, 2769, 2770, 2771, 2772, 2773, 2774, 2775, 2776, 2777, 2778, 2779, 2780, 2781, 2782, 2783, 2784, 2785, 2786, 2787, 2793, 2794, 2795, 2796, 2797, 2798, 2799, 2800, 2801, 2802, 2803, 2804, 2805, 2806, 2807, 2808, 2809, 2810, 2811, 2812, 2813, 2816, 2817, 2818, 2819, 2820, 2821, 2822, 2823, 2824, 2825, 2826, 2827, 2828, 2829, 2830, 2831, 2832, 2833, 2834, 2835, 2836, 2837, 2838, 2839, 2840, 2841, 2842, 2843, 2844, 2845, 2851, 2852, 2853, 2854, 2855, 2856, 2857, 2858, 2859, 2860, 2861, 2862, 2864, 2865, 2866, 2867, 2868, 2869, 2870, 2877, 2878, 2879, 2880, 2881, 2882, 2883, 2884, 2885, 2886, 2887, 2888, 2889, 2890, 2891, 2892, 2893, 2894, 2895, 2896, 2897, 2898, 2899, 2900, 2901, 2902, 2903, 2904, 2905, 2906, 2907, 2908, 2909, 2910, 2911, 2912, 2913, 2914, 2915, 2916, 2917, 2918, 2919, 2920, 2921, 2922, 2923, 2924, 2925, 2926, 2927, 2928, 2929, 2930, 2931, 2932, 2933, 2934, 2935, 2936, 2937, 2938, 2939, 2940, 2941, 2942, 2943, 2944, 2945, 2946, 2947, 2948, 2949, 2950, 2951, 2952, 2953, 2954, 2955, 2956, 2957, 2958, 2959, 2960, 2961, 2962, 2963, 2964, 2965, 2966, 2967, 2968, 2969, 2970, 2971, 2972, 2973, 2974, 2975, 2976, 2977, 2978, 2979, 2980, 2981, 2982, 2983, 2984, 2985, 2986, 2987, 2988, 2989, 2990, 2991, 2992, 2993, 2994, 2995, 2996, 2997, 2998, 2999, 3000, 3001, 3002, 3003, 3004, 3005, 3006, 3007, 3008, 3009, 3010, 3011, 3012, 3013, 3014, 3015, 3016, 3017, 3018, 3019, 3020, 3021, 3022, 3023, 3024, 3025, 3026, 3027, 3028, 3029, 3030, 3031, 3032, 3033, 3034, 3041, 3042, 3043, 3044, 3045, 3046, 3047, 3048, 3049, 3050, 3051, 3052, 3053, 3054, 3055, 3056, 3057, 3058, 3059, 3060, 3061, 3062, 3063, 3064, 3065, 3066, 3067, 3068, 3069, 3070, 3071, 3072, 3073, 3074, 3075, 3076, 3077, 3078, 3079, 3080, 3081, 3082, 3083, 3084, 3085, 3086, 3087, 3088, 3089, 3090, 3091, 3092, 3093, 3094, 3095, 3096, 3097, 3098, 3099, 3100, 3101, 3102, 3103, 3104, 3105, 3106, 3107, 3108, 3109, 3110, 3111, 3112, 3113, 3114, 3115, 3116, 3117, 3118, 3119, 3120, 3121, 3122, 3123, 3124, 3125, 3126, 3127, 3128, 3129, 3130, 3131, 3132, 3133, 3134, 3135, 3136, 3137, 3138, 3139, 3140, 3141, 3142, 3143, 3144, 3145, 3146, 3147, 3148, 3149, 3150, 3151, 3152, 3153, 3154, 3155, 3156, 3157, 3158, 3159, 3160, 3161, 3162, 3163, 3164, 3165, 3166, 3167, 3168, 3169, 3170, 3171, 3172, 3173, 3174, 3175, 3176, 3177, 3178, 3179, 3180, 3181, 3182, 3183, 3184, 3185, 3186, 3187, 3188, 3189, 3190, 3191, 3192, 3193, 3194, 3195, 3196, 3197, 3198, 3199, 3201, 3202, 3203, 3204, 3205, 3206, 3208, 3209, 3210, 3211, 3212, 3213, 3214, 3215, 3216, 3217, 3218, 3219, 3220, 3221, 3222, 3223, 3224, 3225, 3226, 3227, 3228, 3229, 3230, 3231, 3232, 3233, 3234, 3235, 3236, 3237, 3238, 3239, 3240, 3241, 2624, 2626, 2627, 2629, 2788, 2789, 2790, 2791, 2792, 2814, 2815, 2846, 2847, 2848, 2849, 2850, 2871, 2872, 2873, 2874, 2875, 2876, 3035, 3036, 3037, 3038, 3039, 3040, 2625, 2628, 2863]\n"
     ]
    }
   ],
   "source": [
    "# Объединение данных\n",
    "merged_data = pd.merge(data_wire_time, data_bulk_time, on='key', how='outer')\n",
    "merged_data = pd.merge(merged_data, data_temp, on='key', how='outer')\n",
    "merged_data = pd.merge(merged_data, data_arc[['key', 'Начало нагрева дугой', 'Конец нагрева дугой']], on='key', how='left')\n",
    "\n",
    "# Преобразование столбцов Wire и Bulk в список всех соответствующих столбцов\n",
    "wire_columns = [f'Wire {i}' for i in range(1, 10)]\n",
    "bulk_columns = [f'Bulk {i}' for i in range(1, 16)]\n",
    "all_columns = wire_columns + bulk_columns\n",
    "\n",
    "# Создание нового столбца с минимальным значением datetime\n",
    "merged_data['min_datetime'] = merged_data[['Начало нагрева дугой', 'Конец нагрева дугой'] + all_columns].min(axis=1)\n",
    "\n",
    "# Создание нового столбца с максимальным значением datetime\n",
    "merged_data['max_datetime'] = merged_data[['Начало нагрева дугой', 'Конец нагрева дугой'] + all_columns].max(axis=1)\n",
    "\n",
    "# Создание нового столбца с минимальным значением Время замера для каждой партии key\n",
    "merged_data['min_measurement_time'] = merged_data.groupby('key')['Время замера'].transform('min')\n",
    "\n",
    "# Создание нового столбца с максимальным значением Время замера для каждой партии key\n",
    "merged_data['max_measurement_time'] = merged_data.groupby('key')['Время замера'].transform('max')\n",
    "\n",
    "# Функция для проверки условий\n",
    "def filter_conditions(group):\n",
    "    group = group.sort_values('Время замера', ascending=False)  # Сортировка по убыванию времени замера\n",
    "    return (\n",
    "        (group['min_datetime'].min() < group['min_measurement_time'].min() or\n",
    "         group['max_datetime'].max() > group['max_measurement_time'].max()) or\n",
    "        pd.isna(group['Температура'].iloc[0]) or\n",
    "        pd.isna(group['Температура'].iloc[-1])\n",
    "    )\n",
    "# Применение функции к каждой группе 'key'\n",
    "filtered_data = merged_data.groupby('key').filter(filter_conditions)\n",
    "\n",
    "# Получение списка ключей для удаления\n",
    "keys_to_remove = filtered_data['key'].unique().tolist()\n",
    "\n",
    "# Вывод списка ключей для удаления\n",
    "print(keys_to_remove)"
   ]
  },
  {
   "cell_type": "markdown",
   "id": "b8cc8e32",
   "metadata": {},
   "source": [
    "Были обнаружены партии, в которых измерение температуры не является первым и последним действием. Они подлежат удалению, так как не помогут в моделировании производственного процесса. Ниже можно посмотреть на пример такой партии"
   ]
  },
  {
   "cell_type": "code",
   "execution_count": 9,
   "id": "ea6b73fd",
   "metadata": {
    "scrolled": false
   },
   "outputs": [
    {
     "data": {
      "text/html": [
       "<div>\n",
       "<style scoped>\n",
       "    .dataframe tbody tr th:only-of-type {\n",
       "        vertical-align: middle;\n",
       "    }\n",
       "\n",
       "    .dataframe tbody tr th {\n",
       "        vertical-align: top;\n",
       "    }\n",
       "\n",
       "    .dataframe thead th {\n",
       "        text-align: right;\n",
       "    }\n",
       "</style>\n",
       "<table border=\"1\" class=\"dataframe\">\n",
       "  <thead>\n",
       "    <tr style=\"text-align: right;\">\n",
       "      <th></th>\n",
       "      <th>key</th>\n",
       "      <th>Wire 1</th>\n",
       "      <th>Wire 2</th>\n",
       "      <th>Wire 3</th>\n",
       "      <th>Wire 4</th>\n",
       "      <th>Wire 5</th>\n",
       "      <th>Wire 6</th>\n",
       "      <th>Wire 7</th>\n",
       "      <th>Wire 8</th>\n",
       "      <th>Wire 9</th>\n",
       "      <th>Bulk 1</th>\n",
       "      <th>Bulk 2</th>\n",
       "      <th>Bulk 3</th>\n",
       "      <th>Bulk 4</th>\n",
       "      <th>Bulk 5</th>\n",
       "      <th>Bulk 6</th>\n",
       "      <th>Bulk 7</th>\n",
       "      <th>Bulk 8</th>\n",
       "      <th>Bulk 9</th>\n",
       "      <th>Bulk 10</th>\n",
       "      <th>Bulk 11</th>\n",
       "      <th>Bulk 12</th>\n",
       "      <th>Bulk 13</th>\n",
       "      <th>Bulk 14</th>\n",
       "      <th>Bulk 15</th>\n",
       "      <th>Время замера</th>\n",
       "      <th>Температура</th>\n",
       "      <th>Начало нагрева дугой</th>\n",
       "      <th>Конец нагрева дугой</th>\n",
       "      <th>min_datetime</th>\n",
       "      <th>max_datetime</th>\n",
       "      <th>min_measurement_time</th>\n",
       "      <th>max_measurement_time</th>\n",
       "    </tr>\n",
       "  </thead>\n",
       "  <tbody>\n",
       "    <tr>\n",
       "      <th>68951</th>\n",
       "      <td>2500</td>\n",
       "      <td>2019-08-10 14:17:39</td>\n",
       "      <td>2019-08-10 14:09:36</td>\n",
       "      <td>NaT</td>\n",
       "      <td>NaT</td>\n",
       "      <td>NaT</td>\n",
       "      <td>NaT</td>\n",
       "      <td>NaT</td>\n",
       "      <td>NaT</td>\n",
       "      <td>NaT</td>\n",
       "      <td>NaT</td>\n",
       "      <td>NaT</td>\n",
       "      <td>2019-08-10 14:23:14</td>\n",
       "      <td>NaT</td>\n",
       "      <td>NaT</td>\n",
       "      <td>NaT</td>\n",
       "      <td>NaT</td>\n",
       "      <td>NaT</td>\n",
       "      <td>NaT</td>\n",
       "      <td>NaT</td>\n",
       "      <td>NaT</td>\n",
       "      <td>2019-08-10 14:17:39</td>\n",
       "      <td>NaT</td>\n",
       "      <td>2019-08-10 14:27:12</td>\n",
       "      <td>2019-08-10 14:23:14</td>\n",
       "      <td>2019-08-10 14:04:39</td>\n",
       "      <td>1539.0</td>\n",
       "      <td>2019-08-10 14:04:49</td>\n",
       "      <td>2019-08-10 14:09:25</td>\n",
       "      <td>2019-08-10 14:04:49</td>\n",
       "      <td>2019-08-10 14:27:12</td>\n",
       "      <td>2019-08-10 14:04:39</td>\n",
       "      <td>2019-08-10 14:29:39</td>\n",
       "    </tr>\n",
       "    <tr>\n",
       "      <th>68952</th>\n",
       "      <td>2500</td>\n",
       "      <td>2019-08-10 14:17:39</td>\n",
       "      <td>2019-08-10 14:09:36</td>\n",
       "      <td>NaT</td>\n",
       "      <td>NaT</td>\n",
       "      <td>NaT</td>\n",
       "      <td>NaT</td>\n",
       "      <td>NaT</td>\n",
       "      <td>NaT</td>\n",
       "      <td>NaT</td>\n",
       "      <td>NaT</td>\n",
       "      <td>NaT</td>\n",
       "      <td>2019-08-10 14:23:14</td>\n",
       "      <td>NaT</td>\n",
       "      <td>NaT</td>\n",
       "      <td>NaT</td>\n",
       "      <td>NaT</td>\n",
       "      <td>NaT</td>\n",
       "      <td>NaT</td>\n",
       "      <td>NaT</td>\n",
       "      <td>NaT</td>\n",
       "      <td>2019-08-10 14:17:39</td>\n",
       "      <td>NaT</td>\n",
       "      <td>2019-08-10 14:27:12</td>\n",
       "      <td>2019-08-10 14:23:14</td>\n",
       "      <td>2019-08-10 14:04:39</td>\n",
       "      <td>1539.0</td>\n",
       "      <td>2019-08-10 14:13:21</td>\n",
       "      <td>2019-08-10 14:17:22</td>\n",
       "      <td>2019-08-10 14:09:36</td>\n",
       "      <td>2019-08-10 14:27:12</td>\n",
       "      <td>2019-08-10 14:04:39</td>\n",
       "      <td>2019-08-10 14:29:39</td>\n",
       "    </tr>\n",
       "    <tr>\n",
       "      <th>68953</th>\n",
       "      <td>2500</td>\n",
       "      <td>2019-08-10 14:17:39</td>\n",
       "      <td>2019-08-10 14:09:36</td>\n",
       "      <td>NaT</td>\n",
       "      <td>NaT</td>\n",
       "      <td>NaT</td>\n",
       "      <td>NaT</td>\n",
       "      <td>NaT</td>\n",
       "      <td>NaT</td>\n",
       "      <td>NaT</td>\n",
       "      <td>NaT</td>\n",
       "      <td>NaT</td>\n",
       "      <td>2019-08-10 14:23:14</td>\n",
       "      <td>NaT</td>\n",
       "      <td>NaT</td>\n",
       "      <td>NaT</td>\n",
       "      <td>NaT</td>\n",
       "      <td>NaT</td>\n",
       "      <td>NaT</td>\n",
       "      <td>NaT</td>\n",
       "      <td>NaT</td>\n",
       "      <td>2019-08-10 14:17:39</td>\n",
       "      <td>NaT</td>\n",
       "      <td>2019-08-10 14:27:12</td>\n",
       "      <td>2019-08-10 14:23:14</td>\n",
       "      <td>2019-08-10 14:04:39</td>\n",
       "      <td>1539.0</td>\n",
       "      <td>2019-08-10 14:18:22</td>\n",
       "      <td>2019-08-10 14:23:02</td>\n",
       "      <td>2019-08-10 14:09:36</td>\n",
       "      <td>2019-08-10 14:27:12</td>\n",
       "      <td>2019-08-10 14:04:39</td>\n",
       "      <td>2019-08-10 14:29:39</td>\n",
       "    </tr>\n",
       "    <tr>\n",
       "      <th>68954</th>\n",
       "      <td>2500</td>\n",
       "      <td>2019-08-10 14:17:39</td>\n",
       "      <td>2019-08-10 14:09:36</td>\n",
       "      <td>NaT</td>\n",
       "      <td>NaT</td>\n",
       "      <td>NaT</td>\n",
       "      <td>NaT</td>\n",
       "      <td>NaT</td>\n",
       "      <td>NaT</td>\n",
       "      <td>NaT</td>\n",
       "      <td>NaT</td>\n",
       "      <td>NaT</td>\n",
       "      <td>2019-08-10 14:23:14</td>\n",
       "      <td>NaT</td>\n",
       "      <td>NaT</td>\n",
       "      <td>NaT</td>\n",
       "      <td>NaT</td>\n",
       "      <td>NaT</td>\n",
       "      <td>NaT</td>\n",
       "      <td>NaT</td>\n",
       "      <td>NaT</td>\n",
       "      <td>2019-08-10 14:17:39</td>\n",
       "      <td>NaT</td>\n",
       "      <td>2019-08-10 14:27:12</td>\n",
       "      <td>2019-08-10 14:23:14</td>\n",
       "      <td>2019-08-10 14:04:39</td>\n",
       "      <td>1539.0</td>\n",
       "      <td>2019-08-10 14:26:03</td>\n",
       "      <td>2019-08-10 14:27:00</td>\n",
       "      <td>2019-08-10 14:09:36</td>\n",
       "      <td>2019-08-10 14:27:12</td>\n",
       "      <td>2019-08-10 14:04:39</td>\n",
       "      <td>2019-08-10 14:29:39</td>\n",
       "    </tr>\n",
       "    <tr>\n",
       "      <th>68955</th>\n",
       "      <td>2500</td>\n",
       "      <td>2019-08-10 14:17:39</td>\n",
       "      <td>2019-08-10 14:09:36</td>\n",
       "      <td>NaT</td>\n",
       "      <td>NaT</td>\n",
       "      <td>NaT</td>\n",
       "      <td>NaT</td>\n",
       "      <td>NaT</td>\n",
       "      <td>NaT</td>\n",
       "      <td>NaT</td>\n",
       "      <td>NaT</td>\n",
       "      <td>NaT</td>\n",
       "      <td>2019-08-10 14:23:14</td>\n",
       "      <td>NaT</td>\n",
       "      <td>NaT</td>\n",
       "      <td>NaT</td>\n",
       "      <td>NaT</td>\n",
       "      <td>NaT</td>\n",
       "      <td>NaT</td>\n",
       "      <td>NaT</td>\n",
       "      <td>NaT</td>\n",
       "      <td>2019-08-10 14:17:39</td>\n",
       "      <td>NaT</td>\n",
       "      <td>2019-08-10 14:27:12</td>\n",
       "      <td>2019-08-10 14:23:14</td>\n",
       "      <td>2019-08-10 14:13:11</td>\n",
       "      <td>NaN</td>\n",
       "      <td>2019-08-10 14:04:49</td>\n",
       "      <td>2019-08-10 14:09:25</td>\n",
       "      <td>2019-08-10 14:04:49</td>\n",
       "      <td>2019-08-10 14:27:12</td>\n",
       "      <td>2019-08-10 14:04:39</td>\n",
       "      <td>2019-08-10 14:29:39</td>\n",
       "    </tr>\n",
       "    <tr>\n",
       "      <th>68956</th>\n",
       "      <td>2500</td>\n",
       "      <td>2019-08-10 14:17:39</td>\n",
       "      <td>2019-08-10 14:09:36</td>\n",
       "      <td>NaT</td>\n",
       "      <td>NaT</td>\n",
       "      <td>NaT</td>\n",
       "      <td>NaT</td>\n",
       "      <td>NaT</td>\n",
       "      <td>NaT</td>\n",
       "      <td>NaT</td>\n",
       "      <td>NaT</td>\n",
       "      <td>NaT</td>\n",
       "      <td>2019-08-10 14:23:14</td>\n",
       "      <td>NaT</td>\n",
       "      <td>NaT</td>\n",
       "      <td>NaT</td>\n",
       "      <td>NaT</td>\n",
       "      <td>NaT</td>\n",
       "      <td>NaT</td>\n",
       "      <td>NaT</td>\n",
       "      <td>NaT</td>\n",
       "      <td>2019-08-10 14:17:39</td>\n",
       "      <td>NaT</td>\n",
       "      <td>2019-08-10 14:27:12</td>\n",
       "      <td>2019-08-10 14:23:14</td>\n",
       "      <td>2019-08-10 14:13:11</td>\n",
       "      <td>NaN</td>\n",
       "      <td>2019-08-10 14:13:21</td>\n",
       "      <td>2019-08-10 14:17:22</td>\n",
       "      <td>2019-08-10 14:09:36</td>\n",
       "      <td>2019-08-10 14:27:12</td>\n",
       "      <td>2019-08-10 14:04:39</td>\n",
       "      <td>2019-08-10 14:29:39</td>\n",
       "    </tr>\n",
       "    <tr>\n",
       "      <th>68957</th>\n",
       "      <td>2500</td>\n",
       "      <td>2019-08-10 14:17:39</td>\n",
       "      <td>2019-08-10 14:09:36</td>\n",
       "      <td>NaT</td>\n",
       "      <td>NaT</td>\n",
       "      <td>NaT</td>\n",
       "      <td>NaT</td>\n",
       "      <td>NaT</td>\n",
       "      <td>NaT</td>\n",
       "      <td>NaT</td>\n",
       "      <td>NaT</td>\n",
       "      <td>NaT</td>\n",
       "      <td>2019-08-10 14:23:14</td>\n",
       "      <td>NaT</td>\n",
       "      <td>NaT</td>\n",
       "      <td>NaT</td>\n",
       "      <td>NaT</td>\n",
       "      <td>NaT</td>\n",
       "      <td>NaT</td>\n",
       "      <td>NaT</td>\n",
       "      <td>NaT</td>\n",
       "      <td>2019-08-10 14:17:39</td>\n",
       "      <td>NaT</td>\n",
       "      <td>2019-08-10 14:27:12</td>\n",
       "      <td>2019-08-10 14:23:14</td>\n",
       "      <td>2019-08-10 14:13:11</td>\n",
       "      <td>NaN</td>\n",
       "      <td>2019-08-10 14:18:22</td>\n",
       "      <td>2019-08-10 14:23:02</td>\n",
       "      <td>2019-08-10 14:09:36</td>\n",
       "      <td>2019-08-10 14:27:12</td>\n",
       "      <td>2019-08-10 14:04:39</td>\n",
       "      <td>2019-08-10 14:29:39</td>\n",
       "    </tr>\n",
       "    <tr>\n",
       "      <th>68958</th>\n",
       "      <td>2500</td>\n",
       "      <td>2019-08-10 14:17:39</td>\n",
       "      <td>2019-08-10 14:09:36</td>\n",
       "      <td>NaT</td>\n",
       "      <td>NaT</td>\n",
       "      <td>NaT</td>\n",
       "      <td>NaT</td>\n",
       "      <td>NaT</td>\n",
       "      <td>NaT</td>\n",
       "      <td>NaT</td>\n",
       "      <td>NaT</td>\n",
       "      <td>NaT</td>\n",
       "      <td>2019-08-10 14:23:14</td>\n",
       "      <td>NaT</td>\n",
       "      <td>NaT</td>\n",
       "      <td>NaT</td>\n",
       "      <td>NaT</td>\n",
       "      <td>NaT</td>\n",
       "      <td>NaT</td>\n",
       "      <td>NaT</td>\n",
       "      <td>NaT</td>\n",
       "      <td>2019-08-10 14:17:39</td>\n",
       "      <td>NaT</td>\n",
       "      <td>2019-08-10 14:27:12</td>\n",
       "      <td>2019-08-10 14:23:14</td>\n",
       "      <td>2019-08-10 14:13:11</td>\n",
       "      <td>NaN</td>\n",
       "      <td>2019-08-10 14:26:03</td>\n",
       "      <td>2019-08-10 14:27:00</td>\n",
       "      <td>2019-08-10 14:09:36</td>\n",
       "      <td>2019-08-10 14:27:12</td>\n",
       "      <td>2019-08-10 14:04:39</td>\n",
       "      <td>2019-08-10 14:29:39</td>\n",
       "    </tr>\n",
       "    <tr>\n",
       "      <th>68959</th>\n",
       "      <td>2500</td>\n",
       "      <td>2019-08-10 14:17:39</td>\n",
       "      <td>2019-08-10 14:09:36</td>\n",
       "      <td>NaT</td>\n",
       "      <td>NaT</td>\n",
       "      <td>NaT</td>\n",
       "      <td>NaT</td>\n",
       "      <td>NaT</td>\n",
       "      <td>NaT</td>\n",
       "      <td>NaT</td>\n",
       "      <td>NaT</td>\n",
       "      <td>NaT</td>\n",
       "      <td>2019-08-10 14:23:14</td>\n",
       "      <td>NaT</td>\n",
       "      <td>NaT</td>\n",
       "      <td>NaT</td>\n",
       "      <td>NaT</td>\n",
       "      <td>NaT</td>\n",
       "      <td>NaT</td>\n",
       "      <td>NaT</td>\n",
       "      <td>NaT</td>\n",
       "      <td>2019-08-10 14:17:39</td>\n",
       "      <td>NaT</td>\n",
       "      <td>2019-08-10 14:27:12</td>\n",
       "      <td>2019-08-10 14:23:14</td>\n",
       "      <td>2019-08-10 14:18:12</td>\n",
       "      <td>NaN</td>\n",
       "      <td>2019-08-10 14:04:49</td>\n",
       "      <td>2019-08-10 14:09:25</td>\n",
       "      <td>2019-08-10 14:04:49</td>\n",
       "      <td>2019-08-10 14:27:12</td>\n",
       "      <td>2019-08-10 14:04:39</td>\n",
       "      <td>2019-08-10 14:29:39</td>\n",
       "    </tr>\n",
       "    <tr>\n",
       "      <th>68960</th>\n",
       "      <td>2500</td>\n",
       "      <td>2019-08-10 14:17:39</td>\n",
       "      <td>2019-08-10 14:09:36</td>\n",
       "      <td>NaT</td>\n",
       "      <td>NaT</td>\n",
       "      <td>NaT</td>\n",
       "      <td>NaT</td>\n",
       "      <td>NaT</td>\n",
       "      <td>NaT</td>\n",
       "      <td>NaT</td>\n",
       "      <td>NaT</td>\n",
       "      <td>NaT</td>\n",
       "      <td>2019-08-10 14:23:14</td>\n",
       "      <td>NaT</td>\n",
       "      <td>NaT</td>\n",
       "      <td>NaT</td>\n",
       "      <td>NaT</td>\n",
       "      <td>NaT</td>\n",
       "      <td>NaT</td>\n",
       "      <td>NaT</td>\n",
       "      <td>NaT</td>\n",
       "      <td>2019-08-10 14:17:39</td>\n",
       "      <td>NaT</td>\n",
       "      <td>2019-08-10 14:27:12</td>\n",
       "      <td>2019-08-10 14:23:14</td>\n",
       "      <td>2019-08-10 14:18:12</td>\n",
       "      <td>NaN</td>\n",
       "      <td>2019-08-10 14:13:21</td>\n",
       "      <td>2019-08-10 14:17:22</td>\n",
       "      <td>2019-08-10 14:09:36</td>\n",
       "      <td>2019-08-10 14:27:12</td>\n",
       "      <td>2019-08-10 14:04:39</td>\n",
       "      <td>2019-08-10 14:29:39</td>\n",
       "    </tr>\n",
       "    <tr>\n",
       "      <th>68961</th>\n",
       "      <td>2500</td>\n",
       "      <td>2019-08-10 14:17:39</td>\n",
       "      <td>2019-08-10 14:09:36</td>\n",
       "      <td>NaT</td>\n",
       "      <td>NaT</td>\n",
       "      <td>NaT</td>\n",
       "      <td>NaT</td>\n",
       "      <td>NaT</td>\n",
       "      <td>NaT</td>\n",
       "      <td>NaT</td>\n",
       "      <td>NaT</td>\n",
       "      <td>NaT</td>\n",
       "      <td>2019-08-10 14:23:14</td>\n",
       "      <td>NaT</td>\n",
       "      <td>NaT</td>\n",
       "      <td>NaT</td>\n",
       "      <td>NaT</td>\n",
       "      <td>NaT</td>\n",
       "      <td>NaT</td>\n",
       "      <td>NaT</td>\n",
       "      <td>NaT</td>\n",
       "      <td>2019-08-10 14:17:39</td>\n",
       "      <td>NaT</td>\n",
       "      <td>2019-08-10 14:27:12</td>\n",
       "      <td>2019-08-10 14:23:14</td>\n",
       "      <td>2019-08-10 14:18:12</td>\n",
       "      <td>NaN</td>\n",
       "      <td>2019-08-10 14:18:22</td>\n",
       "      <td>2019-08-10 14:23:02</td>\n",
       "      <td>2019-08-10 14:09:36</td>\n",
       "      <td>2019-08-10 14:27:12</td>\n",
       "      <td>2019-08-10 14:04:39</td>\n",
       "      <td>2019-08-10 14:29:39</td>\n",
       "    </tr>\n",
       "    <tr>\n",
       "      <th>68962</th>\n",
       "      <td>2500</td>\n",
       "      <td>2019-08-10 14:17:39</td>\n",
       "      <td>2019-08-10 14:09:36</td>\n",
       "      <td>NaT</td>\n",
       "      <td>NaT</td>\n",
       "      <td>NaT</td>\n",
       "      <td>NaT</td>\n",
       "      <td>NaT</td>\n",
       "      <td>NaT</td>\n",
       "      <td>NaT</td>\n",
       "      <td>NaT</td>\n",
       "      <td>NaT</td>\n",
       "      <td>2019-08-10 14:23:14</td>\n",
       "      <td>NaT</td>\n",
       "      <td>NaT</td>\n",
       "      <td>NaT</td>\n",
       "      <td>NaT</td>\n",
       "      <td>NaT</td>\n",
       "      <td>NaT</td>\n",
       "      <td>NaT</td>\n",
       "      <td>NaT</td>\n",
       "      <td>2019-08-10 14:17:39</td>\n",
       "      <td>NaT</td>\n",
       "      <td>2019-08-10 14:27:12</td>\n",
       "      <td>2019-08-10 14:23:14</td>\n",
       "      <td>2019-08-10 14:18:12</td>\n",
       "      <td>NaN</td>\n",
       "      <td>2019-08-10 14:26:03</td>\n",
       "      <td>2019-08-10 14:27:00</td>\n",
       "      <td>2019-08-10 14:09:36</td>\n",
       "      <td>2019-08-10 14:27:12</td>\n",
       "      <td>2019-08-10 14:04:39</td>\n",
       "      <td>2019-08-10 14:29:39</td>\n",
       "    </tr>\n",
       "    <tr>\n",
       "      <th>68963</th>\n",
       "      <td>2500</td>\n",
       "      <td>2019-08-10 14:17:39</td>\n",
       "      <td>2019-08-10 14:09:36</td>\n",
       "      <td>NaT</td>\n",
       "      <td>NaT</td>\n",
       "      <td>NaT</td>\n",
       "      <td>NaT</td>\n",
       "      <td>NaT</td>\n",
       "      <td>NaT</td>\n",
       "      <td>NaT</td>\n",
       "      <td>NaT</td>\n",
       "      <td>NaT</td>\n",
       "      <td>2019-08-10 14:23:14</td>\n",
       "      <td>NaT</td>\n",
       "      <td>NaT</td>\n",
       "      <td>NaT</td>\n",
       "      <td>NaT</td>\n",
       "      <td>NaT</td>\n",
       "      <td>NaT</td>\n",
       "      <td>NaT</td>\n",
       "      <td>NaT</td>\n",
       "      <td>2019-08-10 14:17:39</td>\n",
       "      <td>NaT</td>\n",
       "      <td>2019-08-10 14:27:12</td>\n",
       "      <td>2019-08-10 14:23:14</td>\n",
       "      <td>2019-08-10 14:25:53</td>\n",
       "      <td>NaN</td>\n",
       "      <td>2019-08-10 14:04:49</td>\n",
       "      <td>2019-08-10 14:09:25</td>\n",
       "      <td>2019-08-10 14:04:49</td>\n",
       "      <td>2019-08-10 14:27:12</td>\n",
       "      <td>2019-08-10 14:04:39</td>\n",
       "      <td>2019-08-10 14:29:39</td>\n",
       "    </tr>\n",
       "    <tr>\n",
       "      <th>68964</th>\n",
       "      <td>2500</td>\n",
       "      <td>2019-08-10 14:17:39</td>\n",
       "      <td>2019-08-10 14:09:36</td>\n",
       "      <td>NaT</td>\n",
       "      <td>NaT</td>\n",
       "      <td>NaT</td>\n",
       "      <td>NaT</td>\n",
       "      <td>NaT</td>\n",
       "      <td>NaT</td>\n",
       "      <td>NaT</td>\n",
       "      <td>NaT</td>\n",
       "      <td>NaT</td>\n",
       "      <td>2019-08-10 14:23:14</td>\n",
       "      <td>NaT</td>\n",
       "      <td>NaT</td>\n",
       "      <td>NaT</td>\n",
       "      <td>NaT</td>\n",
       "      <td>NaT</td>\n",
       "      <td>NaT</td>\n",
       "      <td>NaT</td>\n",
       "      <td>NaT</td>\n",
       "      <td>2019-08-10 14:17:39</td>\n",
       "      <td>NaT</td>\n",
       "      <td>2019-08-10 14:27:12</td>\n",
       "      <td>2019-08-10 14:23:14</td>\n",
       "      <td>2019-08-10 14:25:53</td>\n",
       "      <td>NaN</td>\n",
       "      <td>2019-08-10 14:13:21</td>\n",
       "      <td>2019-08-10 14:17:22</td>\n",
       "      <td>2019-08-10 14:09:36</td>\n",
       "      <td>2019-08-10 14:27:12</td>\n",
       "      <td>2019-08-10 14:04:39</td>\n",
       "      <td>2019-08-10 14:29:39</td>\n",
       "    </tr>\n",
       "    <tr>\n",
       "      <th>68965</th>\n",
       "      <td>2500</td>\n",
       "      <td>2019-08-10 14:17:39</td>\n",
       "      <td>2019-08-10 14:09:36</td>\n",
       "      <td>NaT</td>\n",
       "      <td>NaT</td>\n",
       "      <td>NaT</td>\n",
       "      <td>NaT</td>\n",
       "      <td>NaT</td>\n",
       "      <td>NaT</td>\n",
       "      <td>NaT</td>\n",
       "      <td>NaT</td>\n",
       "      <td>NaT</td>\n",
       "      <td>2019-08-10 14:23:14</td>\n",
       "      <td>NaT</td>\n",
       "      <td>NaT</td>\n",
       "      <td>NaT</td>\n",
       "      <td>NaT</td>\n",
       "      <td>NaT</td>\n",
       "      <td>NaT</td>\n",
       "      <td>NaT</td>\n",
       "      <td>NaT</td>\n",
       "      <td>2019-08-10 14:17:39</td>\n",
       "      <td>NaT</td>\n",
       "      <td>2019-08-10 14:27:12</td>\n",
       "      <td>2019-08-10 14:23:14</td>\n",
       "      <td>2019-08-10 14:25:53</td>\n",
       "      <td>NaN</td>\n",
       "      <td>2019-08-10 14:18:22</td>\n",
       "      <td>2019-08-10 14:23:02</td>\n",
       "      <td>2019-08-10 14:09:36</td>\n",
       "      <td>2019-08-10 14:27:12</td>\n",
       "      <td>2019-08-10 14:04:39</td>\n",
       "      <td>2019-08-10 14:29:39</td>\n",
       "    </tr>\n",
       "    <tr>\n",
       "      <th>68966</th>\n",
       "      <td>2500</td>\n",
       "      <td>2019-08-10 14:17:39</td>\n",
       "      <td>2019-08-10 14:09:36</td>\n",
       "      <td>NaT</td>\n",
       "      <td>NaT</td>\n",
       "      <td>NaT</td>\n",
       "      <td>NaT</td>\n",
       "      <td>NaT</td>\n",
       "      <td>NaT</td>\n",
       "      <td>NaT</td>\n",
       "      <td>NaT</td>\n",
       "      <td>NaT</td>\n",
       "      <td>2019-08-10 14:23:14</td>\n",
       "      <td>NaT</td>\n",
       "      <td>NaT</td>\n",
       "      <td>NaT</td>\n",
       "      <td>NaT</td>\n",
       "      <td>NaT</td>\n",
       "      <td>NaT</td>\n",
       "      <td>NaT</td>\n",
       "      <td>NaT</td>\n",
       "      <td>2019-08-10 14:17:39</td>\n",
       "      <td>NaT</td>\n",
       "      <td>2019-08-10 14:27:12</td>\n",
       "      <td>2019-08-10 14:23:14</td>\n",
       "      <td>2019-08-10 14:25:53</td>\n",
       "      <td>NaN</td>\n",
       "      <td>2019-08-10 14:26:03</td>\n",
       "      <td>2019-08-10 14:27:00</td>\n",
       "      <td>2019-08-10 14:09:36</td>\n",
       "      <td>2019-08-10 14:27:12</td>\n",
       "      <td>2019-08-10 14:04:39</td>\n",
       "      <td>2019-08-10 14:29:39</td>\n",
       "    </tr>\n",
       "    <tr>\n",
       "      <th>68967</th>\n",
       "      <td>2500</td>\n",
       "      <td>2019-08-10 14:17:39</td>\n",
       "      <td>2019-08-10 14:09:36</td>\n",
       "      <td>NaT</td>\n",
       "      <td>NaT</td>\n",
       "      <td>NaT</td>\n",
       "      <td>NaT</td>\n",
       "      <td>NaT</td>\n",
       "      <td>NaT</td>\n",
       "      <td>NaT</td>\n",
       "      <td>NaT</td>\n",
       "      <td>NaT</td>\n",
       "      <td>2019-08-10 14:23:14</td>\n",
       "      <td>NaT</td>\n",
       "      <td>NaT</td>\n",
       "      <td>NaT</td>\n",
       "      <td>NaT</td>\n",
       "      <td>NaT</td>\n",
       "      <td>NaT</td>\n",
       "      <td>NaT</td>\n",
       "      <td>NaT</td>\n",
       "      <td>2019-08-10 14:17:39</td>\n",
       "      <td>NaT</td>\n",
       "      <td>2019-08-10 14:27:12</td>\n",
       "      <td>2019-08-10 14:23:14</td>\n",
       "      <td>2019-08-10 14:29:39</td>\n",
       "      <td>NaN</td>\n",
       "      <td>2019-08-10 14:04:49</td>\n",
       "      <td>2019-08-10 14:09:25</td>\n",
       "      <td>2019-08-10 14:04:49</td>\n",
       "      <td>2019-08-10 14:27:12</td>\n",
       "      <td>2019-08-10 14:04:39</td>\n",
       "      <td>2019-08-10 14:29:39</td>\n",
       "    </tr>\n",
       "    <tr>\n",
       "      <th>68968</th>\n",
       "      <td>2500</td>\n",
       "      <td>2019-08-10 14:17:39</td>\n",
       "      <td>2019-08-10 14:09:36</td>\n",
       "      <td>NaT</td>\n",
       "      <td>NaT</td>\n",
       "      <td>NaT</td>\n",
       "      <td>NaT</td>\n",
       "      <td>NaT</td>\n",
       "      <td>NaT</td>\n",
       "      <td>NaT</td>\n",
       "      <td>NaT</td>\n",
       "      <td>NaT</td>\n",
       "      <td>2019-08-10 14:23:14</td>\n",
       "      <td>NaT</td>\n",
       "      <td>NaT</td>\n",
       "      <td>NaT</td>\n",
       "      <td>NaT</td>\n",
       "      <td>NaT</td>\n",
       "      <td>NaT</td>\n",
       "      <td>NaT</td>\n",
       "      <td>NaT</td>\n",
       "      <td>2019-08-10 14:17:39</td>\n",
       "      <td>NaT</td>\n",
       "      <td>2019-08-10 14:27:12</td>\n",
       "      <td>2019-08-10 14:23:14</td>\n",
       "      <td>2019-08-10 14:29:39</td>\n",
       "      <td>NaN</td>\n",
       "      <td>2019-08-10 14:13:21</td>\n",
       "      <td>2019-08-10 14:17:22</td>\n",
       "      <td>2019-08-10 14:09:36</td>\n",
       "      <td>2019-08-10 14:27:12</td>\n",
       "      <td>2019-08-10 14:04:39</td>\n",
       "      <td>2019-08-10 14:29:39</td>\n",
       "    </tr>\n",
       "    <tr>\n",
       "      <th>68969</th>\n",
       "      <td>2500</td>\n",
       "      <td>2019-08-10 14:17:39</td>\n",
       "      <td>2019-08-10 14:09:36</td>\n",
       "      <td>NaT</td>\n",
       "      <td>NaT</td>\n",
       "      <td>NaT</td>\n",
       "      <td>NaT</td>\n",
       "      <td>NaT</td>\n",
       "      <td>NaT</td>\n",
       "      <td>NaT</td>\n",
       "      <td>NaT</td>\n",
       "      <td>NaT</td>\n",
       "      <td>2019-08-10 14:23:14</td>\n",
       "      <td>NaT</td>\n",
       "      <td>NaT</td>\n",
       "      <td>NaT</td>\n",
       "      <td>NaT</td>\n",
       "      <td>NaT</td>\n",
       "      <td>NaT</td>\n",
       "      <td>NaT</td>\n",
       "      <td>NaT</td>\n",
       "      <td>2019-08-10 14:17:39</td>\n",
       "      <td>NaT</td>\n",
       "      <td>2019-08-10 14:27:12</td>\n",
       "      <td>2019-08-10 14:23:14</td>\n",
       "      <td>2019-08-10 14:29:39</td>\n",
       "      <td>NaN</td>\n",
       "      <td>2019-08-10 14:18:22</td>\n",
       "      <td>2019-08-10 14:23:02</td>\n",
       "      <td>2019-08-10 14:09:36</td>\n",
       "      <td>2019-08-10 14:27:12</td>\n",
       "      <td>2019-08-10 14:04:39</td>\n",
       "      <td>2019-08-10 14:29:39</td>\n",
       "    </tr>\n",
       "    <tr>\n",
       "      <th>68970</th>\n",
       "      <td>2500</td>\n",
       "      <td>2019-08-10 14:17:39</td>\n",
       "      <td>2019-08-10 14:09:36</td>\n",
       "      <td>NaT</td>\n",
       "      <td>NaT</td>\n",
       "      <td>NaT</td>\n",
       "      <td>NaT</td>\n",
       "      <td>NaT</td>\n",
       "      <td>NaT</td>\n",
       "      <td>NaT</td>\n",
       "      <td>NaT</td>\n",
       "      <td>NaT</td>\n",
       "      <td>2019-08-10 14:23:14</td>\n",
       "      <td>NaT</td>\n",
       "      <td>NaT</td>\n",
       "      <td>NaT</td>\n",
       "      <td>NaT</td>\n",
       "      <td>NaT</td>\n",
       "      <td>NaT</td>\n",
       "      <td>NaT</td>\n",
       "      <td>NaT</td>\n",
       "      <td>2019-08-10 14:17:39</td>\n",
       "      <td>NaT</td>\n",
       "      <td>2019-08-10 14:27:12</td>\n",
       "      <td>2019-08-10 14:23:14</td>\n",
       "      <td>2019-08-10 14:29:39</td>\n",
       "      <td>NaN</td>\n",
       "      <td>2019-08-10 14:26:03</td>\n",
       "      <td>2019-08-10 14:27:00</td>\n",
       "      <td>2019-08-10 14:09:36</td>\n",
       "      <td>2019-08-10 14:27:12</td>\n",
       "      <td>2019-08-10 14:04:39</td>\n",
       "      <td>2019-08-10 14:29:39</td>\n",
       "    </tr>\n",
       "  </tbody>\n",
       "</table>\n",
       "</div>"
      ],
      "text/plain": [
       "        key              Wire 1              Wire 2 Wire 3 Wire 4 Wire 5  \\\n",
       "68951  2500 2019-08-10 14:17:39 2019-08-10 14:09:36    NaT    NaT    NaT   \n",
       "68952  2500 2019-08-10 14:17:39 2019-08-10 14:09:36    NaT    NaT    NaT   \n",
       "68953  2500 2019-08-10 14:17:39 2019-08-10 14:09:36    NaT    NaT    NaT   \n",
       "68954  2500 2019-08-10 14:17:39 2019-08-10 14:09:36    NaT    NaT    NaT   \n",
       "68955  2500 2019-08-10 14:17:39 2019-08-10 14:09:36    NaT    NaT    NaT   \n",
       "68956  2500 2019-08-10 14:17:39 2019-08-10 14:09:36    NaT    NaT    NaT   \n",
       "68957  2500 2019-08-10 14:17:39 2019-08-10 14:09:36    NaT    NaT    NaT   \n",
       "68958  2500 2019-08-10 14:17:39 2019-08-10 14:09:36    NaT    NaT    NaT   \n",
       "68959  2500 2019-08-10 14:17:39 2019-08-10 14:09:36    NaT    NaT    NaT   \n",
       "68960  2500 2019-08-10 14:17:39 2019-08-10 14:09:36    NaT    NaT    NaT   \n",
       "68961  2500 2019-08-10 14:17:39 2019-08-10 14:09:36    NaT    NaT    NaT   \n",
       "68962  2500 2019-08-10 14:17:39 2019-08-10 14:09:36    NaT    NaT    NaT   \n",
       "68963  2500 2019-08-10 14:17:39 2019-08-10 14:09:36    NaT    NaT    NaT   \n",
       "68964  2500 2019-08-10 14:17:39 2019-08-10 14:09:36    NaT    NaT    NaT   \n",
       "68965  2500 2019-08-10 14:17:39 2019-08-10 14:09:36    NaT    NaT    NaT   \n",
       "68966  2500 2019-08-10 14:17:39 2019-08-10 14:09:36    NaT    NaT    NaT   \n",
       "68967  2500 2019-08-10 14:17:39 2019-08-10 14:09:36    NaT    NaT    NaT   \n",
       "68968  2500 2019-08-10 14:17:39 2019-08-10 14:09:36    NaT    NaT    NaT   \n",
       "68969  2500 2019-08-10 14:17:39 2019-08-10 14:09:36    NaT    NaT    NaT   \n",
       "68970  2500 2019-08-10 14:17:39 2019-08-10 14:09:36    NaT    NaT    NaT   \n",
       "\n",
       "      Wire 6 Wire 7 Wire 8 Wire 9 Bulk 1 Bulk 2              Bulk 3 Bulk 4  \\\n",
       "68951    NaT    NaT    NaT    NaT    NaT    NaT 2019-08-10 14:23:14    NaT   \n",
       "68952    NaT    NaT    NaT    NaT    NaT    NaT 2019-08-10 14:23:14    NaT   \n",
       "68953    NaT    NaT    NaT    NaT    NaT    NaT 2019-08-10 14:23:14    NaT   \n",
       "68954    NaT    NaT    NaT    NaT    NaT    NaT 2019-08-10 14:23:14    NaT   \n",
       "68955    NaT    NaT    NaT    NaT    NaT    NaT 2019-08-10 14:23:14    NaT   \n",
       "68956    NaT    NaT    NaT    NaT    NaT    NaT 2019-08-10 14:23:14    NaT   \n",
       "68957    NaT    NaT    NaT    NaT    NaT    NaT 2019-08-10 14:23:14    NaT   \n",
       "68958    NaT    NaT    NaT    NaT    NaT    NaT 2019-08-10 14:23:14    NaT   \n",
       "68959    NaT    NaT    NaT    NaT    NaT    NaT 2019-08-10 14:23:14    NaT   \n",
       "68960    NaT    NaT    NaT    NaT    NaT    NaT 2019-08-10 14:23:14    NaT   \n",
       "68961    NaT    NaT    NaT    NaT    NaT    NaT 2019-08-10 14:23:14    NaT   \n",
       "68962    NaT    NaT    NaT    NaT    NaT    NaT 2019-08-10 14:23:14    NaT   \n",
       "68963    NaT    NaT    NaT    NaT    NaT    NaT 2019-08-10 14:23:14    NaT   \n",
       "68964    NaT    NaT    NaT    NaT    NaT    NaT 2019-08-10 14:23:14    NaT   \n",
       "68965    NaT    NaT    NaT    NaT    NaT    NaT 2019-08-10 14:23:14    NaT   \n",
       "68966    NaT    NaT    NaT    NaT    NaT    NaT 2019-08-10 14:23:14    NaT   \n",
       "68967    NaT    NaT    NaT    NaT    NaT    NaT 2019-08-10 14:23:14    NaT   \n",
       "68968    NaT    NaT    NaT    NaT    NaT    NaT 2019-08-10 14:23:14    NaT   \n",
       "68969    NaT    NaT    NaT    NaT    NaT    NaT 2019-08-10 14:23:14    NaT   \n",
       "68970    NaT    NaT    NaT    NaT    NaT    NaT 2019-08-10 14:23:14    NaT   \n",
       "\n",
       "      Bulk 5 Bulk 6 Bulk 7 Bulk 8 Bulk 9 Bulk 10 Bulk 11             Bulk 12  \\\n",
       "68951    NaT    NaT    NaT    NaT    NaT     NaT     NaT 2019-08-10 14:17:39   \n",
       "68952    NaT    NaT    NaT    NaT    NaT     NaT     NaT 2019-08-10 14:17:39   \n",
       "68953    NaT    NaT    NaT    NaT    NaT     NaT     NaT 2019-08-10 14:17:39   \n",
       "68954    NaT    NaT    NaT    NaT    NaT     NaT     NaT 2019-08-10 14:17:39   \n",
       "68955    NaT    NaT    NaT    NaT    NaT     NaT     NaT 2019-08-10 14:17:39   \n",
       "68956    NaT    NaT    NaT    NaT    NaT     NaT     NaT 2019-08-10 14:17:39   \n",
       "68957    NaT    NaT    NaT    NaT    NaT     NaT     NaT 2019-08-10 14:17:39   \n",
       "68958    NaT    NaT    NaT    NaT    NaT     NaT     NaT 2019-08-10 14:17:39   \n",
       "68959    NaT    NaT    NaT    NaT    NaT     NaT     NaT 2019-08-10 14:17:39   \n",
       "68960    NaT    NaT    NaT    NaT    NaT     NaT     NaT 2019-08-10 14:17:39   \n",
       "68961    NaT    NaT    NaT    NaT    NaT     NaT     NaT 2019-08-10 14:17:39   \n",
       "68962    NaT    NaT    NaT    NaT    NaT     NaT     NaT 2019-08-10 14:17:39   \n",
       "68963    NaT    NaT    NaT    NaT    NaT     NaT     NaT 2019-08-10 14:17:39   \n",
       "68964    NaT    NaT    NaT    NaT    NaT     NaT     NaT 2019-08-10 14:17:39   \n",
       "68965    NaT    NaT    NaT    NaT    NaT     NaT     NaT 2019-08-10 14:17:39   \n",
       "68966    NaT    NaT    NaT    NaT    NaT     NaT     NaT 2019-08-10 14:17:39   \n",
       "68967    NaT    NaT    NaT    NaT    NaT     NaT     NaT 2019-08-10 14:17:39   \n",
       "68968    NaT    NaT    NaT    NaT    NaT     NaT     NaT 2019-08-10 14:17:39   \n",
       "68969    NaT    NaT    NaT    NaT    NaT     NaT     NaT 2019-08-10 14:17:39   \n",
       "68970    NaT    NaT    NaT    NaT    NaT     NaT     NaT 2019-08-10 14:17:39   \n",
       "\n",
       "      Bulk 13             Bulk 14             Bulk 15        Время замера  \\\n",
       "68951     NaT 2019-08-10 14:27:12 2019-08-10 14:23:14 2019-08-10 14:04:39   \n",
       "68952     NaT 2019-08-10 14:27:12 2019-08-10 14:23:14 2019-08-10 14:04:39   \n",
       "68953     NaT 2019-08-10 14:27:12 2019-08-10 14:23:14 2019-08-10 14:04:39   \n",
       "68954     NaT 2019-08-10 14:27:12 2019-08-10 14:23:14 2019-08-10 14:04:39   \n",
       "68955     NaT 2019-08-10 14:27:12 2019-08-10 14:23:14 2019-08-10 14:13:11   \n",
       "68956     NaT 2019-08-10 14:27:12 2019-08-10 14:23:14 2019-08-10 14:13:11   \n",
       "68957     NaT 2019-08-10 14:27:12 2019-08-10 14:23:14 2019-08-10 14:13:11   \n",
       "68958     NaT 2019-08-10 14:27:12 2019-08-10 14:23:14 2019-08-10 14:13:11   \n",
       "68959     NaT 2019-08-10 14:27:12 2019-08-10 14:23:14 2019-08-10 14:18:12   \n",
       "68960     NaT 2019-08-10 14:27:12 2019-08-10 14:23:14 2019-08-10 14:18:12   \n",
       "68961     NaT 2019-08-10 14:27:12 2019-08-10 14:23:14 2019-08-10 14:18:12   \n",
       "68962     NaT 2019-08-10 14:27:12 2019-08-10 14:23:14 2019-08-10 14:18:12   \n",
       "68963     NaT 2019-08-10 14:27:12 2019-08-10 14:23:14 2019-08-10 14:25:53   \n",
       "68964     NaT 2019-08-10 14:27:12 2019-08-10 14:23:14 2019-08-10 14:25:53   \n",
       "68965     NaT 2019-08-10 14:27:12 2019-08-10 14:23:14 2019-08-10 14:25:53   \n",
       "68966     NaT 2019-08-10 14:27:12 2019-08-10 14:23:14 2019-08-10 14:25:53   \n",
       "68967     NaT 2019-08-10 14:27:12 2019-08-10 14:23:14 2019-08-10 14:29:39   \n",
       "68968     NaT 2019-08-10 14:27:12 2019-08-10 14:23:14 2019-08-10 14:29:39   \n",
       "68969     NaT 2019-08-10 14:27:12 2019-08-10 14:23:14 2019-08-10 14:29:39   \n",
       "68970     NaT 2019-08-10 14:27:12 2019-08-10 14:23:14 2019-08-10 14:29:39   \n",
       "\n",
       "       Температура Начало нагрева дугой Конец нагрева дугой  \\\n",
       "68951       1539.0  2019-08-10 14:04:49 2019-08-10 14:09:25   \n",
       "68952       1539.0  2019-08-10 14:13:21 2019-08-10 14:17:22   \n",
       "68953       1539.0  2019-08-10 14:18:22 2019-08-10 14:23:02   \n",
       "68954       1539.0  2019-08-10 14:26:03 2019-08-10 14:27:00   \n",
       "68955          NaN  2019-08-10 14:04:49 2019-08-10 14:09:25   \n",
       "68956          NaN  2019-08-10 14:13:21 2019-08-10 14:17:22   \n",
       "68957          NaN  2019-08-10 14:18:22 2019-08-10 14:23:02   \n",
       "68958          NaN  2019-08-10 14:26:03 2019-08-10 14:27:00   \n",
       "68959          NaN  2019-08-10 14:04:49 2019-08-10 14:09:25   \n",
       "68960          NaN  2019-08-10 14:13:21 2019-08-10 14:17:22   \n",
       "68961          NaN  2019-08-10 14:18:22 2019-08-10 14:23:02   \n",
       "68962          NaN  2019-08-10 14:26:03 2019-08-10 14:27:00   \n",
       "68963          NaN  2019-08-10 14:04:49 2019-08-10 14:09:25   \n",
       "68964          NaN  2019-08-10 14:13:21 2019-08-10 14:17:22   \n",
       "68965          NaN  2019-08-10 14:18:22 2019-08-10 14:23:02   \n",
       "68966          NaN  2019-08-10 14:26:03 2019-08-10 14:27:00   \n",
       "68967          NaN  2019-08-10 14:04:49 2019-08-10 14:09:25   \n",
       "68968          NaN  2019-08-10 14:13:21 2019-08-10 14:17:22   \n",
       "68969          NaN  2019-08-10 14:18:22 2019-08-10 14:23:02   \n",
       "68970          NaN  2019-08-10 14:26:03 2019-08-10 14:27:00   \n",
       "\n",
       "             min_datetime        max_datetime min_measurement_time  \\\n",
       "68951 2019-08-10 14:04:49 2019-08-10 14:27:12  2019-08-10 14:04:39   \n",
       "68952 2019-08-10 14:09:36 2019-08-10 14:27:12  2019-08-10 14:04:39   \n",
       "68953 2019-08-10 14:09:36 2019-08-10 14:27:12  2019-08-10 14:04:39   \n",
       "68954 2019-08-10 14:09:36 2019-08-10 14:27:12  2019-08-10 14:04:39   \n",
       "68955 2019-08-10 14:04:49 2019-08-10 14:27:12  2019-08-10 14:04:39   \n",
       "68956 2019-08-10 14:09:36 2019-08-10 14:27:12  2019-08-10 14:04:39   \n",
       "68957 2019-08-10 14:09:36 2019-08-10 14:27:12  2019-08-10 14:04:39   \n",
       "68958 2019-08-10 14:09:36 2019-08-10 14:27:12  2019-08-10 14:04:39   \n",
       "68959 2019-08-10 14:04:49 2019-08-10 14:27:12  2019-08-10 14:04:39   \n",
       "68960 2019-08-10 14:09:36 2019-08-10 14:27:12  2019-08-10 14:04:39   \n",
       "68961 2019-08-10 14:09:36 2019-08-10 14:27:12  2019-08-10 14:04:39   \n",
       "68962 2019-08-10 14:09:36 2019-08-10 14:27:12  2019-08-10 14:04:39   \n",
       "68963 2019-08-10 14:04:49 2019-08-10 14:27:12  2019-08-10 14:04:39   \n",
       "68964 2019-08-10 14:09:36 2019-08-10 14:27:12  2019-08-10 14:04:39   \n",
       "68965 2019-08-10 14:09:36 2019-08-10 14:27:12  2019-08-10 14:04:39   \n",
       "68966 2019-08-10 14:09:36 2019-08-10 14:27:12  2019-08-10 14:04:39   \n",
       "68967 2019-08-10 14:04:49 2019-08-10 14:27:12  2019-08-10 14:04:39   \n",
       "68968 2019-08-10 14:09:36 2019-08-10 14:27:12  2019-08-10 14:04:39   \n",
       "68969 2019-08-10 14:09:36 2019-08-10 14:27:12  2019-08-10 14:04:39   \n",
       "68970 2019-08-10 14:09:36 2019-08-10 14:27:12  2019-08-10 14:04:39   \n",
       "\n",
       "      max_measurement_time  \n",
       "68951  2019-08-10 14:29:39  \n",
       "68952  2019-08-10 14:29:39  \n",
       "68953  2019-08-10 14:29:39  \n",
       "68954  2019-08-10 14:29:39  \n",
       "68955  2019-08-10 14:29:39  \n",
       "68956  2019-08-10 14:29:39  \n",
       "68957  2019-08-10 14:29:39  \n",
       "68958  2019-08-10 14:29:39  \n",
       "68959  2019-08-10 14:29:39  \n",
       "68960  2019-08-10 14:29:39  \n",
       "68961  2019-08-10 14:29:39  \n",
       "68962  2019-08-10 14:29:39  \n",
       "68963  2019-08-10 14:29:39  \n",
       "68964  2019-08-10 14:29:39  \n",
       "68965  2019-08-10 14:29:39  \n",
       "68966  2019-08-10 14:29:39  \n",
       "68967  2019-08-10 14:29:39  \n",
       "68968  2019-08-10 14:29:39  \n",
       "68969  2019-08-10 14:29:39  \n",
       "68970  2019-08-10 14:29:39  "
      ]
     },
     "metadata": {},
     "output_type": "display_data"
    }
   ],
   "source": [
    "with pd.option_context('display.max_columns', None):\n",
    "    display(merged_data[merged_data['key'] == 2500])\n"
   ]
  },
  {
   "cell_type": "markdown",
   "id": "540be5ce",
   "metadata": {},
   "source": [
    "Удалим данные"
   ]
  },
  {
   "cell_type": "code",
   "execution_count": 10,
   "id": "f5cd02f7",
   "metadata": {},
   "outputs": [
    {
     "name": "stdout",
     "output_type": "stream",
     "text": [
      "Удалено плохих партий:  740\n"
     ]
    }
   ],
   "source": [
    "data_wire_time = data_wire_time[~data_wire_time['key'].isin(keys_to_remove)]\n",
    "\n",
    "data_wire = data_wire[~data_wire['key'].isin(keys_to_remove)]\n",
    "\n",
    "data_bulk_time = data_bulk_time[~data_bulk_time['key'].isin(keys_to_remove)]\n",
    "\n",
    "data_bulk = data_bulk[~data_bulk['key'].isin(keys_to_remove)]\n",
    "\n",
    "data_temp = data_temp[~data_temp['key'].isin(keys_to_remove)]\n",
    "\n",
    "data_arc = data_arc[~data_arc['key'].isin(keys_to_remove)]\n",
    "\n",
    "data_gas = data_gas[~data_gas['key'].isin(keys_to_remove)]\n",
    "\n",
    "print('Удалено плохих партий: ', len(keys_to_remove))"
   ]
  },
  {
   "cell_type": "markdown",
   "id": "a7c2af23",
   "metadata": {},
   "source": [
    "Перейдём к формированию датасета для моделирования процесса. Подготовим целевой признак и новые признаки на основе имеющихся таблиц. Объединим данные таким образом, чтобы получилась таблица, где одному ключу key соответствует одна строка."
   ]
  },
  {
   "cell_type": "code",
   "execution_count": 11,
   "id": "ee7d9a43",
   "metadata": {
    "scrolled": true
   },
   "outputs": [
    {
     "data": {
      "text/html": [
       "<div>\n",
       "<style scoped>\n",
       "    .dataframe tbody tr th:only-of-type {\n",
       "        vertical-align: middle;\n",
       "    }\n",
       "\n",
       "    .dataframe tbody tr th {\n",
       "        vertical-align: top;\n",
       "    }\n",
       "\n",
       "    .dataframe thead th {\n",
       "        text-align: right;\n",
       "    }\n",
       "</style>\n",
       "<table border=\"1\" class=\"dataframe\">\n",
       "  <thead>\n",
       "    <tr style=\"text-align: right;\">\n",
       "      <th></th>\n",
       "      <th>key</th>\n",
       "      <th>initial_temp</th>\n",
       "      <th>final_temp</th>\n",
       "    </tr>\n",
       "  </thead>\n",
       "  <tbody>\n",
       "    <tr>\n",
       "      <th>0</th>\n",
       "      <td>1</td>\n",
       "      <td>1571.0</td>\n",
       "      <td>1613.0</td>\n",
       "    </tr>\n",
       "    <tr>\n",
       "      <th>1</th>\n",
       "      <td>2</td>\n",
       "      <td>1581.0</td>\n",
       "      <td>1602.0</td>\n",
       "    </tr>\n",
       "    <tr>\n",
       "      <th>2</th>\n",
       "      <td>3</td>\n",
       "      <td>1596.0</td>\n",
       "      <td>1599.0</td>\n",
       "    </tr>\n",
       "    <tr>\n",
       "      <th>3</th>\n",
       "      <td>4</td>\n",
       "      <td>1601.0</td>\n",
       "      <td>1625.0</td>\n",
       "    </tr>\n",
       "    <tr>\n",
       "      <th>4</th>\n",
       "      <td>5</td>\n",
       "      <td>1576.0</td>\n",
       "      <td>1602.0</td>\n",
       "    </tr>\n",
       "    <tr>\n",
       "      <th>...</th>\n",
       "      <td>...</td>\n",
       "      <td>...</td>\n",
       "      <td>...</td>\n",
       "    </tr>\n",
       "    <tr>\n",
       "      <th>2471</th>\n",
       "      <td>2495</td>\n",
       "      <td>1570.0</td>\n",
       "      <td>1591.0</td>\n",
       "    </tr>\n",
       "    <tr>\n",
       "      <th>2472</th>\n",
       "      <td>2496</td>\n",
       "      <td>1554.0</td>\n",
       "      <td>1591.0</td>\n",
       "    </tr>\n",
       "    <tr>\n",
       "      <th>2473</th>\n",
       "      <td>2497</td>\n",
       "      <td>1571.0</td>\n",
       "      <td>1589.0</td>\n",
       "    </tr>\n",
       "    <tr>\n",
       "      <th>2474</th>\n",
       "      <td>2498</td>\n",
       "      <td>1591.0</td>\n",
       "      <td>1594.0</td>\n",
       "    </tr>\n",
       "    <tr>\n",
       "      <th>2475</th>\n",
       "      <td>2499</td>\n",
       "      <td>1569.0</td>\n",
       "      <td>1603.0</td>\n",
       "    </tr>\n",
       "  </tbody>\n",
       "</table>\n",
       "<p>2476 rows × 3 columns</p>\n",
       "</div>"
      ],
      "text/plain": [
       "       key  initial_temp  final_temp\n",
       "0        1        1571.0      1613.0\n",
       "1        2        1581.0      1602.0\n",
       "2        3        1596.0      1599.0\n",
       "3        4        1601.0      1625.0\n",
       "4        5        1576.0      1602.0\n",
       "...    ...           ...         ...\n",
       "2471  2495        1570.0      1591.0\n",
       "2472  2496        1554.0      1591.0\n",
       "2473  2497        1571.0      1589.0\n",
       "2474  2498        1591.0      1594.0\n",
       "2475  2499        1569.0      1603.0\n",
       "\n",
       "[2476 rows x 3 columns]"
      ]
     },
     "metadata": {},
     "output_type": "display_data"
    }
   ],
   "source": [
    "# Создание таблицы data_modeling\n",
    "temp_summary = data_temp.groupby('key')['Время замера'].agg(['min', 'max']).reset_index()\n",
    "\n",
    "# Добавление начального и конечного измерения температуры\n",
    "temp_summary = temp_summary.merge(data_temp.groupby('key')['Температура'].first().reset_index(), on='key', how='left')\n",
    "temp_summary = temp_summary.merge(data_temp.groupby('key')['Температура'].last().reset_index(), on='key', how='left')\n",
    "\n",
    "# Переименование столбцов\n",
    "temp_summary.columns = ['key', 'min_temp_time', 'max_temp_time', 'initial_temp', 'final_temp']\n",
    "\n",
    "# Удаление ненужных столбцов\n",
    "temp_summary.drop(['min_temp_time', 'max_temp_time'], axis=1, inplace=True)\n",
    "\n",
    "# Вывод первых и последних строк data_modeling\n",
    "data_modeling = temp_summary\n",
    "display(data_modeling)\n"
   ]
  },
  {
   "cell_type": "markdown",
   "id": "ca54f740",
   "metadata": {},
   "source": [
    "Добавим признак работы"
   ]
  },
  {
   "cell_type": "code",
   "execution_count": 12,
   "id": "6e685908",
   "metadata": {},
   "outputs": [
    {
     "data": {
      "text/html": [
       "<div>\n",
       "<style scoped>\n",
       "    .dataframe tbody tr th:only-of-type {\n",
       "        vertical-align: middle;\n",
       "    }\n",
       "\n",
       "    .dataframe tbody tr th {\n",
       "        vertical-align: top;\n",
       "    }\n",
       "\n",
       "    .dataframe thead th {\n",
       "        text-align: right;\n",
       "    }\n",
       "</style>\n",
       "<table border=\"1\" class=\"dataframe\">\n",
       "  <thead>\n",
       "    <tr style=\"text-align: right;\">\n",
       "      <th></th>\n",
       "      <th>key</th>\n",
       "      <th>initial_temp</th>\n",
       "      <th>final_temp</th>\n",
       "      <th>work</th>\n",
       "    </tr>\n",
       "  </thead>\n",
       "  <tbody>\n",
       "    <tr>\n",
       "      <th>0</th>\n",
       "      <td>1</td>\n",
       "      <td>1571.0</td>\n",
       "      <td>1613.0</td>\n",
       "      <td>770.282114</td>\n",
       "    </tr>\n",
       "    <tr>\n",
       "      <th>1</th>\n",
       "      <td>2</td>\n",
       "      <td>1581.0</td>\n",
       "      <td>1602.0</td>\n",
       "      <td>481.760005</td>\n",
       "    </tr>\n",
       "    <tr>\n",
       "      <th>2</th>\n",
       "      <td>3</td>\n",
       "      <td>1596.0</td>\n",
       "      <td>1599.0</td>\n",
       "      <td>722.837668</td>\n",
       "    </tr>\n",
       "    <tr>\n",
       "      <th>3</th>\n",
       "      <td>4</td>\n",
       "      <td>1601.0</td>\n",
       "      <td>1625.0</td>\n",
       "      <td>683.455597</td>\n",
       "    </tr>\n",
       "    <tr>\n",
       "      <th>4</th>\n",
       "      <td>5</td>\n",
       "      <td>1576.0</td>\n",
       "      <td>1602.0</td>\n",
       "      <td>512.169934</td>\n",
       "    </tr>\n",
       "    <tr>\n",
       "      <th>...</th>\n",
       "      <td>...</td>\n",
       "      <td>...</td>\n",
       "      <td>...</td>\n",
       "      <td>...</td>\n",
       "    </tr>\n",
       "    <tr>\n",
       "      <th>2471</th>\n",
       "      <td>2495</td>\n",
       "      <td>1570.0</td>\n",
       "      <td>1591.0</td>\n",
       "      <td>694.177326</td>\n",
       "    </tr>\n",
       "    <tr>\n",
       "      <th>2472</th>\n",
       "      <td>2496</td>\n",
       "      <td>1554.0</td>\n",
       "      <td>1591.0</td>\n",
       "      <td>815.818538</td>\n",
       "    </tr>\n",
       "    <tr>\n",
       "      <th>2473</th>\n",
       "      <td>2497</td>\n",
       "      <td>1571.0</td>\n",
       "      <td>1589.0</td>\n",
       "      <td>823.020520</td>\n",
       "    </tr>\n",
       "    <tr>\n",
       "      <th>2474</th>\n",
       "      <td>2498</td>\n",
       "      <td>1591.0</td>\n",
       "      <td>1594.0</td>\n",
       "      <td>581.810739</td>\n",
       "    </tr>\n",
       "    <tr>\n",
       "      <th>2475</th>\n",
       "      <td>2499</td>\n",
       "      <td>1569.0</td>\n",
       "      <td>1603.0</td>\n",
       "      <td>532.386183</td>\n",
       "    </tr>\n",
       "  </tbody>\n",
       "</table>\n",
       "<p>2476 rows × 4 columns</p>\n",
       "</div>"
      ],
      "text/plain": [
       "       key  initial_temp  final_temp        work\n",
       "0        1        1571.0      1613.0  770.282114\n",
       "1        2        1581.0      1602.0  481.760005\n",
       "2        3        1596.0      1599.0  722.837668\n",
       "3        4        1601.0      1625.0  683.455597\n",
       "4        5        1576.0      1602.0  512.169934\n",
       "...    ...           ...         ...         ...\n",
       "2471  2495        1570.0      1591.0  694.177326\n",
       "2472  2496        1554.0      1591.0  815.818538\n",
       "2473  2497        1571.0      1589.0  823.020520\n",
       "2474  2498        1591.0      1594.0  581.810739\n",
       "2475  2499        1569.0      1603.0  532.386183\n",
       "\n",
       "[2476 rows x 4 columns]"
      ]
     },
     "metadata": {},
     "output_type": "display_data"
    }
   ],
   "source": [
    "# Рассчет общей мощности и работы для каждой партии key\n",
    "data_arc['total_power'] = np.sqrt(data_arc['Активная мощность']**2 + data_arc['Реактивная мощность']**2)\n",
    "data_arc['work'] = data_arc['total_power'] * (data_arc['Конец нагрева дугой'] - data_arc['Начало нагрева дугой']).dt.total_seconds()\n",
    "\n",
    "# Рассчет суммарной работы для каждой партии key\n",
    "total_work = data_arc.groupby('key')['work'].sum().reset_index()\n",
    "\n",
    "# Объединение полученных данных с таблицей data_modeling\n",
    "data_modeling = data_modeling.merge(total_work, on='key', how='left')\n",
    "\n",
    "# Заполнение пропусков нулями\n",
    "data_modeling['work'].fillna(0, inplace=True)\n",
    "\n",
    "# Вывод результата\n",
    "display(data_modeling)"
   ]
  },
  {
   "cell_type": "markdown",
   "id": "f59b5421",
   "metadata": {},
   "source": [
    "Добавим признак количества циклов нагрева"
   ]
  },
  {
   "cell_type": "code",
   "execution_count": 13,
   "id": "705232ab",
   "metadata": {},
   "outputs": [
    {
     "data": {
      "text/html": [
       "<div>\n",
       "<style scoped>\n",
       "    .dataframe tbody tr th:only-of-type {\n",
       "        vertical-align: middle;\n",
       "    }\n",
       "\n",
       "    .dataframe tbody tr th {\n",
       "        vertical-align: top;\n",
       "    }\n",
       "\n",
       "    .dataframe thead th {\n",
       "        text-align: right;\n",
       "    }\n",
       "</style>\n",
       "<table border=\"1\" class=\"dataframe\">\n",
       "  <thead>\n",
       "    <tr style=\"text-align: right;\">\n",
       "      <th></th>\n",
       "      <th>key</th>\n",
       "      <th>initial_temp</th>\n",
       "      <th>final_temp</th>\n",
       "      <th>work</th>\n",
       "      <th>heating_cycles</th>\n",
       "    </tr>\n",
       "  </thead>\n",
       "  <tbody>\n",
       "    <tr>\n",
       "      <th>0</th>\n",
       "      <td>1</td>\n",
       "      <td>1571.0</td>\n",
       "      <td>1613.0</td>\n",
       "      <td>770.282114</td>\n",
       "      <td>5.0</td>\n",
       "    </tr>\n",
       "    <tr>\n",
       "      <th>1</th>\n",
       "      <td>2</td>\n",
       "      <td>1581.0</td>\n",
       "      <td>1602.0</td>\n",
       "      <td>481.760005</td>\n",
       "      <td>4.0</td>\n",
       "    </tr>\n",
       "    <tr>\n",
       "      <th>2</th>\n",
       "      <td>3</td>\n",
       "      <td>1596.0</td>\n",
       "      <td>1599.0</td>\n",
       "      <td>722.837668</td>\n",
       "      <td>5.0</td>\n",
       "    </tr>\n",
       "    <tr>\n",
       "      <th>3</th>\n",
       "      <td>4</td>\n",
       "      <td>1601.0</td>\n",
       "      <td>1625.0</td>\n",
       "      <td>683.455597</td>\n",
       "      <td>4.0</td>\n",
       "    </tr>\n",
       "    <tr>\n",
       "      <th>4</th>\n",
       "      <td>5</td>\n",
       "      <td>1576.0</td>\n",
       "      <td>1602.0</td>\n",
       "      <td>512.169934</td>\n",
       "      <td>4.0</td>\n",
       "    </tr>\n",
       "    <tr>\n",
       "      <th>...</th>\n",
       "      <td>...</td>\n",
       "      <td>...</td>\n",
       "      <td>...</td>\n",
       "      <td>...</td>\n",
       "      <td>...</td>\n",
       "    </tr>\n",
       "    <tr>\n",
       "      <th>2471</th>\n",
       "      <td>2495</td>\n",
       "      <td>1570.0</td>\n",
       "      <td>1591.0</td>\n",
       "      <td>694.177326</td>\n",
       "      <td>4.0</td>\n",
       "    </tr>\n",
       "    <tr>\n",
       "      <th>2472</th>\n",
       "      <td>2496</td>\n",
       "      <td>1554.0</td>\n",
       "      <td>1591.0</td>\n",
       "      <td>815.818538</td>\n",
       "      <td>6.0</td>\n",
       "    </tr>\n",
       "    <tr>\n",
       "      <th>2473</th>\n",
       "      <td>2497</td>\n",
       "      <td>1571.0</td>\n",
       "      <td>1589.0</td>\n",
       "      <td>823.020520</td>\n",
       "      <td>3.0</td>\n",
       "    </tr>\n",
       "    <tr>\n",
       "      <th>2474</th>\n",
       "      <td>2498</td>\n",
       "      <td>1591.0</td>\n",
       "      <td>1594.0</td>\n",
       "      <td>581.810739</td>\n",
       "      <td>5.0</td>\n",
       "    </tr>\n",
       "    <tr>\n",
       "      <th>2475</th>\n",
       "      <td>2499</td>\n",
       "      <td>1569.0</td>\n",
       "      <td>1603.0</td>\n",
       "      <td>532.386183</td>\n",
       "      <td>4.0</td>\n",
       "    </tr>\n",
       "  </tbody>\n",
       "</table>\n",
       "<p>2476 rows × 5 columns</p>\n",
       "</div>"
      ],
      "text/plain": [
       "       key  initial_temp  final_temp        work  heating_cycles\n",
       "0        1        1571.0      1613.0  770.282114             5.0\n",
       "1        2        1581.0      1602.0  481.760005             4.0\n",
       "2        3        1596.0      1599.0  722.837668             5.0\n",
       "3        4        1601.0      1625.0  683.455597             4.0\n",
       "4        5        1576.0      1602.0  512.169934             4.0\n",
       "...    ...           ...         ...         ...             ...\n",
       "2471  2495        1570.0      1591.0  694.177326             4.0\n",
       "2472  2496        1554.0      1591.0  815.818538             6.0\n",
       "2473  2497        1571.0      1589.0  823.020520             3.0\n",
       "2474  2498        1591.0      1594.0  581.810739             5.0\n",
       "2475  2499        1569.0      1603.0  532.386183             4.0\n",
       "\n",
       "[2476 rows x 5 columns]"
      ]
     },
     "metadata": {},
     "output_type": "display_data"
    }
   ],
   "source": [
    "# Рассчёт количества циклов нагрева для каждой партии key\n",
    "cycle_count = data_arc.groupby('key').size().reset_index(name='heating_cycles')\n",
    "\n",
    "# Добавление признака в таблицу data_modeling\n",
    "data_modeling = data_modeling.merge(cycle_count, on='key', how='left')\n",
    "\n",
    "# Вывод результата\n",
    "display(data_modeling)"
   ]
  },
  {
   "cell_type": "code",
   "execution_count": 14,
   "id": "c1861873",
   "metadata": {},
   "outputs": [
    {
     "name": "stdout",
     "output_type": "stream",
     "text": [
      "192    195\n",
      "Name: key, dtype: int64\n"
     ]
    }
   ],
   "source": [
    "keys_with_nan = data_modeling.loc[data_modeling['heating_cycles'].isna(), 'key']\n",
    "print(keys_with_nan)\n"
   ]
  },
  {
   "cell_type": "markdown",
   "id": "9d4d0edd",
   "metadata": {},
   "source": [
    "В 192 строке есть пропуск в количестве циклов нагрева. Удалим эту строку и преобразуем столбец в int."
   ]
  },
  {
   "cell_type": "code",
   "execution_count": 15,
   "id": "2abf9613",
   "metadata": {},
   "outputs": [
    {
     "data": {
      "text/html": [
       "<div>\n",
       "<style scoped>\n",
       "    .dataframe tbody tr th:only-of-type {\n",
       "        vertical-align: middle;\n",
       "    }\n",
       "\n",
       "    .dataframe tbody tr th {\n",
       "        vertical-align: top;\n",
       "    }\n",
       "\n",
       "    .dataframe thead th {\n",
       "        text-align: right;\n",
       "    }\n",
       "</style>\n",
       "<table border=\"1\" class=\"dataframe\">\n",
       "  <thead>\n",
       "    <tr style=\"text-align: right;\">\n",
       "      <th></th>\n",
       "      <th>key</th>\n",
       "      <th>initial_temp</th>\n",
       "      <th>final_temp</th>\n",
       "      <th>work</th>\n",
       "      <th>heating_cycles</th>\n",
       "    </tr>\n",
       "  </thead>\n",
       "  <tbody>\n",
       "    <tr>\n",
       "      <th>0</th>\n",
       "      <td>1</td>\n",
       "      <td>1571.0</td>\n",
       "      <td>1613.0</td>\n",
       "      <td>770.282114</td>\n",
       "      <td>5</td>\n",
       "    </tr>\n",
       "    <tr>\n",
       "      <th>1</th>\n",
       "      <td>2</td>\n",
       "      <td>1581.0</td>\n",
       "      <td>1602.0</td>\n",
       "      <td>481.760005</td>\n",
       "      <td>4</td>\n",
       "    </tr>\n",
       "    <tr>\n",
       "      <th>2</th>\n",
       "      <td>3</td>\n",
       "      <td>1596.0</td>\n",
       "      <td>1599.0</td>\n",
       "      <td>722.837668</td>\n",
       "      <td>5</td>\n",
       "    </tr>\n",
       "    <tr>\n",
       "      <th>3</th>\n",
       "      <td>4</td>\n",
       "      <td>1601.0</td>\n",
       "      <td>1625.0</td>\n",
       "      <td>683.455597</td>\n",
       "      <td>4</td>\n",
       "    </tr>\n",
       "    <tr>\n",
       "      <th>4</th>\n",
       "      <td>5</td>\n",
       "      <td>1576.0</td>\n",
       "      <td>1602.0</td>\n",
       "      <td>512.169934</td>\n",
       "      <td>4</td>\n",
       "    </tr>\n",
       "    <tr>\n",
       "      <th>...</th>\n",
       "      <td>...</td>\n",
       "      <td>...</td>\n",
       "      <td>...</td>\n",
       "      <td>...</td>\n",
       "      <td>...</td>\n",
       "    </tr>\n",
       "    <tr>\n",
       "      <th>2470</th>\n",
       "      <td>2495</td>\n",
       "      <td>1570.0</td>\n",
       "      <td>1591.0</td>\n",
       "      <td>694.177326</td>\n",
       "      <td>4</td>\n",
       "    </tr>\n",
       "    <tr>\n",
       "      <th>2471</th>\n",
       "      <td>2496</td>\n",
       "      <td>1554.0</td>\n",
       "      <td>1591.0</td>\n",
       "      <td>815.818538</td>\n",
       "      <td>6</td>\n",
       "    </tr>\n",
       "    <tr>\n",
       "      <th>2472</th>\n",
       "      <td>2497</td>\n",
       "      <td>1571.0</td>\n",
       "      <td>1589.0</td>\n",
       "      <td>823.020520</td>\n",
       "      <td>3</td>\n",
       "    </tr>\n",
       "    <tr>\n",
       "      <th>2473</th>\n",
       "      <td>2498</td>\n",
       "      <td>1591.0</td>\n",
       "      <td>1594.0</td>\n",
       "      <td>581.810739</td>\n",
       "      <td>5</td>\n",
       "    </tr>\n",
       "    <tr>\n",
       "      <th>2474</th>\n",
       "      <td>2499</td>\n",
       "      <td>1569.0</td>\n",
       "      <td>1603.0</td>\n",
       "      <td>532.386183</td>\n",
       "      <td>4</td>\n",
       "    </tr>\n",
       "  </tbody>\n",
       "</table>\n",
       "<p>2475 rows × 5 columns</p>\n",
       "</div>"
      ],
      "text/plain": [
       "       key  initial_temp  final_temp        work  heating_cycles\n",
       "0        1        1571.0      1613.0  770.282114               5\n",
       "1        2        1581.0      1602.0  481.760005               4\n",
       "2        3        1596.0      1599.0  722.837668               5\n",
       "3        4        1601.0      1625.0  683.455597               4\n",
       "4        5        1576.0      1602.0  512.169934               4\n",
       "...    ...           ...         ...         ...             ...\n",
       "2470  2495        1570.0      1591.0  694.177326               4\n",
       "2471  2496        1554.0      1591.0  815.818538               6\n",
       "2472  2497        1571.0      1589.0  823.020520               3\n",
       "2473  2498        1591.0      1594.0  581.810739               5\n",
       "2474  2499        1569.0      1603.0  532.386183               4\n",
       "\n",
       "[2475 rows x 5 columns]"
      ]
     },
     "metadata": {},
     "output_type": "display_data"
    }
   ],
   "source": [
    "# Удаление строки с пропуском в 192 строке\n",
    "data_modeling.dropna(subset=['heating_cycles'], axis=0, inplace=True)\n",
    "\n",
    "# Сброс индексов после удаления строки\n",
    "data_modeling.reset_index(drop=True, inplace=True)\n",
    "\n",
    "# Преобразование столбца 'heating_cycles' в int\n",
    "data_modeling['heating_cycles'] = data_modeling['heating_cycles'].astype(int)\n",
    "display(data_modeling)\n",
    "\n",
    "# Удаление строки с key=195 из data_bulk\n",
    "data_bulk = data_bulk[data_bulk['key'] != 195]\n",
    "\n",
    "# Удаление строки с key=195 из data_wire\n",
    "data_wire = data_wire[data_wire['key'] != 195]\n"
   ]
  },
  {
   "cell_type": "code",
   "execution_count": 16,
   "id": "cface002",
   "metadata": {},
   "outputs": [
    {
     "data": {
      "text/html": [
       "<div>\n",
       "<style scoped>\n",
       "    .dataframe tbody tr th:only-of-type {\n",
       "        vertical-align: middle;\n",
       "    }\n",
       "\n",
       "    .dataframe tbody tr th {\n",
       "        vertical-align: top;\n",
       "    }\n",
       "\n",
       "    .dataframe thead th {\n",
       "        text-align: right;\n",
       "    }\n",
       "</style>\n",
       "<table border=\"1\" class=\"dataframe\">\n",
       "  <thead>\n",
       "    <tr style=\"text-align: right;\">\n",
       "      <th></th>\n",
       "      <th>key</th>\n",
       "      <th>initial_temp</th>\n",
       "      <th>final_temp</th>\n",
       "      <th>work</th>\n",
       "      <th>heating_cycles</th>\n",
       "      <th>bulk_1</th>\n",
       "      <th>bulk_2</th>\n",
       "      <th>bulk_3</th>\n",
       "      <th>bulk_4</th>\n",
       "      <th>bulk_5</th>\n",
       "      <th>...</th>\n",
       "      <th>bulk_15</th>\n",
       "      <th>wire_1</th>\n",
       "      <th>wire_2</th>\n",
       "      <th>wire_3</th>\n",
       "      <th>wire_4</th>\n",
       "      <th>wire_5</th>\n",
       "      <th>wire_6</th>\n",
       "      <th>wire_7</th>\n",
       "      <th>wire_8</th>\n",
       "      <th>wire_9</th>\n",
       "    </tr>\n",
       "  </thead>\n",
       "  <tbody>\n",
       "    <tr>\n",
       "      <th>0</th>\n",
       "      <td>1</td>\n",
       "      <td>1571.0</td>\n",
       "      <td>1613.0</td>\n",
       "      <td>770.282114</td>\n",
       "      <td>5</td>\n",
       "      <td>0.0</td>\n",
       "      <td>0.0</td>\n",
       "      <td>0.0</td>\n",
       "      <td>43.0</td>\n",
       "      <td>0.0</td>\n",
       "      <td>...</td>\n",
       "      <td>154.0</td>\n",
       "      <td>60.059998</td>\n",
       "      <td>0.00000</td>\n",
       "      <td>0.0</td>\n",
       "      <td>0.0</td>\n",
       "      <td>0.0</td>\n",
       "      <td>0.0</td>\n",
       "      <td>0.0</td>\n",
       "      <td>0.0</td>\n",
       "      <td>0.0</td>\n",
       "    </tr>\n",
       "    <tr>\n",
       "      <th>1</th>\n",
       "      <td>2</td>\n",
       "      <td>1581.0</td>\n",
       "      <td>1602.0</td>\n",
       "      <td>481.760005</td>\n",
       "      <td>4</td>\n",
       "      <td>0.0</td>\n",
       "      <td>0.0</td>\n",
       "      <td>0.0</td>\n",
       "      <td>73.0</td>\n",
       "      <td>0.0</td>\n",
       "      <td>...</td>\n",
       "      <td>154.0</td>\n",
       "      <td>96.052315</td>\n",
       "      <td>0.00000</td>\n",
       "      <td>0.0</td>\n",
       "      <td>0.0</td>\n",
       "      <td>0.0</td>\n",
       "      <td>0.0</td>\n",
       "      <td>0.0</td>\n",
       "      <td>0.0</td>\n",
       "      <td>0.0</td>\n",
       "    </tr>\n",
       "    <tr>\n",
       "      <th>2</th>\n",
       "      <td>3</td>\n",
       "      <td>1596.0</td>\n",
       "      <td>1599.0</td>\n",
       "      <td>722.837668</td>\n",
       "      <td>5</td>\n",
       "      <td>0.0</td>\n",
       "      <td>0.0</td>\n",
       "      <td>0.0</td>\n",
       "      <td>34.0</td>\n",
       "      <td>0.0</td>\n",
       "      <td>...</td>\n",
       "      <td>153.0</td>\n",
       "      <td>91.160157</td>\n",
       "      <td>0.00000</td>\n",
       "      <td>0.0</td>\n",
       "      <td>0.0</td>\n",
       "      <td>0.0</td>\n",
       "      <td>0.0</td>\n",
       "      <td>0.0</td>\n",
       "      <td>0.0</td>\n",
       "      <td>0.0</td>\n",
       "    </tr>\n",
       "    <tr>\n",
       "      <th>3</th>\n",
       "      <td>4</td>\n",
       "      <td>1601.0</td>\n",
       "      <td>1625.0</td>\n",
       "      <td>683.455597</td>\n",
       "      <td>4</td>\n",
       "      <td>0.0</td>\n",
       "      <td>0.0</td>\n",
       "      <td>0.0</td>\n",
       "      <td>81.0</td>\n",
       "      <td>0.0</td>\n",
       "      <td>...</td>\n",
       "      <td>154.0</td>\n",
       "      <td>89.063515</td>\n",
       "      <td>0.00000</td>\n",
       "      <td>0.0</td>\n",
       "      <td>0.0</td>\n",
       "      <td>0.0</td>\n",
       "      <td>0.0</td>\n",
       "      <td>0.0</td>\n",
       "      <td>0.0</td>\n",
       "      <td>0.0</td>\n",
       "    </tr>\n",
       "    <tr>\n",
       "      <th>4</th>\n",
       "      <td>5</td>\n",
       "      <td>1576.0</td>\n",
       "      <td>1602.0</td>\n",
       "      <td>512.169934</td>\n",
       "      <td>4</td>\n",
       "      <td>0.0</td>\n",
       "      <td>0.0</td>\n",
       "      <td>0.0</td>\n",
       "      <td>78.0</td>\n",
       "      <td>0.0</td>\n",
       "      <td>...</td>\n",
       "      <td>152.0</td>\n",
       "      <td>89.238236</td>\n",
       "      <td>9.11456</td>\n",
       "      <td>0.0</td>\n",
       "      <td>0.0</td>\n",
       "      <td>0.0</td>\n",
       "      <td>0.0</td>\n",
       "      <td>0.0</td>\n",
       "      <td>0.0</td>\n",
       "      <td>0.0</td>\n",
       "    </tr>\n",
       "    <tr>\n",
       "      <th>...</th>\n",
       "      <td>...</td>\n",
       "      <td>...</td>\n",
       "      <td>...</td>\n",
       "      <td>...</td>\n",
       "      <td>...</td>\n",
       "      <td>...</td>\n",
       "      <td>...</td>\n",
       "      <td>...</td>\n",
       "      <td>...</td>\n",
       "      <td>...</td>\n",
       "      <td>...</td>\n",
       "      <td>...</td>\n",
       "      <td>...</td>\n",
       "      <td>...</td>\n",
       "      <td>...</td>\n",
       "      <td>...</td>\n",
       "      <td>...</td>\n",
       "      <td>...</td>\n",
       "      <td>...</td>\n",
       "      <td>...</td>\n",
       "      <td>...</td>\n",
       "    </tr>\n",
       "    <tr>\n",
       "      <th>2470</th>\n",
       "      <td>2495</td>\n",
       "      <td>1570.0</td>\n",
       "      <td>1591.0</td>\n",
       "      <td>694.177326</td>\n",
       "      <td>4</td>\n",
       "      <td>0.0</td>\n",
       "      <td>0.0</td>\n",
       "      <td>21.0</td>\n",
       "      <td>0.0</td>\n",
       "      <td>0.0</td>\n",
       "      <td>...</td>\n",
       "      <td>223.0</td>\n",
       "      <td>89.150879</td>\n",
       "      <td>0.00000</td>\n",
       "      <td>0.0</td>\n",
       "      <td>0.0</td>\n",
       "      <td>0.0</td>\n",
       "      <td>0.0</td>\n",
       "      <td>0.0</td>\n",
       "      <td>0.0</td>\n",
       "      <td>0.0</td>\n",
       "    </tr>\n",
       "    <tr>\n",
       "      <th>2471</th>\n",
       "      <td>2496</td>\n",
       "      <td>1554.0</td>\n",
       "      <td>1591.0</td>\n",
       "      <td>815.818538</td>\n",
       "      <td>6</td>\n",
       "      <td>0.0</td>\n",
       "      <td>0.0</td>\n",
       "      <td>0.0</td>\n",
       "      <td>63.0</td>\n",
       "      <td>0.0</td>\n",
       "      <td>...</td>\n",
       "      <td>226.0</td>\n",
       "      <td>114.179527</td>\n",
       "      <td>0.00000</td>\n",
       "      <td>0.0</td>\n",
       "      <td>0.0</td>\n",
       "      <td>0.0</td>\n",
       "      <td>0.0</td>\n",
       "      <td>0.0</td>\n",
       "      <td>0.0</td>\n",
       "      <td>0.0</td>\n",
       "    </tr>\n",
       "    <tr>\n",
       "      <th>2472</th>\n",
       "      <td>2497</td>\n",
       "      <td>1571.0</td>\n",
       "      <td>1589.0</td>\n",
       "      <td>823.020520</td>\n",
       "      <td>3</td>\n",
       "      <td>0.0</td>\n",
       "      <td>0.0</td>\n",
       "      <td>0.0</td>\n",
       "      <td>85.0</td>\n",
       "      <td>0.0</td>\n",
       "      <td>...</td>\n",
       "      <td>226.0</td>\n",
       "      <td>94.086723</td>\n",
       "      <td>9.04800</td>\n",
       "      <td>0.0</td>\n",
       "      <td>0.0</td>\n",
       "      <td>0.0</td>\n",
       "      <td>0.0</td>\n",
       "      <td>0.0</td>\n",
       "      <td>0.0</td>\n",
       "      <td>0.0</td>\n",
       "    </tr>\n",
       "    <tr>\n",
       "      <th>2473</th>\n",
       "      <td>2498</td>\n",
       "      <td>1591.0</td>\n",
       "      <td>1594.0</td>\n",
       "      <td>581.810739</td>\n",
       "      <td>5</td>\n",
       "      <td>0.0</td>\n",
       "      <td>0.0</td>\n",
       "      <td>90.0</td>\n",
       "      <td>0.0</td>\n",
       "      <td>0.0</td>\n",
       "      <td>...</td>\n",
       "      <td>207.0</td>\n",
       "      <td>118.110717</td>\n",
       "      <td>0.00000</td>\n",
       "      <td>0.0</td>\n",
       "      <td>0.0</td>\n",
       "      <td>0.0</td>\n",
       "      <td>0.0</td>\n",
       "      <td>0.0</td>\n",
       "      <td>0.0</td>\n",
       "      <td>0.0</td>\n",
       "    </tr>\n",
       "    <tr>\n",
       "      <th>2474</th>\n",
       "      <td>2499</td>\n",
       "      <td>1569.0</td>\n",
       "      <td>1603.0</td>\n",
       "      <td>532.386183</td>\n",
       "      <td>4</td>\n",
       "      <td>0.0</td>\n",
       "      <td>0.0</td>\n",
       "      <td>47.0</td>\n",
       "      <td>0.0</td>\n",
       "      <td>0.0</td>\n",
       "      <td>...</td>\n",
       "      <td>227.0</td>\n",
       "      <td>110.160958</td>\n",
       "      <td>50.00528</td>\n",
       "      <td>0.0</td>\n",
       "      <td>0.0</td>\n",
       "      <td>0.0</td>\n",
       "      <td>0.0</td>\n",
       "      <td>0.0</td>\n",
       "      <td>0.0</td>\n",
       "      <td>0.0</td>\n",
       "    </tr>\n",
       "  </tbody>\n",
       "</table>\n",
       "<p>2475 rows × 29 columns</p>\n",
       "</div>"
      ],
      "text/plain": [
       "       key  initial_temp  final_temp        work  heating_cycles  bulk_1  \\\n",
       "0        1        1571.0      1613.0  770.282114               5     0.0   \n",
       "1        2        1581.0      1602.0  481.760005               4     0.0   \n",
       "2        3        1596.0      1599.0  722.837668               5     0.0   \n",
       "3        4        1601.0      1625.0  683.455597               4     0.0   \n",
       "4        5        1576.0      1602.0  512.169934               4     0.0   \n",
       "...    ...           ...         ...         ...             ...     ...   \n",
       "2470  2495        1570.0      1591.0  694.177326               4     0.0   \n",
       "2471  2496        1554.0      1591.0  815.818538               6     0.0   \n",
       "2472  2497        1571.0      1589.0  823.020520               3     0.0   \n",
       "2473  2498        1591.0      1594.0  581.810739               5     0.0   \n",
       "2474  2499        1569.0      1603.0  532.386183               4     0.0   \n",
       "\n",
       "      bulk_2  bulk_3  bulk_4  bulk_5  ...  bulk_15      wire_1    wire_2  \\\n",
       "0        0.0     0.0    43.0     0.0  ...    154.0   60.059998   0.00000   \n",
       "1        0.0     0.0    73.0     0.0  ...    154.0   96.052315   0.00000   \n",
       "2        0.0     0.0    34.0     0.0  ...    153.0   91.160157   0.00000   \n",
       "3        0.0     0.0    81.0     0.0  ...    154.0   89.063515   0.00000   \n",
       "4        0.0     0.0    78.0     0.0  ...    152.0   89.238236   9.11456   \n",
       "...      ...     ...     ...     ...  ...      ...         ...       ...   \n",
       "2470     0.0    21.0     0.0     0.0  ...    223.0   89.150879   0.00000   \n",
       "2471     0.0     0.0    63.0     0.0  ...    226.0  114.179527   0.00000   \n",
       "2472     0.0     0.0    85.0     0.0  ...    226.0   94.086723   9.04800   \n",
       "2473     0.0    90.0     0.0     0.0  ...    207.0  118.110717   0.00000   \n",
       "2474     0.0    47.0     0.0     0.0  ...    227.0  110.160958  50.00528   \n",
       "\n",
       "      wire_3  wire_4  wire_5  wire_6  wire_7  wire_8  wire_9  \n",
       "0        0.0     0.0     0.0     0.0     0.0     0.0     0.0  \n",
       "1        0.0     0.0     0.0     0.0     0.0     0.0     0.0  \n",
       "2        0.0     0.0     0.0     0.0     0.0     0.0     0.0  \n",
       "3        0.0     0.0     0.0     0.0     0.0     0.0     0.0  \n",
       "4        0.0     0.0     0.0     0.0     0.0     0.0     0.0  \n",
       "...      ...     ...     ...     ...     ...     ...     ...  \n",
       "2470     0.0     0.0     0.0     0.0     0.0     0.0     0.0  \n",
       "2471     0.0     0.0     0.0     0.0     0.0     0.0     0.0  \n",
       "2472     0.0     0.0     0.0     0.0     0.0     0.0     0.0  \n",
       "2473     0.0     0.0     0.0     0.0     0.0     0.0     0.0  \n",
       "2474     0.0     0.0     0.0     0.0     0.0     0.0     0.0  \n",
       "\n",
       "[2475 rows x 29 columns]"
      ]
     },
     "metadata": {},
     "output_type": "display_data"
    }
   ],
   "source": [
    "# Объединение таблиц data_bulk и data_wire с таблицей data_modeling\n",
    "data_modeling = data_modeling.merge(data_bulk, on='key', how='left')\n",
    "data_modeling = data_modeling.merge(data_wire, on='key', how='left')\n",
    "\n",
    "# Заполнение пропусков нулями\n",
    "data_modeling.loc[:, 'Bulk 1':'Bulk 15'] = data_modeling.loc[:, 'Bulk 1':'Bulk 15'].fillna(0)\n",
    "data_modeling.loc[:, 'Wire 1':'Wire 9'] = data_modeling.loc[:, 'Wire 1':'Wire 9'].fillna(0)\n",
    "\n",
    "# Приведение названий столбцов к snake_case\n",
    "data_modeling.columns = data_modeling.columns.str.lower().str.replace(' ', '_')\n",
    "\n",
    "# Вывод результата\n",
    "display(data_modeling)\n"
   ]
  },
  {
   "cell_type": "code",
   "execution_count": 17,
   "id": "cb35fd31",
   "metadata": {},
   "outputs": [
    {
     "data": {
      "text/html": [
       "<div>\n",
       "<style scoped>\n",
       "    .dataframe tbody tr th:only-of-type {\n",
       "        vertical-align: middle;\n",
       "    }\n",
       "\n",
       "    .dataframe tbody tr th {\n",
       "        vertical-align: top;\n",
       "    }\n",
       "\n",
       "    .dataframe thead th {\n",
       "        text-align: right;\n",
       "    }\n",
       "</style>\n",
       "<table border=\"1\" class=\"dataframe\">\n",
       "  <thead>\n",
       "    <tr style=\"text-align: right;\">\n",
       "      <th></th>\n",
       "      <th>key</th>\n",
       "      <th>initial_temp</th>\n",
       "      <th>final_temp</th>\n",
       "      <th>work</th>\n",
       "      <th>heating_cycles</th>\n",
       "      <th>bulk_1</th>\n",
       "      <th>bulk_2</th>\n",
       "      <th>bulk_3</th>\n",
       "      <th>bulk_4</th>\n",
       "      <th>bulk_5</th>\n",
       "      <th>bulk_6</th>\n",
       "      <th>bulk_7</th>\n",
       "      <th>bulk_8</th>\n",
       "      <th>bulk_9</th>\n",
       "      <th>bulk_10</th>\n",
       "      <th>bulk_11</th>\n",
       "      <th>bulk_12</th>\n",
       "      <th>bulk_13</th>\n",
       "      <th>bulk_14</th>\n",
       "      <th>bulk_15</th>\n",
       "      <th>wire_1</th>\n",
       "      <th>wire_2</th>\n",
       "      <th>wire_3</th>\n",
       "      <th>wire_4</th>\n",
       "      <th>wire_5</th>\n",
       "      <th>wire_6</th>\n",
       "      <th>wire_7</th>\n",
       "      <th>wire_8</th>\n",
       "      <th>wire_9</th>\n",
       "      <th>gas_1</th>\n",
       "    </tr>\n",
       "  </thead>\n",
       "  <tbody>\n",
       "    <tr>\n",
       "      <th>0</th>\n",
       "      <td>1</td>\n",
       "      <td>1571.0</td>\n",
       "      <td>1613.0</td>\n",
       "      <td>770.282114</td>\n",
       "      <td>5</td>\n",
       "      <td>0.0</td>\n",
       "      <td>0.0</td>\n",
       "      <td>0.0</td>\n",
       "      <td>43.0</td>\n",
       "      <td>0.0</td>\n",
       "      <td>0.0</td>\n",
       "      <td>0.0</td>\n",
       "      <td>0.0</td>\n",
       "      <td>0.0</td>\n",
       "      <td>0.0</td>\n",
       "      <td>0.0</td>\n",
       "      <td>206.0</td>\n",
       "      <td>0.0</td>\n",
       "      <td>150.0</td>\n",
       "      <td>154.0</td>\n",
       "      <td>60.059998</td>\n",
       "      <td>0.00000</td>\n",
       "      <td>0.0</td>\n",
       "      <td>0.0</td>\n",
       "      <td>0.0</td>\n",
       "      <td>0.0</td>\n",
       "      <td>0.0</td>\n",
       "      <td>0.0</td>\n",
       "      <td>0.0</td>\n",
       "      <td>29.749986</td>\n",
       "    </tr>\n",
       "    <tr>\n",
       "      <th>1</th>\n",
       "      <td>2</td>\n",
       "      <td>1581.0</td>\n",
       "      <td>1602.0</td>\n",
       "      <td>481.760005</td>\n",
       "      <td>4</td>\n",
       "      <td>0.0</td>\n",
       "      <td>0.0</td>\n",
       "      <td>0.0</td>\n",
       "      <td>73.0</td>\n",
       "      <td>0.0</td>\n",
       "      <td>0.0</td>\n",
       "      <td>0.0</td>\n",
       "      <td>0.0</td>\n",
       "      <td>0.0</td>\n",
       "      <td>0.0</td>\n",
       "      <td>0.0</td>\n",
       "      <td>206.0</td>\n",
       "      <td>0.0</td>\n",
       "      <td>149.0</td>\n",
       "      <td>154.0</td>\n",
       "      <td>96.052315</td>\n",
       "      <td>0.00000</td>\n",
       "      <td>0.0</td>\n",
       "      <td>0.0</td>\n",
       "      <td>0.0</td>\n",
       "      <td>0.0</td>\n",
       "      <td>0.0</td>\n",
       "      <td>0.0</td>\n",
       "      <td>0.0</td>\n",
       "      <td>12.555561</td>\n",
       "    </tr>\n",
       "    <tr>\n",
       "      <th>2</th>\n",
       "      <td>3</td>\n",
       "      <td>1596.0</td>\n",
       "      <td>1599.0</td>\n",
       "      <td>722.837668</td>\n",
       "      <td>5</td>\n",
       "      <td>0.0</td>\n",
       "      <td>0.0</td>\n",
       "      <td>0.0</td>\n",
       "      <td>34.0</td>\n",
       "      <td>0.0</td>\n",
       "      <td>0.0</td>\n",
       "      <td>0.0</td>\n",
       "      <td>0.0</td>\n",
       "      <td>0.0</td>\n",
       "      <td>0.0</td>\n",
       "      <td>0.0</td>\n",
       "      <td>205.0</td>\n",
       "      <td>0.0</td>\n",
       "      <td>152.0</td>\n",
       "      <td>153.0</td>\n",
       "      <td>91.160157</td>\n",
       "      <td>0.00000</td>\n",
       "      <td>0.0</td>\n",
       "      <td>0.0</td>\n",
       "      <td>0.0</td>\n",
       "      <td>0.0</td>\n",
       "      <td>0.0</td>\n",
       "      <td>0.0</td>\n",
       "      <td>0.0</td>\n",
       "      <td>28.554793</td>\n",
       "    </tr>\n",
       "    <tr>\n",
       "      <th>3</th>\n",
       "      <td>4</td>\n",
       "      <td>1601.0</td>\n",
       "      <td>1625.0</td>\n",
       "      <td>683.455597</td>\n",
       "      <td>4</td>\n",
       "      <td>0.0</td>\n",
       "      <td>0.0</td>\n",
       "      <td>0.0</td>\n",
       "      <td>81.0</td>\n",
       "      <td>0.0</td>\n",
       "      <td>0.0</td>\n",
       "      <td>0.0</td>\n",
       "      <td>0.0</td>\n",
       "      <td>0.0</td>\n",
       "      <td>0.0</td>\n",
       "      <td>0.0</td>\n",
       "      <td>207.0</td>\n",
       "      <td>0.0</td>\n",
       "      <td>153.0</td>\n",
       "      <td>154.0</td>\n",
       "      <td>89.063515</td>\n",
       "      <td>0.00000</td>\n",
       "      <td>0.0</td>\n",
       "      <td>0.0</td>\n",
       "      <td>0.0</td>\n",
       "      <td>0.0</td>\n",
       "      <td>0.0</td>\n",
       "      <td>0.0</td>\n",
       "      <td>0.0</td>\n",
       "      <td>18.841219</td>\n",
       "    </tr>\n",
       "    <tr>\n",
       "      <th>4</th>\n",
       "      <td>5</td>\n",
       "      <td>1576.0</td>\n",
       "      <td>1602.0</td>\n",
       "      <td>512.169934</td>\n",
       "      <td>4</td>\n",
       "      <td>0.0</td>\n",
       "      <td>0.0</td>\n",
       "      <td>0.0</td>\n",
       "      <td>78.0</td>\n",
       "      <td>0.0</td>\n",
       "      <td>0.0</td>\n",
       "      <td>0.0</td>\n",
       "      <td>0.0</td>\n",
       "      <td>0.0</td>\n",
       "      <td>0.0</td>\n",
       "      <td>0.0</td>\n",
       "      <td>203.0</td>\n",
       "      <td>0.0</td>\n",
       "      <td>151.0</td>\n",
       "      <td>152.0</td>\n",
       "      <td>89.238236</td>\n",
       "      <td>9.11456</td>\n",
       "      <td>0.0</td>\n",
       "      <td>0.0</td>\n",
       "      <td>0.0</td>\n",
       "      <td>0.0</td>\n",
       "      <td>0.0</td>\n",
       "      <td>0.0</td>\n",
       "      <td>0.0</td>\n",
       "      <td>5.413692</td>\n",
       "    </tr>\n",
       "    <tr>\n",
       "      <th>...</th>\n",
       "      <td>...</td>\n",
       "      <td>...</td>\n",
       "      <td>...</td>\n",
       "      <td>...</td>\n",
       "      <td>...</td>\n",
       "      <td>...</td>\n",
       "      <td>...</td>\n",
       "      <td>...</td>\n",
       "      <td>...</td>\n",
       "      <td>...</td>\n",
       "      <td>...</td>\n",
       "      <td>...</td>\n",
       "      <td>...</td>\n",
       "      <td>...</td>\n",
       "      <td>...</td>\n",
       "      <td>...</td>\n",
       "      <td>...</td>\n",
       "      <td>...</td>\n",
       "      <td>...</td>\n",
       "      <td>...</td>\n",
       "      <td>...</td>\n",
       "      <td>...</td>\n",
       "      <td>...</td>\n",
       "      <td>...</td>\n",
       "      <td>...</td>\n",
       "      <td>...</td>\n",
       "      <td>...</td>\n",
       "      <td>...</td>\n",
       "      <td>...</td>\n",
       "      <td>...</td>\n",
       "    </tr>\n",
       "    <tr>\n",
       "      <th>2470</th>\n",
       "      <td>2495</td>\n",
       "      <td>1570.0</td>\n",
       "      <td>1591.0</td>\n",
       "      <td>694.177326</td>\n",
       "      <td>4</td>\n",
       "      <td>0.0</td>\n",
       "      <td>0.0</td>\n",
       "      <td>21.0</td>\n",
       "      <td>0.0</td>\n",
       "      <td>0.0</td>\n",
       "      <td>0.0</td>\n",
       "      <td>0.0</td>\n",
       "      <td>0.0</td>\n",
       "      <td>0.0</td>\n",
       "      <td>90.0</td>\n",
       "      <td>0.0</td>\n",
       "      <td>256.0</td>\n",
       "      <td>0.0</td>\n",
       "      <td>129.0</td>\n",
       "      <td>223.0</td>\n",
       "      <td>89.150879</td>\n",
       "      <td>0.00000</td>\n",
       "      <td>0.0</td>\n",
       "      <td>0.0</td>\n",
       "      <td>0.0</td>\n",
       "      <td>0.0</td>\n",
       "      <td>0.0</td>\n",
       "      <td>0.0</td>\n",
       "      <td>0.0</td>\n",
       "      <td>7.125735</td>\n",
       "    </tr>\n",
       "    <tr>\n",
       "      <th>2471</th>\n",
       "      <td>2496</td>\n",
       "      <td>1554.0</td>\n",
       "      <td>1591.0</td>\n",
       "      <td>815.818538</td>\n",
       "      <td>6</td>\n",
       "      <td>0.0</td>\n",
       "      <td>0.0</td>\n",
       "      <td>0.0</td>\n",
       "      <td>63.0</td>\n",
       "      <td>0.0</td>\n",
       "      <td>0.0</td>\n",
       "      <td>0.0</td>\n",
       "      <td>0.0</td>\n",
       "      <td>0.0</td>\n",
       "      <td>122.0</td>\n",
       "      <td>0.0</td>\n",
       "      <td>256.0</td>\n",
       "      <td>0.0</td>\n",
       "      <td>129.0</td>\n",
       "      <td>226.0</td>\n",
       "      <td>114.179527</td>\n",
       "      <td>0.00000</td>\n",
       "      <td>0.0</td>\n",
       "      <td>0.0</td>\n",
       "      <td>0.0</td>\n",
       "      <td>0.0</td>\n",
       "      <td>0.0</td>\n",
       "      <td>0.0</td>\n",
       "      <td>0.0</td>\n",
       "      <td>9.412616</td>\n",
       "    </tr>\n",
       "    <tr>\n",
       "      <th>2472</th>\n",
       "      <td>2497</td>\n",
       "      <td>1571.0</td>\n",
       "      <td>1589.0</td>\n",
       "      <td>823.020520</td>\n",
       "      <td>3</td>\n",
       "      <td>0.0</td>\n",
       "      <td>0.0</td>\n",
       "      <td>0.0</td>\n",
       "      <td>85.0</td>\n",
       "      <td>0.0</td>\n",
       "      <td>0.0</td>\n",
       "      <td>0.0</td>\n",
       "      <td>0.0</td>\n",
       "      <td>0.0</td>\n",
       "      <td>0.0</td>\n",
       "      <td>0.0</td>\n",
       "      <td>230.0</td>\n",
       "      <td>0.0</td>\n",
       "      <td>124.0</td>\n",
       "      <td>226.0</td>\n",
       "      <td>94.086723</td>\n",
       "      <td>9.04800</td>\n",
       "      <td>0.0</td>\n",
       "      <td>0.0</td>\n",
       "      <td>0.0</td>\n",
       "      <td>0.0</td>\n",
       "      <td>0.0</td>\n",
       "      <td>0.0</td>\n",
       "      <td>0.0</td>\n",
       "      <td>6.271699</td>\n",
       "    </tr>\n",
       "    <tr>\n",
       "      <th>2473</th>\n",
       "      <td>2498</td>\n",
       "      <td>1591.0</td>\n",
       "      <td>1594.0</td>\n",
       "      <td>581.810739</td>\n",
       "      <td>5</td>\n",
       "      <td>0.0</td>\n",
       "      <td>0.0</td>\n",
       "      <td>90.0</td>\n",
       "      <td>0.0</td>\n",
       "      <td>0.0</td>\n",
       "      <td>0.0</td>\n",
       "      <td>0.0</td>\n",
       "      <td>0.0</td>\n",
       "      <td>0.0</td>\n",
       "      <td>101.0</td>\n",
       "      <td>0.0</td>\n",
       "      <td>206.0</td>\n",
       "      <td>0.0</td>\n",
       "      <td>129.0</td>\n",
       "      <td>207.0</td>\n",
       "      <td>118.110717</td>\n",
       "      <td>0.00000</td>\n",
       "      <td>0.0</td>\n",
       "      <td>0.0</td>\n",
       "      <td>0.0</td>\n",
       "      <td>0.0</td>\n",
       "      <td>0.0</td>\n",
       "      <td>0.0</td>\n",
       "      <td>0.0</td>\n",
       "      <td>14.953657</td>\n",
       "    </tr>\n",
       "    <tr>\n",
       "      <th>2474</th>\n",
       "      <td>2499</td>\n",
       "      <td>1569.0</td>\n",
       "      <td>1603.0</td>\n",
       "      <td>532.386183</td>\n",
       "      <td>4</td>\n",
       "      <td>0.0</td>\n",
       "      <td>0.0</td>\n",
       "      <td>47.0</td>\n",
       "      <td>0.0</td>\n",
       "      <td>0.0</td>\n",
       "      <td>0.0</td>\n",
       "      <td>0.0</td>\n",
       "      <td>0.0</td>\n",
       "      <td>0.0</td>\n",
       "      <td>0.0</td>\n",
       "      <td>0.0</td>\n",
       "      <td>233.0</td>\n",
       "      <td>0.0</td>\n",
       "      <td>126.0</td>\n",
       "      <td>227.0</td>\n",
       "      <td>110.160958</td>\n",
       "      <td>50.00528</td>\n",
       "      <td>0.0</td>\n",
       "      <td>0.0</td>\n",
       "      <td>0.0</td>\n",
       "      <td>0.0</td>\n",
       "      <td>0.0</td>\n",
       "      <td>0.0</td>\n",
       "      <td>0.0</td>\n",
       "      <td>11.336151</td>\n",
       "    </tr>\n",
       "  </tbody>\n",
       "</table>\n",
       "<p>2475 rows × 30 columns</p>\n",
       "</div>"
      ],
      "text/plain": [
       "       key  initial_temp  final_temp        work  heating_cycles  bulk_1  \\\n",
       "0        1        1571.0      1613.0  770.282114               5     0.0   \n",
       "1        2        1581.0      1602.0  481.760005               4     0.0   \n",
       "2        3        1596.0      1599.0  722.837668               5     0.0   \n",
       "3        4        1601.0      1625.0  683.455597               4     0.0   \n",
       "4        5        1576.0      1602.0  512.169934               4     0.0   \n",
       "...    ...           ...         ...         ...             ...     ...   \n",
       "2470  2495        1570.0      1591.0  694.177326               4     0.0   \n",
       "2471  2496        1554.0      1591.0  815.818538               6     0.0   \n",
       "2472  2497        1571.0      1589.0  823.020520               3     0.0   \n",
       "2473  2498        1591.0      1594.0  581.810739               5     0.0   \n",
       "2474  2499        1569.0      1603.0  532.386183               4     0.0   \n",
       "\n",
       "      bulk_2  bulk_3  bulk_4  bulk_5  bulk_6  bulk_7  bulk_8  bulk_9  bulk_10  \\\n",
       "0        0.0     0.0    43.0     0.0     0.0     0.0     0.0     0.0      0.0   \n",
       "1        0.0     0.0    73.0     0.0     0.0     0.0     0.0     0.0      0.0   \n",
       "2        0.0     0.0    34.0     0.0     0.0     0.0     0.0     0.0      0.0   \n",
       "3        0.0     0.0    81.0     0.0     0.0     0.0     0.0     0.0      0.0   \n",
       "4        0.0     0.0    78.0     0.0     0.0     0.0     0.0     0.0      0.0   \n",
       "...      ...     ...     ...     ...     ...     ...     ...     ...      ...   \n",
       "2470     0.0    21.0     0.0     0.0     0.0     0.0     0.0     0.0     90.0   \n",
       "2471     0.0     0.0    63.0     0.0     0.0     0.0     0.0     0.0    122.0   \n",
       "2472     0.0     0.0    85.0     0.0     0.0     0.0     0.0     0.0      0.0   \n",
       "2473     0.0    90.0     0.0     0.0     0.0     0.0     0.0     0.0    101.0   \n",
       "2474     0.0    47.0     0.0     0.0     0.0     0.0     0.0     0.0      0.0   \n",
       "\n",
       "      bulk_11  bulk_12  bulk_13  bulk_14  bulk_15      wire_1    wire_2  \\\n",
       "0         0.0    206.0      0.0    150.0    154.0   60.059998   0.00000   \n",
       "1         0.0    206.0      0.0    149.0    154.0   96.052315   0.00000   \n",
       "2         0.0    205.0      0.0    152.0    153.0   91.160157   0.00000   \n",
       "3         0.0    207.0      0.0    153.0    154.0   89.063515   0.00000   \n",
       "4         0.0    203.0      0.0    151.0    152.0   89.238236   9.11456   \n",
       "...       ...      ...      ...      ...      ...         ...       ...   \n",
       "2470      0.0    256.0      0.0    129.0    223.0   89.150879   0.00000   \n",
       "2471      0.0    256.0      0.0    129.0    226.0  114.179527   0.00000   \n",
       "2472      0.0    230.0      0.0    124.0    226.0   94.086723   9.04800   \n",
       "2473      0.0    206.0      0.0    129.0    207.0  118.110717   0.00000   \n",
       "2474      0.0    233.0      0.0    126.0    227.0  110.160958  50.00528   \n",
       "\n",
       "      wire_3  wire_4  wire_5  wire_6  wire_7  wire_8  wire_9      gas_1  \n",
       "0        0.0     0.0     0.0     0.0     0.0     0.0     0.0  29.749986  \n",
       "1        0.0     0.0     0.0     0.0     0.0     0.0     0.0  12.555561  \n",
       "2        0.0     0.0     0.0     0.0     0.0     0.0     0.0  28.554793  \n",
       "3        0.0     0.0     0.0     0.0     0.0     0.0     0.0  18.841219  \n",
       "4        0.0     0.0     0.0     0.0     0.0     0.0     0.0   5.413692  \n",
       "...      ...     ...     ...     ...     ...     ...     ...        ...  \n",
       "2470     0.0     0.0     0.0     0.0     0.0     0.0     0.0   7.125735  \n",
       "2471     0.0     0.0     0.0     0.0     0.0     0.0     0.0   9.412616  \n",
       "2472     0.0     0.0     0.0     0.0     0.0     0.0     0.0   6.271699  \n",
       "2473     0.0     0.0     0.0     0.0     0.0     0.0     0.0  14.953657  \n",
       "2474     0.0     0.0     0.0     0.0     0.0     0.0     0.0  11.336151  \n",
       "\n",
       "[2475 rows x 30 columns]"
      ]
     },
     "metadata": {},
     "output_type": "display_data"
    }
   ],
   "source": [
    "# Объединение таблиц data_modeling и data_gas\n",
    "data_modeling = data_modeling.merge(data_gas[['key', 'Газ 1']], on='key', how='left')\n",
    "\n",
    "# Переименование столбца 'Газ 1' в 'gas_1'\n",
    "data_modeling.rename(columns={'Газ 1': 'gas_1'}, inplace=True)\n",
    "\n",
    "# Заполнение пропусков нулями\n",
    "data_modeling['gas_1'] = data_modeling['gas_1'].fillna(0)\n",
    "\n",
    "# Вывод результата\n",
    "with pd.option_context('display.max_columns', None):\n",
    "    display(data_modeling)\n"
   ]
  },
  {
   "cell_type": "code",
   "execution_count": 18,
   "id": "acef9a6e",
   "metadata": {},
   "outputs": [
    {
     "data": {
      "text/html": [
       "<div>\n",
       "<style scoped>\n",
       "    .dataframe tbody tr th:only-of-type {\n",
       "        vertical-align: middle;\n",
       "    }\n",
       "\n",
       "    .dataframe tbody tr th {\n",
       "        vertical-align: top;\n",
       "    }\n",
       "\n",
       "    .dataframe thead th {\n",
       "        text-align: right;\n",
       "    }\n",
       "</style>\n",
       "<table border=\"1\" class=\"dataframe\">\n",
       "  <thead>\n",
       "    <tr style=\"text-align: right;\">\n",
       "      <th></th>\n",
       "      <th>key</th>\n",
       "      <th>initial_temp</th>\n",
       "      <th>final_temp</th>\n",
       "      <th>work</th>\n",
       "      <th>heating_cycles</th>\n",
       "      <th>bulk_1</th>\n",
       "      <th>bulk_2</th>\n",
       "      <th>bulk_3</th>\n",
       "      <th>bulk_4</th>\n",
       "      <th>bulk_5</th>\n",
       "      <th>bulk_6</th>\n",
       "      <th>bulk_7</th>\n",
       "      <th>bulk_8</th>\n",
       "      <th>bulk_9</th>\n",
       "      <th>bulk_10</th>\n",
       "      <th>bulk_11</th>\n",
       "      <th>bulk_12</th>\n",
       "      <th>bulk_13</th>\n",
       "      <th>bulk_14</th>\n",
       "      <th>bulk_15</th>\n",
       "      <th>wire_1</th>\n",
       "      <th>wire_2</th>\n",
       "      <th>wire_3</th>\n",
       "      <th>wire_4</th>\n",
       "      <th>wire_5</th>\n",
       "      <th>wire_6</th>\n",
       "      <th>wire_7</th>\n",
       "      <th>wire_8</th>\n",
       "      <th>wire_9</th>\n",
       "      <th>gas_1</th>\n",
       "    </tr>\n",
       "  </thead>\n",
       "  <tbody>\n",
       "    <tr>\n",
       "      <th>0</th>\n",
       "      <td>1</td>\n",
       "      <td>1571.0</td>\n",
       "      <td>1613.0</td>\n",
       "      <td>770.282114</td>\n",
       "      <td>5</td>\n",
       "      <td>0.0</td>\n",
       "      <td>0.0</td>\n",
       "      <td>0.0</td>\n",
       "      <td>43.0</td>\n",
       "      <td>0.0</td>\n",
       "      <td>0.0</td>\n",
       "      <td>0.0</td>\n",
       "      <td>0.0</td>\n",
       "      <td>0.0</td>\n",
       "      <td>0.0</td>\n",
       "      <td>0.0</td>\n",
       "      <td>206.0</td>\n",
       "      <td>0.0</td>\n",
       "      <td>150.0</td>\n",
       "      <td>154.0</td>\n",
       "      <td>60.059998</td>\n",
       "      <td>0.00000</td>\n",
       "      <td>0.0</td>\n",
       "      <td>0.0</td>\n",
       "      <td>0.0</td>\n",
       "      <td>0.0</td>\n",
       "      <td>0.0</td>\n",
       "      <td>0.0</td>\n",
       "      <td>0.0</td>\n",
       "      <td>29.749986</td>\n",
       "    </tr>\n",
       "    <tr>\n",
       "      <th>1</th>\n",
       "      <td>2</td>\n",
       "      <td>1581.0</td>\n",
       "      <td>1602.0</td>\n",
       "      <td>481.760005</td>\n",
       "      <td>4</td>\n",
       "      <td>0.0</td>\n",
       "      <td>0.0</td>\n",
       "      <td>0.0</td>\n",
       "      <td>73.0</td>\n",
       "      <td>0.0</td>\n",
       "      <td>0.0</td>\n",
       "      <td>0.0</td>\n",
       "      <td>0.0</td>\n",
       "      <td>0.0</td>\n",
       "      <td>0.0</td>\n",
       "      <td>0.0</td>\n",
       "      <td>206.0</td>\n",
       "      <td>0.0</td>\n",
       "      <td>149.0</td>\n",
       "      <td>154.0</td>\n",
       "      <td>96.052315</td>\n",
       "      <td>0.00000</td>\n",
       "      <td>0.0</td>\n",
       "      <td>0.0</td>\n",
       "      <td>0.0</td>\n",
       "      <td>0.0</td>\n",
       "      <td>0.0</td>\n",
       "      <td>0.0</td>\n",
       "      <td>0.0</td>\n",
       "      <td>12.555561</td>\n",
       "    </tr>\n",
       "    <tr>\n",
       "      <th>2</th>\n",
       "      <td>3</td>\n",
       "      <td>1596.0</td>\n",
       "      <td>1599.0</td>\n",
       "      <td>722.837668</td>\n",
       "      <td>5</td>\n",
       "      <td>0.0</td>\n",
       "      <td>0.0</td>\n",
       "      <td>0.0</td>\n",
       "      <td>34.0</td>\n",
       "      <td>0.0</td>\n",
       "      <td>0.0</td>\n",
       "      <td>0.0</td>\n",
       "      <td>0.0</td>\n",
       "      <td>0.0</td>\n",
       "      <td>0.0</td>\n",
       "      <td>0.0</td>\n",
       "      <td>205.0</td>\n",
       "      <td>0.0</td>\n",
       "      <td>152.0</td>\n",
       "      <td>153.0</td>\n",
       "      <td>91.160157</td>\n",
       "      <td>0.00000</td>\n",
       "      <td>0.0</td>\n",
       "      <td>0.0</td>\n",
       "      <td>0.0</td>\n",
       "      <td>0.0</td>\n",
       "      <td>0.0</td>\n",
       "      <td>0.0</td>\n",
       "      <td>0.0</td>\n",
       "      <td>28.554793</td>\n",
       "    </tr>\n",
       "    <tr>\n",
       "      <th>3</th>\n",
       "      <td>4</td>\n",
       "      <td>1601.0</td>\n",
       "      <td>1625.0</td>\n",
       "      <td>683.455597</td>\n",
       "      <td>4</td>\n",
       "      <td>0.0</td>\n",
       "      <td>0.0</td>\n",
       "      <td>0.0</td>\n",
       "      <td>81.0</td>\n",
       "      <td>0.0</td>\n",
       "      <td>0.0</td>\n",
       "      <td>0.0</td>\n",
       "      <td>0.0</td>\n",
       "      <td>0.0</td>\n",
       "      <td>0.0</td>\n",
       "      <td>0.0</td>\n",
       "      <td>207.0</td>\n",
       "      <td>0.0</td>\n",
       "      <td>153.0</td>\n",
       "      <td>154.0</td>\n",
       "      <td>89.063515</td>\n",
       "      <td>0.00000</td>\n",
       "      <td>0.0</td>\n",
       "      <td>0.0</td>\n",
       "      <td>0.0</td>\n",
       "      <td>0.0</td>\n",
       "      <td>0.0</td>\n",
       "      <td>0.0</td>\n",
       "      <td>0.0</td>\n",
       "      <td>18.841219</td>\n",
       "    </tr>\n",
       "    <tr>\n",
       "      <th>4</th>\n",
       "      <td>5</td>\n",
       "      <td>1576.0</td>\n",
       "      <td>1602.0</td>\n",
       "      <td>512.169934</td>\n",
       "      <td>4</td>\n",
       "      <td>0.0</td>\n",
       "      <td>0.0</td>\n",
       "      <td>0.0</td>\n",
       "      <td>78.0</td>\n",
       "      <td>0.0</td>\n",
       "      <td>0.0</td>\n",
       "      <td>0.0</td>\n",
       "      <td>0.0</td>\n",
       "      <td>0.0</td>\n",
       "      <td>0.0</td>\n",
       "      <td>0.0</td>\n",
       "      <td>203.0</td>\n",
       "      <td>0.0</td>\n",
       "      <td>151.0</td>\n",
       "      <td>152.0</td>\n",
       "      <td>89.238236</td>\n",
       "      <td>9.11456</td>\n",
       "      <td>0.0</td>\n",
       "      <td>0.0</td>\n",
       "      <td>0.0</td>\n",
       "      <td>0.0</td>\n",
       "      <td>0.0</td>\n",
       "      <td>0.0</td>\n",
       "      <td>0.0</td>\n",
       "      <td>5.413692</td>\n",
       "    </tr>\n",
       "    <tr>\n",
       "      <th>...</th>\n",
       "      <td>...</td>\n",
       "      <td>...</td>\n",
       "      <td>...</td>\n",
       "      <td>...</td>\n",
       "      <td>...</td>\n",
       "      <td>...</td>\n",
       "      <td>...</td>\n",
       "      <td>...</td>\n",
       "      <td>...</td>\n",
       "      <td>...</td>\n",
       "      <td>...</td>\n",
       "      <td>...</td>\n",
       "      <td>...</td>\n",
       "      <td>...</td>\n",
       "      <td>...</td>\n",
       "      <td>...</td>\n",
       "      <td>...</td>\n",
       "      <td>...</td>\n",
       "      <td>...</td>\n",
       "      <td>...</td>\n",
       "      <td>...</td>\n",
       "      <td>...</td>\n",
       "      <td>...</td>\n",
       "      <td>...</td>\n",
       "      <td>...</td>\n",
       "      <td>...</td>\n",
       "      <td>...</td>\n",
       "      <td>...</td>\n",
       "      <td>...</td>\n",
       "      <td>...</td>\n",
       "    </tr>\n",
       "    <tr>\n",
       "      <th>2470</th>\n",
       "      <td>2495</td>\n",
       "      <td>1570.0</td>\n",
       "      <td>1591.0</td>\n",
       "      <td>694.177326</td>\n",
       "      <td>4</td>\n",
       "      <td>0.0</td>\n",
       "      <td>0.0</td>\n",
       "      <td>21.0</td>\n",
       "      <td>0.0</td>\n",
       "      <td>0.0</td>\n",
       "      <td>0.0</td>\n",
       "      <td>0.0</td>\n",
       "      <td>0.0</td>\n",
       "      <td>0.0</td>\n",
       "      <td>90.0</td>\n",
       "      <td>0.0</td>\n",
       "      <td>256.0</td>\n",
       "      <td>0.0</td>\n",
       "      <td>129.0</td>\n",
       "      <td>223.0</td>\n",
       "      <td>89.150879</td>\n",
       "      <td>0.00000</td>\n",
       "      <td>0.0</td>\n",
       "      <td>0.0</td>\n",
       "      <td>0.0</td>\n",
       "      <td>0.0</td>\n",
       "      <td>0.0</td>\n",
       "      <td>0.0</td>\n",
       "      <td>0.0</td>\n",
       "      <td>7.125735</td>\n",
       "    </tr>\n",
       "    <tr>\n",
       "      <th>2471</th>\n",
       "      <td>2496</td>\n",
       "      <td>1554.0</td>\n",
       "      <td>1591.0</td>\n",
       "      <td>815.818538</td>\n",
       "      <td>6</td>\n",
       "      <td>0.0</td>\n",
       "      <td>0.0</td>\n",
       "      <td>0.0</td>\n",
       "      <td>63.0</td>\n",
       "      <td>0.0</td>\n",
       "      <td>0.0</td>\n",
       "      <td>0.0</td>\n",
       "      <td>0.0</td>\n",
       "      <td>0.0</td>\n",
       "      <td>122.0</td>\n",
       "      <td>0.0</td>\n",
       "      <td>256.0</td>\n",
       "      <td>0.0</td>\n",
       "      <td>129.0</td>\n",
       "      <td>226.0</td>\n",
       "      <td>114.179527</td>\n",
       "      <td>0.00000</td>\n",
       "      <td>0.0</td>\n",
       "      <td>0.0</td>\n",
       "      <td>0.0</td>\n",
       "      <td>0.0</td>\n",
       "      <td>0.0</td>\n",
       "      <td>0.0</td>\n",
       "      <td>0.0</td>\n",
       "      <td>9.412616</td>\n",
       "    </tr>\n",
       "    <tr>\n",
       "      <th>2472</th>\n",
       "      <td>2497</td>\n",
       "      <td>1571.0</td>\n",
       "      <td>1589.0</td>\n",
       "      <td>823.020520</td>\n",
       "      <td>3</td>\n",
       "      <td>0.0</td>\n",
       "      <td>0.0</td>\n",
       "      <td>0.0</td>\n",
       "      <td>85.0</td>\n",
       "      <td>0.0</td>\n",
       "      <td>0.0</td>\n",
       "      <td>0.0</td>\n",
       "      <td>0.0</td>\n",
       "      <td>0.0</td>\n",
       "      <td>0.0</td>\n",
       "      <td>0.0</td>\n",
       "      <td>230.0</td>\n",
       "      <td>0.0</td>\n",
       "      <td>124.0</td>\n",
       "      <td>226.0</td>\n",
       "      <td>94.086723</td>\n",
       "      <td>9.04800</td>\n",
       "      <td>0.0</td>\n",
       "      <td>0.0</td>\n",
       "      <td>0.0</td>\n",
       "      <td>0.0</td>\n",
       "      <td>0.0</td>\n",
       "      <td>0.0</td>\n",
       "      <td>0.0</td>\n",
       "      <td>6.271699</td>\n",
       "    </tr>\n",
       "    <tr>\n",
       "      <th>2473</th>\n",
       "      <td>2498</td>\n",
       "      <td>1591.0</td>\n",
       "      <td>1594.0</td>\n",
       "      <td>581.810739</td>\n",
       "      <td>5</td>\n",
       "      <td>0.0</td>\n",
       "      <td>0.0</td>\n",
       "      <td>90.0</td>\n",
       "      <td>0.0</td>\n",
       "      <td>0.0</td>\n",
       "      <td>0.0</td>\n",
       "      <td>0.0</td>\n",
       "      <td>0.0</td>\n",
       "      <td>0.0</td>\n",
       "      <td>101.0</td>\n",
       "      <td>0.0</td>\n",
       "      <td>206.0</td>\n",
       "      <td>0.0</td>\n",
       "      <td>129.0</td>\n",
       "      <td>207.0</td>\n",
       "      <td>118.110717</td>\n",
       "      <td>0.00000</td>\n",
       "      <td>0.0</td>\n",
       "      <td>0.0</td>\n",
       "      <td>0.0</td>\n",
       "      <td>0.0</td>\n",
       "      <td>0.0</td>\n",
       "      <td>0.0</td>\n",
       "      <td>0.0</td>\n",
       "      <td>14.953657</td>\n",
       "    </tr>\n",
       "    <tr>\n",
       "      <th>2474</th>\n",
       "      <td>2499</td>\n",
       "      <td>1569.0</td>\n",
       "      <td>1603.0</td>\n",
       "      <td>532.386183</td>\n",
       "      <td>4</td>\n",
       "      <td>0.0</td>\n",
       "      <td>0.0</td>\n",
       "      <td>47.0</td>\n",
       "      <td>0.0</td>\n",
       "      <td>0.0</td>\n",
       "      <td>0.0</td>\n",
       "      <td>0.0</td>\n",
       "      <td>0.0</td>\n",
       "      <td>0.0</td>\n",
       "      <td>0.0</td>\n",
       "      <td>0.0</td>\n",
       "      <td>233.0</td>\n",
       "      <td>0.0</td>\n",
       "      <td>126.0</td>\n",
       "      <td>227.0</td>\n",
       "      <td>110.160958</td>\n",
       "      <td>50.00528</td>\n",
       "      <td>0.0</td>\n",
       "      <td>0.0</td>\n",
       "      <td>0.0</td>\n",
       "      <td>0.0</td>\n",
       "      <td>0.0</td>\n",
       "      <td>0.0</td>\n",
       "      <td>0.0</td>\n",
       "      <td>11.336151</td>\n",
       "    </tr>\n",
       "  </tbody>\n",
       "</table>\n",
       "<p>2329 rows × 30 columns</p>\n",
       "</div>"
      ],
      "text/plain": [
       "       key  initial_temp  final_temp        work  heating_cycles  bulk_1  \\\n",
       "0        1        1571.0      1613.0  770.282114               5     0.0   \n",
       "1        2        1581.0      1602.0  481.760005               4     0.0   \n",
       "2        3        1596.0      1599.0  722.837668               5     0.0   \n",
       "3        4        1601.0      1625.0  683.455597               4     0.0   \n",
       "4        5        1576.0      1602.0  512.169934               4     0.0   \n",
       "...    ...           ...         ...         ...             ...     ...   \n",
       "2470  2495        1570.0      1591.0  694.177326               4     0.0   \n",
       "2471  2496        1554.0      1591.0  815.818538               6     0.0   \n",
       "2472  2497        1571.0      1589.0  823.020520               3     0.0   \n",
       "2473  2498        1591.0      1594.0  581.810739               5     0.0   \n",
       "2474  2499        1569.0      1603.0  532.386183               4     0.0   \n",
       "\n",
       "      bulk_2  bulk_3  bulk_4  bulk_5  bulk_6  bulk_7  bulk_8  bulk_9  bulk_10  \\\n",
       "0        0.0     0.0    43.0     0.0     0.0     0.0     0.0     0.0      0.0   \n",
       "1        0.0     0.0    73.0     0.0     0.0     0.0     0.0     0.0      0.0   \n",
       "2        0.0     0.0    34.0     0.0     0.0     0.0     0.0     0.0      0.0   \n",
       "3        0.0     0.0    81.0     0.0     0.0     0.0     0.0     0.0      0.0   \n",
       "4        0.0     0.0    78.0     0.0     0.0     0.0     0.0     0.0      0.0   \n",
       "...      ...     ...     ...     ...     ...     ...     ...     ...      ...   \n",
       "2470     0.0    21.0     0.0     0.0     0.0     0.0     0.0     0.0     90.0   \n",
       "2471     0.0     0.0    63.0     0.0     0.0     0.0     0.0     0.0    122.0   \n",
       "2472     0.0     0.0    85.0     0.0     0.0     0.0     0.0     0.0      0.0   \n",
       "2473     0.0    90.0     0.0     0.0     0.0     0.0     0.0     0.0    101.0   \n",
       "2474     0.0    47.0     0.0     0.0     0.0     0.0     0.0     0.0      0.0   \n",
       "\n",
       "      bulk_11  bulk_12  bulk_13  bulk_14  bulk_15      wire_1    wire_2  \\\n",
       "0         0.0    206.0      0.0    150.0    154.0   60.059998   0.00000   \n",
       "1         0.0    206.0      0.0    149.0    154.0   96.052315   0.00000   \n",
       "2         0.0    205.0      0.0    152.0    153.0   91.160157   0.00000   \n",
       "3         0.0    207.0      0.0    153.0    154.0   89.063515   0.00000   \n",
       "4         0.0    203.0      0.0    151.0    152.0   89.238236   9.11456   \n",
       "...       ...      ...      ...      ...      ...         ...       ...   \n",
       "2470      0.0    256.0      0.0    129.0    223.0   89.150879   0.00000   \n",
       "2471      0.0    256.0      0.0    129.0    226.0  114.179527   0.00000   \n",
       "2472      0.0    230.0      0.0    124.0    226.0   94.086723   9.04800   \n",
       "2473      0.0    206.0      0.0    129.0    207.0  118.110717   0.00000   \n",
       "2474      0.0    233.0      0.0    126.0    227.0  110.160958  50.00528   \n",
       "\n",
       "      wire_3  wire_4  wire_5  wire_6  wire_7  wire_8  wire_9      gas_1  \n",
       "0        0.0     0.0     0.0     0.0     0.0     0.0     0.0  29.749986  \n",
       "1        0.0     0.0     0.0     0.0     0.0     0.0     0.0  12.555561  \n",
       "2        0.0     0.0     0.0     0.0     0.0     0.0     0.0  28.554793  \n",
       "3        0.0     0.0     0.0     0.0     0.0     0.0     0.0  18.841219  \n",
       "4        0.0     0.0     0.0     0.0     0.0     0.0     0.0   5.413692  \n",
       "...      ...     ...     ...     ...     ...     ...     ...        ...  \n",
       "2470     0.0     0.0     0.0     0.0     0.0     0.0     0.0   7.125735  \n",
       "2471     0.0     0.0     0.0     0.0     0.0     0.0     0.0   9.412616  \n",
       "2472     0.0     0.0     0.0     0.0     0.0     0.0     0.0   6.271699  \n",
       "2473     0.0     0.0     0.0     0.0     0.0     0.0     0.0  14.953657  \n",
       "2474     0.0     0.0     0.0     0.0     0.0     0.0     0.0  11.336151  \n",
       "\n",
       "[2329 rows x 30 columns]"
      ]
     },
     "metadata": {},
     "output_type": "display_data"
    },
    {
     "name": "stdout",
     "output_type": "stream",
     "text": [
      "<class 'pandas.core.frame.DataFrame'>\n",
      "Int64Index: 2329 entries, 0 to 2474\n",
      "Data columns (total 30 columns):\n",
      " #   Column          Non-Null Count  Dtype  \n",
      "---  ------          --------------  -----  \n",
      " 0   key             2329 non-null   int64  \n",
      " 1   initial_temp    2329 non-null   float64\n",
      " 2   final_temp      2329 non-null   float64\n",
      " 3   work            2329 non-null   float64\n",
      " 4   heating_cycles  2329 non-null   int64  \n",
      " 5   bulk_1          2329 non-null   float64\n",
      " 6   bulk_2          2329 non-null   float64\n",
      " 7   bulk_3          2329 non-null   float64\n",
      " 8   bulk_4          2329 non-null   float64\n",
      " 9   bulk_5          2329 non-null   float64\n",
      " 10  bulk_6          2329 non-null   float64\n",
      " 11  bulk_7          2329 non-null   float64\n",
      " 12  bulk_8          2329 non-null   float64\n",
      " 13  bulk_9          2329 non-null   float64\n",
      " 14  bulk_10         2329 non-null   float64\n",
      " 15  bulk_11         2329 non-null   float64\n",
      " 16  bulk_12         2329 non-null   float64\n",
      " 17  bulk_13         2329 non-null   float64\n",
      " 18  bulk_14         2329 non-null   float64\n",
      " 19  bulk_15         2329 non-null   float64\n",
      " 20  wire_1          2329 non-null   float64\n",
      " 21  wire_2          2329 non-null   float64\n",
      " 22  wire_3          2329 non-null   float64\n",
      " 23  wire_4          2329 non-null   float64\n",
      " 24  wire_5          2329 non-null   float64\n",
      " 25  wire_6          2329 non-null   float64\n",
      " 26  wire_7          2329 non-null   float64\n",
      " 27  wire_8          2329 non-null   float64\n",
      " 28  wire_9          2329 non-null   float64\n",
      " 29  gas_1           2329 non-null   float64\n",
      "dtypes: float64(28), int64(2)\n",
      "memory usage: 564.1 KB\n",
      "None\n"
     ]
    }
   ],
   "source": [
    "# Создание копии исходного датафрейма для безопасности\n",
    "data_modeling_filtered = data_modeling.copy()\n",
    "\n",
    "# Список имен датафреймов\n",
    "data_frames = [data_bulk, data_bulk_time, data_gas, data_temp, data_wire, data_wire_time]\n",
    "\n",
    "# Определение общих ключей\n",
    "common_keys = set(data_modeling_filtered['key'])\n",
    "for df in data_frames:\n",
    "    common_keys = common_keys.intersection(set(df['key']))\n",
    "\n",
    "# Оставление только общих ключей в каждом датафрейме\n",
    "data_modeling_filtered = data_modeling_filtered[data_modeling_filtered['key'].isin(common_keys)]\n",
    "for df in data_frames:\n",
    "    df = df[df['key'].isin(common_keys)]\n",
    "\n",
    "# Вывод результата\n",
    "with pd.option_context('display.max_columns', None):\n",
    "    display(data_modeling_filtered)\n",
    "\n",
    "print(data_modeling_filtered.info())"
   ]
  },
  {
   "cell_type": "markdown",
   "id": "a0b30d76",
   "metadata": {},
   "source": [
    "Данные предобработаны и можно переходить к обучению моделей."
   ]
  },
  {
   "cell_type": "markdown",
   "id": "968382fe",
   "metadata": {},
   "source": [
    "## Обучение моделей"
   ]
  },
  {
   "cell_type": "code",
   "execution_count": 19,
   "id": "736b7d4b",
   "metadata": {},
   "outputs": [],
   "source": [
    "# Отделяем признаки и целевую переменную\n",
    "features = data_modeling_filtered.drop(['key', 'final_temp'], axis=1)\n",
    "target = data_modeling_filtered['final_temp']\n",
    "\n",
    "# Разделяем данные на обучающую и тестовую выборки\n",
    "features_train, features_test, target_train, target_test = train_test_split(\n",
    "    features, target, test_size=0.25, random_state=RANDOM_STATE\n",
    ")\n"
   ]
  },
  {
   "cell_type": "code",
   "execution_count": 20,
   "id": "824d1bed",
   "metadata": {},
   "outputs": [],
   "source": [
    "# Определяем пайплайн для предобработки данных и обучения моделей\n",
    "preprocessor = ColumnTransformer(\n",
    "    transformers=[\n",
    "        ('num', StandardScaler(), features.columns)\n",
    "    ]\n",
    ")\n",
    "\n",
    "models = [\n",
    "    ('RandomForest', RandomForestRegressor(random_state=RANDOM_STATE), {'model__n_estimators': [50, 100], 'model__max_depth': [5, 10]}),\n",
    "    ('LGBM', LGBMRegressor(random_state=RANDOM_STATE), {'model__n_estimators': [50, 100], 'model__max_depth': [5, 10]}),\n",
    "    ('CatBoost', CatBoostRegressor(verbose=False, random_state=RANDOM_STATE), {'model__iterations': [50, 100], 'model__depth': [5, 10]})\n",
    "]\n",
    "\n",
    "best_models = []\n",
    "cv_results = {}  # Словарь для хранения результатов кросс-валидации"
   ]
  },
  {
   "cell_type": "code",
   "execution_count": 21,
   "id": "54318d2c",
   "metadata": {
    "scrolled": false
   },
   "outputs": [
    {
     "name": "stdout",
     "output_type": "stream",
     "text": [
      "CPU times: user 3 µs, sys: 0 ns, total: 3 µs\n",
      "Wall time: 5.48 µs\n",
      "Results for RandomForest:\n",
      "Best parameters: {'model__max_depth': 10, 'model__n_estimators': 50}\n",
      "Best MAE on cross-validation: 6.570453964063685\n",
      "\n",
      "Results for LGBM:\n",
      "Best parameters: {'model__max_depth': 5, 'model__n_estimators': 50}\n",
      "Best MAE on cross-validation: 6.567745126021554\n",
      "\n",
      "Results for CatBoost:\n",
      "Best parameters: {'model__depth': 5, 'model__iterations': 100}\n",
      "Best MAE on cross-validation: 6.658423706457614\n",
      "\n"
     ]
    }
   ],
   "source": [
    "%time\n",
    "for model_name, model, params in models:\n",
    "    pipeline = Pipeline(steps=[('preprocessor', preprocessor), ('model', model)])\n",
    "    grid_search = GridSearchCV(pipeline, params, scoring='neg_mean_absolute_error', cv=3, n_jobs=-1)\n",
    "    grid_search.fit(features_train, target_train)\n",
    "    \n",
    "    best_models.append((model_name, grid_search.best_estimator_))\n",
    "    cv_results[model_name] = {\n",
    "        'best_params': grid_search.best_params_,\n",
    "        'best_mae': -grid_search.best_score_,\n",
    "    }\n",
    "\n",
    "# Вывод результатов кросс-валидации для каждой модели\n",
    "for model_name, result in cv_results.items():\n",
    "    print(f\"Results for {model_name}:\")\n",
    "    print(f\"Best parameters: {result['best_params']}\")\n",
    "    print(f\"Best MAE on cross-validation: {result['best_mae']}\")\n",
    "    print()"
   ]
  },
  {
   "cell_type": "markdown",
   "id": "71a41249",
   "metadata": {},
   "source": [
    "Лучшая модель на кросс-валидации - LGBM. Проверим её на тестовой выборке."
   ]
  },
  {
   "cell_type": "code",
   "execution_count": 22,
   "id": "ef0a2c07",
   "metadata": {
    "scrolled": false
   },
   "outputs": [
    {
     "name": "stdout",
     "output_type": "stream",
     "text": [
      "Best Model: LGBM\n",
      "Best Model Parameters: {'boosting_type': 'gbdt', 'class_weight': None, 'colsample_bytree': 1.0, 'importance_type': 'split', 'learning_rate': 0.1, 'max_depth': 5, 'min_child_samples': 20, 'min_child_weight': 0.001, 'min_split_gain': 0.0, 'n_estimators': 50, 'n_jobs': -1, 'num_leaves': 31, 'objective': None, 'random_state': 131223, 'reg_alpha': 0.0, 'reg_lambda': 0.0, 'silent': 'warn', 'subsample': 1.0, 'subsample_for_bin': 200000, 'subsample_freq': 0}\n",
      "MAE on Test Set: 6.787134896392692\n"
     ]
    }
   ],
   "source": [
    "# Выбор лучшей модели на основе кросс-валидации\n",
    "best_model_name, best_model = min(best_models, key=lambda x: cv_results[x[0]]['best_mae'])\n",
    "print(f\"Best Model: {best_model_name}\")\n",
    "print(f\"Best Model Parameters: {best_model.named_steps['model'].get_params()}\")\n",
    "print(f\"MAE on Test Set: {mean_absolute_error(best_model.predict(features_test), target_test)}\")"
   ]
  },
  {
   "cell_type": "markdown",
   "id": "0bd47caa",
   "metadata": {},
   "source": [
    "На тестовой выборке модель показала MAE 6.7871"
   ]
  },
  {
   "cell_type": "markdown",
   "id": "33b4cb0f",
   "metadata": {},
   "source": [
    "### Изучение важности признаков"
   ]
  },
  {
   "cell_type": "code",
   "execution_count": 23,
   "id": "c6fcc180",
   "metadata": {},
   "outputs": [
    {
     "data": {
      "image/png": "[encoded data removed]",
      "text/plain": [
       "<Figure size 720x576 with 1 Axes>"
      ]
     },
     "metadata": {
      "needs_background": "light"
     },
     "output_type": "display_data"
    }
   ],
   "source": [
    "def plot_feature_importance(importance, names, model_type, limit=10):\n",
    "    feature_importance = np.array(importance)\n",
    "    feature_names = np.array(names)\n",
    "\n",
    "    data={'feature_names':feature_names,'feature_importance':feature_importance}\n",
    "    fi_df = pd.DataFrame(data)\n",
    "\n",
    "    fi_df.sort_values(by=['feature_importance'], ascending=False,inplace=True)\n",
    "\n",
    "    plt.figure(figsize=(10,8))\n",
    "    sns.barplot(x=fi_df['feature_importance'][:limit], y=fi_df['feature_names'][:limit])\n",
    "\n",
    "    plt.title(f'{model_type} - Feature Importance')\n",
    "    plt.xlabel('Feature Importance')\n",
    "    plt.ylabel('Feature Names')\n",
    "    \n",
    "# Получаем важности признаков для LGBMRegressor\n",
    "importance = best_model.named_steps['model'].feature_importances_\n",
    "feature_names = features_train.columns\n",
    "\n",
    "# Визуализируем важности признаков\n",
    "plot_feature_importance(importance, feature_names, model_type='LGBM')\n",
    "plt.show()"
   ]
  },
  {
   "cell_type": "markdown",
   "id": "ebf0a06f",
   "metadata": {},
   "source": [
    "График важности признаков показывает нам следующее:  \n",
    "  \n",
    "- Самым важным признаком является начальная температура, что вполне логично.\n",
    "- Работа также очень значительно влияет на целевую\n",
    "- Далее по убыванию влияния располагаются признаки wire_1, gas_1, bulk_14, bulk_12, wire_, bulk_6, bulk_15, bulk_1 и так далее"
   ]
  },
  {
   "cell_type": "markdown",
   "id": "2ae83af4",
   "metadata": {},
   "source": [
    "## Отчёт по проекту: Исследование влияния параметров на эффективность обработки стали\n",
    "\n",
    "### Цели работы\n",
    "В рамках данного проекта проведено исследование влияния различных параметров на эффективность обработки стали в металлургическом производстве. Проект включает в себя этапы предобработки данных, обучения моделей машинного обучения, подбора гиперпараметров, анализа важности признаков и оценки результатов.\n",
    "\n",
    "### Этапы проекта\n",
    "\n",
    "####  Предобработка данных\n",
    "- Изучены и обработаны пропущенные значения в данных.\n",
    "- Произведена конвертация временных меток в соответствующий формат.\n",
    "- Выполнено удаление избыточных и малоинформативных признаков.\n",
    "- Произведена аггрегация данных из всех таблиц в одну, так чтобы одному ковшу соответствовала одна строка.\n",
    "\n",
    "####  Обучение моделей\n",
    "- Использованы три модели машинного обучения: RandomForestRegressor, LGBMRegressor и CatBoostRegressor.\n",
    "- Построены пайплайны для предобработки данных и обучения моделей.\n",
    "- Произведен подбор гиперпараметров для каждой модели с использованием GridSearchCV.\n",
    "- Оценена эффективность моделей на кросс-валидации.\n",
    "\n",
    "####  Выбор лучшей модели\n",
    "- Выбрана лучшая модель на основе наименьшего среднего абсолютного отклонения (MAE) на кросс-валидации.\n",
    "\n",
    "####  Анализ важности признаков\n",
    "- Проведен анализ важности признаков для лучшей модели (LGBMRegressor).\n",
    "- Визуализированы результаты для лучшего понимания вклада каждого признака.\n",
    "\n",
    "\n",
    "### Результаты\n",
    "\n",
    "#### Лучшая модель\n",
    "LGBMRegressor с оптимальными гиперпараметрами:\n",
    "- max_depth: 5\n",
    "- n_estimators: 50\n",
    "- random_state: 131223\n",
    "\n",
    "#### Важность признаков\n",
    "1. Начальная температура\n",
    "2. Работа\n",
    "3. wire_1\n",
    "4. gas_1\n",
    "5. bulk_14\n",
    "6. bulk_12\n",
    "7. wire_\n",
    "8. bulk_6\n",
    "9. bulk_15\n",
    "10. bulk_1\n",
    "\n",
    "#### Оценка результатов\n",
    "MAE на тестовой выборке для LGBMRegressor: 6.7871.\n",
    "Данный результат можно считать положительным - отметка MAE=6.8 пройдена.\n",
    "\n",
    "### Выводы и рекомендации\n",
    "Проект успешно выявил ключевые факторы, влияющие на эффективность обработки стали. Важнейшими переменными оказались начальная температура и работа. Модель LGBMRegressor продемонстрировала наилучшую эффективность с MAE на уровне 6.5677 на кросс-валидации и 6.7871 на тестовой выборке. Рекомендуется использовать данную модель для прогнозирования результатов обработки стали, обеспечивая тем самым оптимизацию производственных процессов."
   ]
  }
 ],
 "metadata": {
  "ExecuteTimeLog": [
   {
    "duration": 3,
    "start_time": "2023-12-17T16:46:57.585Z"
   },
   {
    "duration": 1316,
    "start_time": "2023-12-17T16:54:03.676Z"
   },
   {
    "duration": 582,
    "start_time": "2023-12-17T16:54:17.196Z"
   },
   {
    "duration": 162,
    "start_time": "2023-12-17T16:59:08.239Z"
   },
   {
    "duration": 106,
    "start_time": "2023-12-17T17:02:18.761Z"
   },
   {
    "duration": 14,
    "start_time": "2023-12-17T17:02:42.257Z"
   },
   {
    "duration": 10,
    "start_time": "2023-12-17T17:02:46.564Z"
   },
   {
    "duration": 205,
    "start_time": "2023-12-17T17:03:06.073Z"
   },
   {
    "duration": 212,
    "start_time": "2023-12-17T17:08:29.245Z"
   },
   {
    "duration": 182,
    "start_time": "2023-12-17T17:08:57.075Z"
   },
   {
    "duration": 219,
    "start_time": "2023-12-17T17:09:19.144Z"
   },
   {
    "duration": 183,
    "start_time": "2023-12-17T17:10:51.568Z"
   },
   {
    "duration": 1281,
    "start_time": "2023-12-18T08:25:23.849Z"
   },
   {
    "duration": 257,
    "start_time": "2023-12-18T08:25:25.138Z"
   },
   {
    "duration": 204,
    "start_time": "2023-12-18T08:25:25.397Z"
   },
   {
    "duration": 72,
    "start_time": "2023-12-18T08:25:25.603Z"
   },
   {
    "duration": 104,
    "start_time": "2023-12-18T08:26:36.746Z"
   },
   {
    "duration": 11,
    "start_time": "2023-12-18T08:53:13.251Z"
   },
   {
    "duration": 13,
    "start_time": "2023-12-18T08:55:21.854Z"
   },
   {
    "duration": 64,
    "start_time": "2023-12-18T08:58:59.559Z"
   },
   {
    "duration": 1199,
    "start_time": "2023-12-18T09:01:12.589Z"
   },
   {
    "duration": 248,
    "start_time": "2023-12-18T09:01:13.790Z"
   },
   {
    "duration": 213,
    "start_time": "2023-12-18T09:01:14.046Z"
   },
   {
    "duration": 107,
    "start_time": "2023-12-18T09:01:14.261Z"
   },
   {
    "duration": 15,
    "start_time": "2023-12-18T09:01:14.370Z"
   },
   {
    "duration": 67,
    "start_time": "2023-12-18T09:01:14.387Z"
   },
   {
    "duration": 15,
    "start_time": "2023-12-18T09:02:55.639Z"
   },
   {
    "duration": 1304,
    "start_time": "2023-12-18T09:21:45.517Z"
   },
   {
    "duration": 247,
    "start_time": "2023-12-18T09:21:46.823Z"
   },
   {
    "duration": 229,
    "start_time": "2023-12-18T09:21:47.072Z"
   },
   {
    "duration": 112,
    "start_time": "2023-12-18T09:21:47.304Z"
   },
   {
    "duration": 31,
    "start_time": "2023-12-18T09:21:47.419Z"
   },
   {
    "duration": 230,
    "start_time": "2023-12-18T09:21:47.453Z"
   },
   {
    "duration": 1264,
    "start_time": "2023-12-18T09:23:31.317Z"
   },
   {
    "duration": 907,
    "start_time": "2023-12-18T09:24:38.721Z"
   },
   {
    "duration": 67,
    "start_time": "2023-12-18T09:25:46.104Z"
   },
   {
    "duration": 951,
    "start_time": "2023-12-18T09:26:06.629Z"
   },
   {
    "duration": 1354,
    "start_time": "2023-12-18T09:44:04.015Z"
   },
   {
    "duration": 241,
    "start_time": "2023-12-18T09:44:05.372Z"
   },
   {
    "duration": 226,
    "start_time": "2023-12-18T09:44:05.615Z"
   },
   {
    "duration": 116,
    "start_time": "2023-12-18T09:44:05.842Z"
   },
   {
    "duration": 14,
    "start_time": "2023-12-18T09:44:05.960Z"
   },
   {
    "duration": 4520,
    "start_time": "2023-12-18T09:44:05.976Z"
   },
   {
    "duration": 57,
    "start_time": "2023-12-18T09:45:04.326Z"
   },
   {
    "duration": 4205,
    "start_time": "2023-12-18T09:45:30.754Z"
   },
   {
    "duration": 4093,
    "start_time": "2023-12-18T09:46:51.474Z"
   },
   {
    "duration": 1279,
    "start_time": "2023-12-18T09:51:20.355Z"
   },
   {
    "duration": 245,
    "start_time": "2023-12-18T09:51:21.637Z"
   },
   {
    "duration": 204,
    "start_time": "2023-12-18T09:51:21.884Z"
   },
   {
    "duration": 148,
    "start_time": "2023-12-18T09:51:22.091Z"
   },
   {
    "duration": 18,
    "start_time": "2023-12-18T09:51:22.246Z"
   },
   {
    "duration": 4291,
    "start_time": "2023-12-18T09:51:22.266Z"
   },
   {
    "duration": 7601,
    "start_time": "2023-12-18T09:59:05.273Z"
   },
   {
    "duration": 4549,
    "start_time": "2023-12-18T10:00:43.548Z"
   },
   {
    "duration": 4309,
    "start_time": "2023-12-18T10:01:00.091Z"
   },
   {
    "duration": 3983,
    "start_time": "2023-12-18T10:02:11.119Z"
   },
   {
    "duration": 1207,
    "start_time": "2023-12-18T10:11:51.869Z"
   },
   {
    "duration": 262,
    "start_time": "2023-12-18T10:11:53.079Z"
   },
   {
    "duration": 229,
    "start_time": "2023-12-18T10:11:53.342Z"
   },
   {
    "duration": 102,
    "start_time": "2023-12-18T10:11:53.574Z"
   },
   {
    "duration": 15,
    "start_time": "2023-12-18T10:11:53.678Z"
   },
   {
    "duration": 156,
    "start_time": "2023-12-18T10:11:53.695Z"
   },
   {
    "duration": 1260,
    "start_time": "2023-12-18T10:14:15.104Z"
   },
   {
    "duration": 224,
    "start_time": "2023-12-18T10:14:16.366Z"
   },
   {
    "duration": 176,
    "start_time": "2023-12-18T10:14:16.592Z"
   },
   {
    "duration": 97,
    "start_time": "2023-12-18T10:14:16.769Z"
   },
   {
    "duration": 13,
    "start_time": "2023-12-18T10:14:16.867Z"
   },
   {
    "duration": 200,
    "start_time": "2023-12-18T10:18:35.007Z"
   },
   {
    "duration": 78,
    "start_time": "2023-12-18T10:22:36.798Z"
   },
   {
    "duration": 1201,
    "start_time": "2023-12-18T10:22:56.162Z"
   },
   {
    "duration": 232,
    "start_time": "2023-12-18T10:22:57.365Z"
   },
   {
    "duration": 226,
    "start_time": "2023-12-18T10:22:57.606Z"
   },
   {
    "duration": 108,
    "start_time": "2023-12-18T10:22:57.834Z"
   },
   {
    "duration": 14,
    "start_time": "2023-12-18T10:22:57.947Z"
   },
   {
    "duration": 185,
    "start_time": "2023-12-18T10:22:57.963Z"
   },
   {
    "duration": 74,
    "start_time": "2023-12-18T10:41:08.991Z"
   },
   {
    "duration": 1266,
    "start_time": "2023-12-18T10:42:08.904Z"
   },
   {
    "duration": 256,
    "start_time": "2023-12-18T10:42:10.173Z"
   },
   {
    "duration": 199,
    "start_time": "2023-12-18T10:42:10.431Z"
   },
   {
    "duration": 100,
    "start_time": "2023-12-18T10:42:10.633Z"
   },
   {
    "duration": 15,
    "start_time": "2023-12-18T10:42:10.735Z"
   },
   {
    "duration": 125,
    "start_time": "2023-12-18T10:42:10.752Z"
   },
   {
    "duration": 18,
    "start_time": "2023-12-18T10:45:50.102Z"
   },
   {
    "duration": 80,
    "start_time": "2023-12-18T10:50:29.127Z"
   },
   {
    "duration": 87,
    "start_time": "2023-12-18T10:50:51.740Z"
   },
   {
    "duration": 75,
    "start_time": "2023-12-18T10:52:13.179Z"
   },
   {
    "duration": 1268,
    "start_time": "2023-12-18T11:08:27.768Z"
   },
   {
    "duration": 250,
    "start_time": "2023-12-18T11:08:29.040Z"
   },
   {
    "duration": 196,
    "start_time": "2023-12-18T11:08:29.292Z"
   },
   {
    "duration": 148,
    "start_time": "2023-12-18T11:08:29.490Z"
   },
   {
    "duration": 0,
    "start_time": "2023-12-18T11:08:29.640Z"
   },
   {
    "duration": 101,
    "start_time": "2023-12-18T11:09:26.524Z"
   },
   {
    "duration": 9396,
    "start_time": "2023-12-18T11:09:47.251Z"
   },
   {
    "duration": 1290,
    "start_time": "2023-12-21T08:40:25.869Z"
   },
   {
    "duration": 647,
    "start_time": "2023-12-21T08:40:27.161Z"
   },
   {
    "duration": 178,
    "start_time": "2023-12-21T08:40:27.815Z"
   },
   {
    "duration": 95,
    "start_time": "2023-12-21T08:40:27.995Z"
   },
   {
    "duration": 884,
    "start_time": "2023-12-21T08:40:28.093Z"
   },
   {
    "duration": 36,
    "start_time": "2023-12-21T08:49:40.744Z"
   },
   {
    "duration": 7294,
    "start_time": "2023-12-21T08:51:35.656Z"
   },
   {
    "duration": 7261,
    "start_time": "2023-12-21T08:51:53.487Z"
   },
   {
    "duration": 7316,
    "start_time": "2023-12-21T08:52:35.545Z"
   },
   {
    "duration": 7251,
    "start_time": "2023-12-21T08:52:53.195Z"
   },
   {
    "duration": 7276,
    "start_time": "2023-12-21T08:55:09.524Z"
   },
   {
    "duration": 7466,
    "start_time": "2023-12-21T08:56:51.607Z"
   },
   {
    "duration": 7311,
    "start_time": "2023-12-21T09:02:21.495Z"
   },
   {
    "duration": 7261,
    "start_time": "2023-12-21T09:06:31.164Z"
   },
   {
    "duration": 7334,
    "start_time": "2023-12-21T09:08:42.890Z"
   },
   {
    "duration": 7321,
    "start_time": "2023-12-21T09:12:23.934Z"
   },
   {
    "duration": 7182,
    "start_time": "2023-12-21T09:14:12.448Z"
   },
   {
    "duration": 7300,
    "start_time": "2023-12-21T09:15:09.309Z"
   },
   {
    "duration": 122,
    "start_time": "2023-12-21T09:22:26.340Z"
   },
   {
    "duration": 7494,
    "start_time": "2023-12-21T09:22:36.981Z"
   },
   {
    "duration": 8381,
    "start_time": "2023-12-21T09:28:32.518Z"
   },
   {
    "duration": 1324,
    "start_time": "2023-12-22T11:07:39.094Z"
   },
   {
    "duration": 593,
    "start_time": "2023-12-22T11:07:40.420Z"
   },
   {
    "duration": 165,
    "start_time": "2023-12-22T11:07:41.015Z"
   },
   {
    "duration": 89,
    "start_time": "2023-12-22T11:07:41.182Z"
   },
   {
    "duration": 6948,
    "start_time": "2023-12-22T11:07:41.273Z"
   },
   {
    "duration": 7917,
    "start_time": "2023-12-22T11:09:01.942Z"
   },
   {
    "duration": 7544,
    "start_time": "2023-12-22T11:09:29.589Z"
   },
   {
    "duration": 7271,
    "start_time": "2023-12-22T11:11:16.807Z"
   },
   {
    "duration": 7068,
    "start_time": "2023-12-22T11:11:59.610Z"
   },
   {
    "duration": 7012,
    "start_time": "2023-12-22T11:12:58.357Z"
   },
   {
    "duration": 34,
    "start_time": "2023-12-22T11:23:15.038Z"
   },
   {
    "duration": 17,
    "start_time": "2023-12-22T11:23:22.229Z"
   },
   {
    "duration": 21,
    "start_time": "2023-12-22T11:25:33.203Z"
   },
   {
    "duration": 7,
    "start_time": "2023-12-22T11:27:25.477Z"
   },
   {
    "duration": 10,
    "start_time": "2023-12-22T12:04:00.042Z"
   },
   {
    "duration": 9,
    "start_time": "2023-12-22T12:04:05.714Z"
   },
   {
    "duration": 9,
    "start_time": "2023-12-22T12:04:10.619Z"
   },
   {
    "duration": 9,
    "start_time": "2023-12-22T12:04:22.644Z"
   },
   {
    "duration": 9,
    "start_time": "2023-12-22T12:05:21.045Z"
   },
   {
    "duration": 47,
    "start_time": "2023-12-22T12:21:20.466Z"
   },
   {
    "duration": 41,
    "start_time": "2023-12-22T12:22:40.587Z"
   },
   {
    "duration": 40,
    "start_time": "2023-12-22T12:23:51.806Z"
   },
   {
    "duration": 9396,
    "start_time": "2023-12-22T12:25:09.093Z"
   },
   {
    "duration": 9270,
    "start_time": "2023-12-22T12:25:52.606Z"
   },
   {
    "duration": 8,
    "start_time": "2023-12-22T12:26:23.013Z"
   },
   {
    "duration": 19,
    "start_time": "2023-12-22T12:26:38.880Z"
   },
   {
    "duration": 9472,
    "start_time": "2023-12-22T12:28:12.157Z"
   },
   {
    "duration": 12,
    "start_time": "2023-12-22T13:42:41.667Z"
   },
   {
    "duration": 125424,
    "start_time": "2023-12-22T13:49:54.597Z"
   },
   {
    "duration": 196,
    "start_time": "2023-12-22T13:59:49.860Z"
   },
   {
    "duration": 114,
    "start_time": "2023-12-22T14:02:25.748Z"
   },
   {
    "duration": 12,
    "start_time": "2023-12-22T14:11:37.568Z"
   },
   {
    "duration": 15,
    "start_time": "2023-12-22T14:12:11.094Z"
   },
   {
    "duration": 14,
    "start_time": "2023-12-22T14:12:15.460Z"
   },
   {
    "duration": 14,
    "start_time": "2023-12-22T14:15:43.324Z"
   },
   {
    "duration": 14,
    "start_time": "2023-12-22T14:15:52.330Z"
   },
   {
    "duration": 13,
    "start_time": "2023-12-22T14:15:59.600Z"
   },
   {
    "duration": 17,
    "start_time": "2023-12-22T14:18:10.815Z"
   },
   {
    "duration": 15,
    "start_time": "2023-12-22T14:25:17.209Z"
   },
   {
    "duration": 13,
    "start_time": "2023-12-22T14:34:45.045Z"
   },
   {
    "duration": 309,
    "start_time": "2023-12-22T14:35:25.217Z"
   },
   {
    "duration": 91,
    "start_time": "2023-12-22T14:36:45.245Z"
   },
   {
    "duration": 101,
    "start_time": "2023-12-22T14:37:02.950Z"
   },
   {
    "duration": 36,
    "start_time": "2023-12-22T15:35:39.602Z"
   },
   {
    "duration": 25,
    "start_time": "2023-12-22T15:36:38.099Z"
   },
   {
    "duration": 24,
    "start_time": "2023-12-22T15:37:18.622Z"
   },
   {
    "duration": 8,
    "start_time": "2023-12-22T15:40:13.757Z"
   },
   {
    "duration": 6,
    "start_time": "2023-12-22T15:41:33.345Z"
   },
   {
    "duration": 7,
    "start_time": "2023-12-22T15:42:32.356Z"
   },
   {
    "duration": 10148,
    "start_time": "2023-12-22T15:48:10.749Z"
   },
   {
    "duration": 42,
    "start_time": "2023-12-22T15:57:30.337Z"
   },
   {
    "duration": 47,
    "start_time": "2023-12-22T15:59:00.237Z"
   },
   {
    "duration": 9346,
    "start_time": "2023-12-22T16:00:25.619Z"
   },
   {
    "duration": 9235,
    "start_time": "2023-12-22T16:02:05.045Z"
   },
   {
    "duration": 26,
    "start_time": "2023-12-22T16:02:33.902Z"
   },
   {
    "duration": 12,
    "start_time": "2023-12-22T16:04:57.629Z"
   },
   {
    "duration": 17,
    "start_time": "2023-12-22T16:06:05.272Z"
   },
   {
    "duration": 17,
    "start_time": "2023-12-22T16:06:24.050Z"
   },
   {
    "duration": 20,
    "start_time": "2023-12-22T16:06:31.971Z"
   },
   {
    "duration": 13,
    "start_time": "2023-12-22T16:07:21.749Z"
   },
   {
    "duration": 249,
    "start_time": "2023-12-22T16:07:48.823Z"
   },
   {
    "duration": 219,
    "start_time": "2023-12-22T16:08:05.037Z"
   },
   {
    "duration": 23,
    "start_time": "2023-12-22T16:08:58.071Z"
   },
   {
    "duration": 21,
    "start_time": "2023-12-22T16:10:26.485Z"
   },
   {
    "duration": 23,
    "start_time": "2023-12-22T16:10:46.758Z"
   },
   {
    "duration": 1175,
    "start_time": "2023-12-22T16:13:00.965Z"
   },
   {
    "duration": 276,
    "start_time": "2023-12-22T16:13:02.143Z"
   },
   {
    "duration": 184,
    "start_time": "2023-12-22T16:13:02.421Z"
   },
   {
    "duration": 82,
    "start_time": "2023-12-22T16:13:02.611Z"
   },
   {
    "duration": 237,
    "start_time": "2023-12-22T16:13:02.695Z"
   },
   {
    "duration": 117,
    "start_time": "2023-12-22T16:13:02.934Z"
   },
   {
    "duration": 16,
    "start_time": "2023-12-22T16:13:03.052Z"
   },
   {
    "duration": 9507,
    "start_time": "2023-12-22T16:13:03.070Z"
   },
   {
    "duration": 23,
    "start_time": "2023-12-22T16:13:12.578Z"
   },
   {
    "duration": 24,
    "start_time": "2023-12-22T16:13:12.602Z"
   },
   {
    "duration": 26,
    "start_time": "2023-12-22T16:13:12.628Z"
   },
   {
    "duration": 5,
    "start_time": "2023-12-22T16:13:12.655Z"
   },
   {
    "duration": 20,
    "start_time": "2023-12-22T16:15:14.490Z"
   },
   {
    "duration": 16,
    "start_time": "2023-12-22T16:24:25.836Z"
   },
   {
    "duration": 7504,
    "start_time": "2023-12-22T16:27:59.422Z"
   },
   {
    "duration": 3,
    "start_time": "2023-12-22T16:28:13.901Z"
   },
   {
    "duration": 253,
    "start_time": "2023-12-22T16:28:13.907Z"
   },
   {
    "duration": 194,
    "start_time": "2023-12-22T16:28:14.161Z"
   },
   {
    "duration": 97,
    "start_time": "2023-12-22T16:28:14.357Z"
   },
   {
    "duration": 217,
    "start_time": "2023-12-22T16:28:14.456Z"
   },
   {
    "duration": 120,
    "start_time": "2023-12-22T16:28:14.676Z"
   },
   {
    "duration": 15,
    "start_time": "2023-12-22T16:28:14.798Z"
   },
   {
    "duration": 9523,
    "start_time": "2023-12-22T16:28:14.814Z"
   },
   {
    "duration": 20,
    "start_time": "2023-12-22T16:29:51.340Z"
   },
   {
    "duration": 519,
    "start_time": "2023-12-22T16:35:20.908Z"
   },
   {
    "duration": 121,
    "start_time": "2023-12-22T16:36:37.592Z"
   },
   {
    "duration": 100,
    "start_time": "2023-12-22T16:37:21.386Z"
   },
   {
    "duration": 412,
    "start_time": "2023-12-22T16:37:57.645Z"
   },
   {
    "duration": 445,
    "start_time": "2023-12-22T16:38:47.774Z"
   },
   {
    "duration": 388,
    "start_time": "2023-12-22T16:39:32.456Z"
   },
   {
    "duration": 97,
    "start_time": "2023-12-22T16:41:52.082Z"
   },
   {
    "duration": 36,
    "start_time": "2023-12-22T16:42:21.819Z"
   },
   {
    "duration": 50,
    "start_time": "2023-12-22T16:42:24.011Z"
   },
   {
    "duration": 35,
    "start_time": "2023-12-22T16:46:47.738Z"
   },
   {
    "duration": 119,
    "start_time": "2023-12-22T16:54:15.978Z"
   },
   {
    "duration": 412,
    "start_time": "2023-12-22T16:55:04.093Z"
   },
   {
    "duration": 403,
    "start_time": "2023-12-22T16:55:38.767Z"
   },
   {
    "duration": 99,
    "start_time": "2023-12-22T17:03:11.230Z"
   },
   {
    "duration": 73,
    "start_time": "2023-12-22T17:03:31.796Z"
   },
   {
    "duration": 69,
    "start_time": "2023-12-22T17:03:47.061Z"
   },
   {
    "duration": 990,
    "start_time": "2023-12-22T17:05:24.338Z"
   },
   {
    "duration": 3,
    "start_time": "2023-12-22T17:12:50.537Z"
   },
   {
    "duration": 270,
    "start_time": "2023-12-22T17:12:50.542Z"
   },
   {
    "duration": 172,
    "start_time": "2023-12-22T17:12:50.814Z"
   },
   {
    "duration": 90,
    "start_time": "2023-12-22T17:12:50.988Z"
   },
   {
    "duration": 311,
    "start_time": "2023-12-22T17:12:51.080Z"
   },
   {
    "duration": 122,
    "start_time": "2023-12-22T17:12:51.392Z"
   },
   {
    "duration": 18,
    "start_time": "2023-12-22T17:12:51.516Z"
   },
   {
    "duration": 79,
    "start_time": "2023-12-22T17:12:58.695Z"
   },
   {
    "duration": 37,
    "start_time": "2023-12-22T17:13:10.209Z"
   },
   {
    "duration": 12,
    "start_time": "2023-12-22T17:14:20.591Z"
   },
   {
    "duration": 30,
    "start_time": "2023-12-22T17:16:27.273Z"
   },
   {
    "duration": 60,
    "start_time": "2023-12-22T17:18:39.137Z"
   },
   {
    "duration": 80,
    "start_time": "2023-12-22T17:18:47.689Z"
   },
   {
    "duration": 1146,
    "start_time": "2023-12-22T17:19:02.714Z"
   },
   {
    "duration": 283,
    "start_time": "2023-12-22T17:19:03.863Z"
   },
   {
    "duration": 190,
    "start_time": "2023-12-22T17:19:04.147Z"
   },
   {
    "duration": 91,
    "start_time": "2023-12-22T17:19:04.339Z"
   },
   {
    "duration": 225,
    "start_time": "2023-12-22T17:19:04.433Z"
   },
   {
    "duration": 118,
    "start_time": "2023-12-22T17:19:04.660Z"
   },
   {
    "duration": 13,
    "start_time": "2023-12-22T17:19:04.779Z"
   },
   {
    "duration": 114,
    "start_time": "2023-12-22T17:19:04.793Z"
   },
   {
    "duration": 0,
    "start_time": "2023-12-22T17:19:04.911Z"
   },
   {
    "duration": 0,
    "start_time": "2023-12-22T17:19:04.913Z"
   },
   {
    "duration": 0,
    "start_time": "2023-12-22T17:19:04.914Z"
   },
   {
    "duration": 0,
    "start_time": "2023-12-22T17:19:04.916Z"
   },
   {
    "duration": 0,
    "start_time": "2023-12-22T17:19:04.918Z"
   },
   {
    "duration": 156,
    "start_time": "2023-12-22T17:20:05.415Z"
   },
   {
    "duration": 139,
    "start_time": "2023-12-22T17:20:29.808Z"
   },
   {
    "duration": 1039,
    "start_time": "2023-12-22T17:21:25.489Z"
   },
   {
    "duration": 3,
    "start_time": "2023-12-22T17:57:30.071Z"
   },
   {
    "duration": 277,
    "start_time": "2023-12-22T17:57:30.078Z"
   },
   {
    "duration": 187,
    "start_time": "2023-12-22T17:57:30.357Z"
   },
   {
    "duration": 93,
    "start_time": "2023-12-22T17:57:30.546Z"
   },
   {
    "duration": 229,
    "start_time": "2023-12-22T17:57:30.641Z"
   },
   {
    "duration": 113,
    "start_time": "2023-12-22T17:57:30.872Z"
   },
   {
    "duration": 28,
    "start_time": "2023-12-22T17:57:30.986Z"
   },
   {
    "duration": 110,
    "start_time": "2023-12-22T17:57:36.247Z"
   },
   {
    "duration": 1168,
    "start_time": "2023-12-22T17:57:54.383Z"
   },
   {
    "duration": 268,
    "start_time": "2023-12-22T17:57:55.553Z"
   },
   {
    "duration": 177,
    "start_time": "2023-12-22T17:57:55.823Z"
   },
   {
    "duration": 82,
    "start_time": "2023-12-22T17:57:56.010Z"
   },
   {
    "duration": 266,
    "start_time": "2023-12-22T17:57:56.094Z"
   },
   {
    "duration": 114,
    "start_time": "2023-12-22T17:57:56.361Z"
   },
   {
    "duration": 14,
    "start_time": "2023-12-22T17:57:56.477Z"
   },
   {
    "duration": 106,
    "start_time": "2023-12-22T17:57:56.511Z"
   },
   {
    "duration": 0,
    "start_time": "2023-12-22T17:57:56.619Z"
   },
   {
    "duration": 0,
    "start_time": "2023-12-22T17:57:56.621Z"
   },
   {
    "duration": 0,
    "start_time": "2023-12-22T17:57:56.622Z"
   },
   {
    "duration": 0,
    "start_time": "2023-12-22T17:57:56.623Z"
   },
   {
    "duration": 0,
    "start_time": "2023-12-22T17:57:56.624Z"
   },
   {
    "duration": 152,
    "start_time": "2023-12-22T17:59:22.172Z"
   },
   {
    "duration": 1104,
    "start_time": "2023-12-22T17:59:29.041Z"
   },
   {
    "duration": 276,
    "start_time": "2023-12-22T17:59:30.147Z"
   },
   {
    "duration": 187,
    "start_time": "2023-12-22T17:59:30.424Z"
   },
   {
    "duration": 78,
    "start_time": "2023-12-22T17:59:30.613Z"
   },
   {
    "duration": 257,
    "start_time": "2023-12-22T17:59:30.693Z"
   },
   {
    "duration": 112,
    "start_time": "2023-12-22T17:59:30.952Z"
   },
   {
    "duration": 13,
    "start_time": "2023-12-22T17:59:31.066Z"
   },
   {
    "duration": 221,
    "start_time": "2023-12-22T17:59:31.081Z"
   },
   {
    "duration": 26,
    "start_time": "2023-12-22T17:59:31.304Z"
   },
   {
    "duration": 37,
    "start_time": "2023-12-22T17:59:31.332Z"
   },
   {
    "duration": 56,
    "start_time": "2023-12-22T17:59:31.370Z"
   },
   {
    "duration": 19,
    "start_time": "2023-12-22T17:59:31.428Z"
   },
   {
    "duration": 41,
    "start_time": "2023-12-22T17:59:31.449Z"
   },
   {
    "duration": 140,
    "start_time": "2023-12-22T18:05:40.480Z"
   },
   {
    "duration": 132,
    "start_time": "2023-12-22T18:05:47.135Z"
   },
   {
    "duration": 52,
    "start_time": "2023-12-22T18:05:48.514Z"
   },
   {
    "duration": 136,
    "start_time": "2023-12-22T18:06:01.672Z"
   },
   {
    "duration": 137,
    "start_time": "2023-12-22T18:06:09.240Z"
   },
   {
    "duration": 68,
    "start_time": "2023-12-22T18:10:05.510Z"
   },
   {
    "duration": 29,
    "start_time": "2023-12-22T18:10:19.917Z"
   },
   {
    "duration": 112,
    "start_time": "2023-12-22T18:17:38.378Z"
   },
   {
    "duration": 115,
    "start_time": "2023-12-22T18:17:44.412Z"
   },
   {
    "duration": 101,
    "start_time": "2023-12-22T18:19:08.729Z"
   },
   {
    "duration": 93,
    "start_time": "2023-12-22T18:19:16.544Z"
   },
   {
    "duration": 106,
    "start_time": "2023-12-22T18:19:22.753Z"
   },
   {
    "duration": 101,
    "start_time": "2023-12-22T18:19:27.214Z"
   },
   {
    "duration": 120,
    "start_time": "2023-12-22T18:19:36.360Z"
   },
   {
    "duration": 95,
    "start_time": "2023-12-22T18:19:55.872Z"
   },
   {
    "duration": 31,
    "start_time": "2023-12-22T18:24:07.473Z"
   },
   {
    "duration": 110,
    "start_time": "2023-12-22T18:24:56.162Z"
   },
   {
    "duration": 3,
    "start_time": "2023-12-22T18:25:00.810Z"
   },
   {
    "duration": 348,
    "start_time": "2023-12-22T18:25:00.816Z"
   },
   {
    "duration": 190,
    "start_time": "2023-12-22T18:25:01.166Z"
   },
   {
    "duration": 107,
    "start_time": "2023-12-22T18:25:01.358Z"
   },
   {
    "duration": 245,
    "start_time": "2023-12-22T18:25:01.467Z"
   },
   {
    "duration": 119,
    "start_time": "2023-12-22T18:25:01.714Z"
   },
   {
    "duration": 13,
    "start_time": "2023-12-22T18:25:01.834Z"
   },
   {
    "duration": 134,
    "start_time": "2023-12-22T18:25:11.745Z"
   },
   {
    "duration": 126,
    "start_time": "2023-12-22T18:25:22.297Z"
   },
   {
    "duration": 1188,
    "start_time": "2023-12-22T18:25:28.107Z"
   },
   {
    "duration": 265,
    "start_time": "2023-12-22T18:25:29.297Z"
   },
   {
    "duration": 208,
    "start_time": "2023-12-22T18:25:29.564Z"
   },
   {
    "duration": 91,
    "start_time": "2023-12-22T18:25:29.774Z"
   },
   {
    "duration": 240,
    "start_time": "2023-12-22T18:25:29.866Z"
   },
   {
    "duration": 149,
    "start_time": "2023-12-22T18:25:30.110Z"
   },
   {
    "duration": 19,
    "start_time": "2023-12-22T18:25:30.261Z"
   },
   {
    "duration": 157,
    "start_time": "2023-12-22T18:25:30.282Z"
   },
   {
    "duration": 30,
    "start_time": "2023-12-22T18:25:30.440Z"
   },
   {
    "duration": 39,
    "start_time": "2023-12-22T18:25:30.473Z"
   },
   {
    "duration": 61,
    "start_time": "2023-12-22T18:25:30.515Z"
   },
   {
    "duration": 9,
    "start_time": "2023-12-22T18:25:30.578Z"
   },
   {
    "duration": 48,
    "start_time": "2023-12-22T18:25:30.588Z"
   },
   {
    "duration": 37,
    "start_time": "2023-12-22T18:26:32.232Z"
   },
   {
    "duration": 25,
    "start_time": "2023-12-22T18:26:39.369Z"
   },
   {
    "duration": 109,
    "start_time": "2023-12-22T18:27:28.473Z"
   },
   {
    "duration": 136,
    "start_time": "2023-12-22T18:32:35.802Z"
   },
   {
    "duration": 36,
    "start_time": "2023-12-22T18:36:53.344Z"
   },
   {
    "duration": 127,
    "start_time": "2023-12-22T18:39:39.721Z"
   },
   {
    "duration": 173,
    "start_time": "2023-12-22T18:45:27.290Z"
   },
   {
    "duration": 1156,
    "start_time": "2023-12-22T18:45:33.667Z"
   },
   {
    "duration": 292,
    "start_time": "2023-12-22T18:45:34.825Z"
   },
   {
    "duration": 201,
    "start_time": "2023-12-22T18:45:35.119Z"
   },
   {
    "duration": 122,
    "start_time": "2023-12-22T18:45:35.322Z"
   },
   {
    "duration": 234,
    "start_time": "2023-12-22T18:45:35.446Z"
   },
   {
    "duration": 112,
    "start_time": "2023-12-22T18:45:35.681Z"
   },
   {
    "duration": 21,
    "start_time": "2023-12-22T18:45:35.794Z"
   },
   {
    "duration": 206,
    "start_time": "2023-12-22T18:45:35.817Z"
   },
   {
    "duration": 34,
    "start_time": "2023-12-22T18:45:36.024Z"
   },
   {
    "duration": 12,
    "start_time": "2023-12-22T18:45:36.060Z"
   },
   {
    "duration": 45,
    "start_time": "2023-12-22T18:45:36.073Z"
   },
   {
    "duration": 5,
    "start_time": "2023-12-22T18:45:36.120Z"
   },
   {
    "duration": 11,
    "start_time": "2023-12-22T18:45:36.127Z"
   },
   {
    "duration": 177,
    "start_time": "2023-12-22T18:47:45.377Z"
   },
   {
    "duration": 170,
    "start_time": "2023-12-22T18:47:48.032Z"
   },
   {
    "duration": 179,
    "start_time": "2023-12-22T18:47:54.908Z"
   },
   {
    "duration": 208,
    "start_time": "2023-12-22T18:51:20.052Z"
   },
   {
    "duration": 1047,
    "start_time": "2023-12-22T18:51:31.444Z"
   },
   {
    "duration": 248,
    "start_time": "2023-12-22T18:51:32.493Z"
   },
   {
    "duration": 180,
    "start_time": "2023-12-22T18:51:32.742Z"
   },
   {
    "duration": 90,
    "start_time": "2023-12-22T18:51:32.924Z"
   },
   {
    "duration": 230,
    "start_time": "2023-12-22T18:51:33.016Z"
   },
   {
    "duration": 117,
    "start_time": "2023-12-22T18:51:33.248Z"
   },
   {
    "duration": 14,
    "start_time": "2023-12-22T18:51:33.367Z"
   },
   {
    "duration": 260,
    "start_time": "2023-12-22T18:51:33.383Z"
   },
   {
    "duration": 188,
    "start_time": "2023-12-22T18:52:03.703Z"
   },
   {
    "duration": 472,
    "start_time": "2023-12-22T18:55:26.872Z"
   },
   {
    "duration": 382,
    "start_time": "2023-12-22T18:56:38.637Z"
   },
   {
    "duration": 2893,
    "start_time": "2023-12-22T18:58:29.210Z"
   },
   {
    "duration": 369,
    "start_time": "2023-12-22T18:59:12.083Z"
   },
   {
    "duration": 83,
    "start_time": "2023-12-22T19:01:01.314Z"
   },
   {
    "duration": 366,
    "start_time": "2023-12-22T19:01:15.051Z"
   },
   {
    "duration": 3008,
    "start_time": "2023-12-22T19:01:53.885Z"
   },
   {
    "duration": 44,
    "start_time": "2023-12-22T19:06:28.131Z"
   },
   {
    "duration": 3163,
    "start_time": "2023-12-22T19:07:21.053Z"
   },
   {
    "duration": 37,
    "start_time": "2023-12-22T19:07:51.537Z"
   },
   {
    "duration": 33,
    "start_time": "2023-12-22T19:08:39.661Z"
   },
   {
    "duration": 15,
    "start_time": "2023-12-22T19:08:58.235Z"
   },
   {
    "duration": 33,
    "start_time": "2023-12-22T19:09:04.318Z"
   },
   {
    "duration": 5,
    "start_time": "2023-12-22T19:34:14.355Z"
   },
   {
    "duration": 376,
    "start_time": "2023-12-22T19:40:03.470Z"
   },
   {
    "duration": 25,
    "start_time": "2023-12-22T19:40:28.677Z"
   },
   {
    "duration": 22,
    "start_time": "2023-12-22T19:43:29.546Z"
   },
   {
    "duration": 23,
    "start_time": "2023-12-22T19:48:21.032Z"
   },
   {
    "duration": 1145,
    "start_time": "2023-12-22T19:49:26.892Z"
   },
   {
    "duration": 22,
    "start_time": "2023-12-22T19:50:09.878Z"
   },
   {
    "duration": 1410,
    "start_time": "2023-12-22T19:51:31.895Z"
   },
   {
    "duration": 263,
    "start_time": "2023-12-22T19:51:33.307Z"
   },
   {
    "duration": 201,
    "start_time": "2023-12-22T19:51:33.571Z"
   },
   {
    "duration": 91,
    "start_time": "2023-12-22T19:51:33.774Z"
   },
   {
    "duration": 215,
    "start_time": "2023-12-22T19:51:33.867Z"
   },
   {
    "duration": 131,
    "start_time": "2023-12-22T19:51:34.084Z"
   },
   {
    "duration": 13,
    "start_time": "2023-12-22T19:51:34.216Z"
   },
   {
    "duration": 3080,
    "start_time": "2023-12-22T19:51:34.231Z"
   },
   {
    "duration": 30,
    "start_time": "2023-12-22T19:51:37.312Z"
   },
   {
    "duration": 12,
    "start_time": "2023-12-22T19:51:37.344Z"
   },
   {
    "duration": 21,
    "start_time": "2023-12-22T19:51:37.357Z"
   },
   {
    "duration": 43,
    "start_time": "2023-12-22T19:51:37.380Z"
   },
   {
    "duration": 3,
    "start_time": "2023-12-22T19:52:34.654Z"
   },
   {
    "duration": 1085,
    "start_time": "2023-12-22T19:53:03.113Z"
   },
   {
    "duration": 268,
    "start_time": "2023-12-22T19:53:04.200Z"
   },
   {
    "duration": 174,
    "start_time": "2023-12-22T19:53:04.469Z"
   },
   {
    "duration": 90,
    "start_time": "2023-12-22T19:53:04.645Z"
   },
   {
    "duration": 213,
    "start_time": "2023-12-22T19:53:04.736Z"
   },
   {
    "duration": 111,
    "start_time": "2023-12-22T19:53:04.950Z"
   },
   {
    "duration": 13,
    "start_time": "2023-12-22T19:53:05.062Z"
   },
   {
    "duration": 3111,
    "start_time": "2023-12-22T19:53:05.077Z"
   },
   {
    "duration": 38,
    "start_time": "2023-12-22T19:53:08.189Z"
   },
   {
    "duration": 12,
    "start_time": "2023-12-22T19:53:08.229Z"
   },
   {
    "duration": 37,
    "start_time": "2023-12-22T19:53:08.242Z"
   },
   {
    "duration": 18,
    "start_time": "2023-12-22T19:53:08.280Z"
   },
   {
    "duration": 11,
    "start_time": "2023-12-22T19:57:03.780Z"
   },
   {
    "duration": 1228,
    "start_time": "2023-12-22T19:59:01.735Z"
   },
   {
    "duration": 1076,
    "start_time": "2023-12-22T19:59:17.550Z"
   },
   {
    "duration": 291,
    "start_time": "2023-12-22T19:59:18.628Z"
   },
   {
    "duration": 185,
    "start_time": "2023-12-22T19:59:18.920Z"
   },
   {
    "duration": 76,
    "start_time": "2023-12-22T19:59:19.111Z"
   },
   {
    "duration": 233,
    "start_time": "2023-12-22T19:59:19.188Z"
   },
   {
    "duration": 111,
    "start_time": "2023-12-22T19:59:19.423Z"
   },
   {
    "duration": 13,
    "start_time": "2023-12-22T19:59:19.536Z"
   },
   {
    "duration": 3202,
    "start_time": "2023-12-22T19:59:19.551Z"
   },
   {
    "duration": 31,
    "start_time": "2023-12-22T19:59:22.754Z"
   },
   {
    "duration": 26,
    "start_time": "2023-12-22T19:59:22.786Z"
   },
   {
    "duration": 22,
    "start_time": "2023-12-22T19:59:22.813Z"
   },
   {
    "duration": 35,
    "start_time": "2023-12-22T19:59:22.836Z"
   },
   {
    "duration": 10,
    "start_time": "2023-12-22T19:59:22.873Z"
   },
   {
    "duration": 18,
    "start_time": "2023-12-22T19:59:36.084Z"
   },
   {
    "duration": 1043,
    "start_time": "2023-12-22T19:59:43.250Z"
   },
   {
    "duration": 254,
    "start_time": "2023-12-22T19:59:44.295Z"
   },
   {
    "duration": 189,
    "start_time": "2023-12-22T19:59:44.550Z"
   },
   {
    "duration": 90,
    "start_time": "2023-12-22T19:59:44.741Z"
   },
   {
    "duration": 213,
    "start_time": "2023-12-22T19:59:44.832Z"
   },
   {
    "duration": 113,
    "start_time": "2023-12-22T19:59:45.046Z"
   },
   {
    "duration": 12,
    "start_time": "2023-12-22T19:59:45.161Z"
   },
   {
    "duration": 3110,
    "start_time": "2023-12-22T19:59:45.175Z"
   },
   {
    "duration": 43,
    "start_time": "2023-12-22T19:59:48.287Z"
   },
   {
    "duration": 12,
    "start_time": "2023-12-22T19:59:48.333Z"
   },
   {
    "duration": 23,
    "start_time": "2023-12-22T19:59:48.346Z"
   },
   {
    "duration": 18,
    "start_time": "2023-12-22T19:59:48.370Z"
   },
   {
    "duration": 35,
    "start_time": "2023-12-22T19:59:48.390Z"
   },
   {
    "duration": 1255,
    "start_time": "2023-12-22T20:03:10.583Z"
   },
   {
    "duration": 20,
    "start_time": "2023-12-22T20:04:17.731Z"
   },
   {
    "duration": 1373,
    "start_time": "2023-12-22T20:05:40.022Z"
   },
   {
    "duration": 1054,
    "start_time": "2023-12-22T20:06:15.469Z"
   },
   {
    "duration": 291,
    "start_time": "2023-12-22T20:06:16.525Z"
   },
   {
    "duration": 174,
    "start_time": "2023-12-22T20:06:16.818Z"
   },
   {
    "duration": 90,
    "start_time": "2023-12-22T20:06:16.995Z"
   },
   {
    "duration": 242,
    "start_time": "2023-12-22T20:06:17.086Z"
   },
   {
    "duration": 135,
    "start_time": "2023-12-22T20:06:17.330Z"
   },
   {
    "duration": 14,
    "start_time": "2023-12-22T20:06:17.466Z"
   },
   {
    "duration": 3213,
    "start_time": "2023-12-22T20:06:17.482Z"
   },
   {
    "duration": 34,
    "start_time": "2023-12-22T20:06:20.696Z"
   },
   {
    "duration": 37,
    "start_time": "2023-12-22T20:06:20.732Z"
   },
   {
    "duration": 25,
    "start_time": "2023-12-22T20:06:20.771Z"
   },
   {
    "duration": 21,
    "start_time": "2023-12-22T20:06:20.798Z"
   },
   {
    "duration": 125,
    "start_time": "2023-12-22T20:06:20.820Z"
   },
   {
    "duration": 1067,
    "start_time": "2023-12-22T20:07:37.925Z"
   },
   {
    "duration": 19,
    "start_time": "2023-12-22T20:08:00.649Z"
   },
   {
    "duration": 5,
    "start_time": "2023-12-22T20:09:03.792Z"
   },
   {
    "duration": 5,
    "start_time": "2023-12-22T20:09:21.424Z"
   },
   {
    "duration": 6,
    "start_time": "2023-12-22T20:09:35.769Z"
   },
   {
    "duration": 4,
    "start_time": "2023-12-22T20:12:04.193Z"
   },
   {
    "duration": 6,
    "start_time": "2023-12-22T20:12:27.392Z"
   },
   {
    "duration": 10,
    "start_time": "2023-12-22T20:14:59.802Z"
   },
   {
    "duration": 8,
    "start_time": "2023-12-22T20:17:02.528Z"
   },
   {
    "duration": 2,
    "start_time": "2023-12-22T20:18:43.917Z"
   },
   {
    "duration": 1118,
    "start_time": "2023-12-22T20:20:32.986Z"
   },
   {
    "duration": 253,
    "start_time": "2023-12-22T20:20:34.106Z"
   },
   {
    "duration": 179,
    "start_time": "2023-12-22T20:20:34.360Z"
   },
   {
    "duration": 86,
    "start_time": "2023-12-22T20:20:34.542Z"
   },
   {
    "duration": 223,
    "start_time": "2023-12-22T20:20:34.630Z"
   },
   {
    "duration": 107,
    "start_time": "2023-12-22T20:20:34.855Z"
   },
   {
    "duration": 15,
    "start_time": "2023-12-22T20:20:34.964Z"
   },
   {
    "duration": 3091,
    "start_time": "2023-12-22T20:20:34.981Z"
   },
   {
    "duration": 44,
    "start_time": "2023-12-22T20:20:38.074Z"
   },
   {
    "duration": 11,
    "start_time": "2023-12-22T20:20:38.120Z"
   },
   {
    "duration": 22,
    "start_time": "2023-12-22T20:20:38.133Z"
   },
   {
    "duration": 22,
    "start_time": "2023-12-22T20:20:38.157Z"
   },
   {
    "duration": 41,
    "start_time": "2023-12-22T20:20:38.181Z"
   },
   {
    "duration": 7,
    "start_time": "2023-12-22T20:20:38.224Z"
   },
   {
    "duration": 3,
    "start_time": "2023-12-22T20:20:38.232Z"
   },
   {
    "duration": 6,
    "start_time": "2023-12-22T20:22:25.970Z"
   },
   {
    "duration": 15,
    "start_time": "2023-12-22T20:22:48.729Z"
   },
   {
    "duration": 103,
    "start_time": "2023-12-22T21:09:51.216Z"
   },
   {
    "duration": 1046,
    "start_time": "2023-12-22T21:10:53.260Z"
   },
   {
    "duration": 255,
    "start_time": "2023-12-22T21:10:54.307Z"
   },
   {
    "duration": 179,
    "start_time": "2023-12-22T21:10:54.563Z"
   },
   {
    "duration": 98,
    "start_time": "2023-12-22T21:10:54.743Z"
   },
   {
    "duration": 231,
    "start_time": "2023-12-22T21:10:54.843Z"
   },
   {
    "duration": 115,
    "start_time": "2023-12-22T21:10:55.076Z"
   },
   {
    "duration": 25,
    "start_time": "2023-12-22T21:10:55.193Z"
   },
   {
    "duration": 3138,
    "start_time": "2023-12-22T21:10:55.220Z"
   },
   {
    "duration": 33,
    "start_time": "2023-12-22T21:10:58.360Z"
   },
   {
    "duration": 20,
    "start_time": "2023-12-22T21:10:58.395Z"
   },
   {
    "duration": 25,
    "start_time": "2023-12-22T21:10:58.417Z"
   },
   {
    "duration": 21,
    "start_time": "2023-12-22T21:10:58.443Z"
   },
   {
    "duration": 48,
    "start_time": "2023-12-22T21:10:58.466Z"
   },
   {
    "duration": 8,
    "start_time": "2023-12-22T21:10:58.516Z"
   },
   {
    "duration": 23,
    "start_time": "2023-12-22T21:10:58.526Z"
   },
   {
    "duration": 122,
    "start_time": "2023-12-22T21:10:58.551Z"
   },
   {
    "duration": 15,
    "start_time": "2023-12-22T21:12:31.778Z"
   },
   {
    "duration": 15,
    "start_time": "2023-12-22T21:13:48.133Z"
   },
   {
    "duration": 16,
    "start_time": "2023-12-22T21:14:01.405Z"
   },
   {
    "duration": 16,
    "start_time": "2023-12-22T21:15:45.723Z"
   },
   {
    "duration": 22,
    "start_time": "2023-12-22T21:16:55.667Z"
   },
   {
    "duration": 19,
    "start_time": "2023-12-22T21:17:38.446Z"
   },
   {
    "duration": 19,
    "start_time": "2023-12-22T21:17:51.800Z"
   },
   {
    "duration": 21,
    "start_time": "2023-12-22T21:22:00.136Z"
   },
   {
    "duration": 19,
    "start_time": "2023-12-22T21:26:42.693Z"
   },
   {
    "duration": 19,
    "start_time": "2023-12-22T21:27:47.719Z"
   },
   {
    "duration": 17,
    "start_time": "2023-12-22T21:29:48.132Z"
   },
   {
    "duration": 20,
    "start_time": "2023-12-22T21:30:38.596Z"
   },
   {
    "duration": 1062,
    "start_time": "2023-12-22T21:30:51.335Z"
   },
   {
    "duration": 257,
    "start_time": "2023-12-22T21:30:52.399Z"
   },
   {
    "duration": 175,
    "start_time": "2023-12-22T21:30:52.657Z"
   },
   {
    "duration": 87,
    "start_time": "2023-12-22T21:30:52.834Z"
   },
   {
    "duration": 213,
    "start_time": "2023-12-22T21:30:52.923Z"
   },
   {
    "duration": 109,
    "start_time": "2023-12-22T21:30:53.138Z"
   },
   {
    "duration": 14,
    "start_time": "2023-12-22T21:30:53.249Z"
   },
   {
    "duration": 3150,
    "start_time": "2023-12-22T21:30:53.264Z"
   },
   {
    "duration": 30,
    "start_time": "2023-12-22T21:30:56.415Z"
   },
   {
    "duration": 11,
    "start_time": "2023-12-22T21:30:56.448Z"
   },
   {
    "duration": 23,
    "start_time": "2023-12-22T21:30:56.460Z"
   },
   {
    "duration": 47,
    "start_time": "2023-12-22T21:30:56.484Z"
   },
   {
    "duration": 16,
    "start_time": "2023-12-22T21:30:56.532Z"
   },
   {
    "duration": 6,
    "start_time": "2023-12-22T21:30:56.549Z"
   },
   {
    "duration": 20,
    "start_time": "2023-12-22T21:30:56.556Z"
   },
   {
    "duration": 122,
    "start_time": "2023-12-22T21:30:56.577Z"
   },
   {
    "duration": 0,
    "start_time": "2023-12-22T21:30:56.700Z"
   },
   {
    "duration": 20,
    "start_time": "2023-12-22T21:33:06.739Z"
   },
   {
    "duration": 18,
    "start_time": "2023-12-22T21:34:41.514Z"
   },
   {
    "duration": 20,
    "start_time": "2023-12-22T21:35:23.147Z"
   },
   {
    "duration": 1088,
    "start_time": "2023-12-22T21:36:46.225Z"
   },
   {
    "duration": 251,
    "start_time": "2023-12-22T21:36:47.315Z"
   },
   {
    "duration": 185,
    "start_time": "2023-12-22T21:36:47.568Z"
   },
   {
    "duration": 83,
    "start_time": "2023-12-22T21:36:47.755Z"
   },
   {
    "duration": 220,
    "start_time": "2023-12-22T21:36:47.839Z"
   },
   {
    "duration": 107,
    "start_time": "2023-12-22T21:36:48.061Z"
   },
   {
    "duration": 14,
    "start_time": "2023-12-22T21:36:48.169Z"
   },
   {
    "duration": 3116,
    "start_time": "2023-12-22T21:36:48.184Z"
   },
   {
    "duration": 36,
    "start_time": "2023-12-22T21:36:51.301Z"
   },
   {
    "duration": 12,
    "start_time": "2023-12-22T21:36:51.339Z"
   },
   {
    "duration": 55,
    "start_time": "2023-12-22T21:36:51.353Z"
   },
   {
    "duration": 19,
    "start_time": "2023-12-22T21:36:51.409Z"
   },
   {
    "duration": 20,
    "start_time": "2023-12-22T21:36:51.429Z"
   },
   {
    "duration": 5,
    "start_time": "2023-12-22T21:36:51.451Z"
   },
   {
    "duration": 21,
    "start_time": "2023-12-22T21:36:51.458Z"
   },
   {
    "duration": 121,
    "start_time": "2023-12-22T21:36:51.480Z"
   },
   {
    "duration": 0,
    "start_time": "2023-12-22T21:36:51.603Z"
   },
   {
    "duration": 19,
    "start_time": "2023-12-22T21:38:34.910Z"
   },
   {
    "duration": 4,
    "start_time": "2023-12-22T21:45:12.734Z"
   },
   {
    "duration": 1080,
    "start_time": "2023-12-22T21:45:44.309Z"
   },
   {
    "duration": 257,
    "start_time": "2023-12-22T21:45:45.391Z"
   },
   {
    "duration": 183,
    "start_time": "2023-12-22T21:45:45.649Z"
   },
   {
    "duration": 88,
    "start_time": "2023-12-22T21:45:45.833Z"
   },
   {
    "duration": 218,
    "start_time": "2023-12-22T21:45:45.923Z"
   },
   {
    "duration": 116,
    "start_time": "2023-12-22T21:45:46.143Z"
   },
   {
    "duration": 12,
    "start_time": "2023-12-22T21:45:46.261Z"
   },
   {
    "duration": 3136,
    "start_time": "2023-12-22T21:45:46.275Z"
   },
   {
    "duration": 29,
    "start_time": "2023-12-22T21:45:49.412Z"
   },
   {
    "duration": 12,
    "start_time": "2023-12-22T21:45:49.442Z"
   },
   {
    "duration": 22,
    "start_time": "2023-12-22T21:45:49.456Z"
   },
   {
    "duration": 46,
    "start_time": "2023-12-22T21:45:49.479Z"
   },
   {
    "duration": 16,
    "start_time": "2023-12-22T21:45:49.527Z"
   },
   {
    "duration": 4,
    "start_time": "2023-12-22T21:45:49.545Z"
   },
   {
    "duration": 17,
    "start_time": "2023-12-22T21:47:08.172Z"
   },
   {
    "duration": 104,
    "start_time": "2023-12-22T21:47:30.085Z"
   },
   {
    "duration": 19,
    "start_time": "2023-12-22T21:48:46.939Z"
   },
   {
    "duration": 1254,
    "start_time": "2023-12-23T12:54:01.221Z"
   },
   {
    "duration": 575,
    "start_time": "2023-12-23T12:54:02.477Z"
   },
   {
    "duration": 167,
    "start_time": "2023-12-23T12:54:03.055Z"
   },
   {
    "duration": 85,
    "start_time": "2023-12-23T12:54:03.223Z"
   },
   {
    "duration": 222,
    "start_time": "2023-12-23T12:54:03.310Z"
   },
   {
    "duration": 103,
    "start_time": "2023-12-23T12:54:03.534Z"
   },
   {
    "duration": 13,
    "start_time": "2023-12-23T12:54:03.639Z"
   },
   {
    "duration": 3280,
    "start_time": "2023-12-23T12:54:03.654Z"
   },
   {
    "duration": 28,
    "start_time": "2023-12-23T12:54:06.936Z"
   },
   {
    "duration": 26,
    "start_time": "2023-12-23T12:54:06.965Z"
   },
   {
    "duration": 33,
    "start_time": "2023-12-23T12:54:06.992Z"
   },
   {
    "duration": 36,
    "start_time": "2023-12-23T12:54:07.026Z"
   },
   {
    "duration": 15,
    "start_time": "2023-12-23T12:54:07.063Z"
   },
   {
    "duration": 11,
    "start_time": "2023-12-23T12:54:07.079Z"
   },
   {
    "duration": 36,
    "start_time": "2023-12-23T12:54:07.092Z"
   },
   {
    "duration": 40,
    "start_time": "2023-12-23T12:54:07.130Z"
   },
   {
    "duration": 100,
    "start_time": "2023-12-23T12:54:07.171Z"
   },
   {
    "duration": 737,
    "start_time": "2023-12-23T12:57:04.268Z"
   },
   {
    "duration": 43,
    "start_time": "2023-12-23T12:57:43.064Z"
   },
   {
    "duration": 1084,
    "start_time": "2023-12-23T12:57:48.491Z"
   },
   {
    "duration": 252,
    "start_time": "2023-12-23T12:57:49.577Z"
   },
   {
    "duration": 179,
    "start_time": "2023-12-23T12:57:49.830Z"
   },
   {
    "duration": 88,
    "start_time": "2023-12-23T12:57:50.011Z"
   },
   {
    "duration": 216,
    "start_time": "2023-12-23T12:57:50.100Z"
   },
   {
    "duration": 104,
    "start_time": "2023-12-23T12:57:50.318Z"
   },
   {
    "duration": 14,
    "start_time": "2023-12-23T12:57:50.423Z"
   },
   {
    "duration": 3138,
    "start_time": "2023-12-23T12:57:50.439Z"
   },
   {
    "duration": 32,
    "start_time": "2023-12-23T12:57:53.579Z"
   },
   {
    "duration": 30,
    "start_time": "2023-12-23T12:57:53.613Z"
   },
   {
    "duration": 26,
    "start_time": "2023-12-23T12:57:53.645Z"
   },
   {
    "duration": 18,
    "start_time": "2023-12-23T12:57:53.672Z"
   },
   {
    "duration": 21,
    "start_time": "2023-12-23T12:57:53.691Z"
   },
   {
    "duration": 5,
    "start_time": "2023-12-23T12:57:53.714Z"
   },
   {
    "duration": 18,
    "start_time": "2023-12-23T12:57:53.720Z"
   },
   {
    "duration": 70,
    "start_time": "2023-12-23T12:57:53.740Z"
   },
   {
    "duration": 20,
    "start_time": "2023-12-23T12:58:25.185Z"
   },
   {
    "duration": 14,
    "start_time": "2023-12-23T12:58:39.969Z"
   },
   {
    "duration": 36,
    "start_time": "2023-12-23T13:02:03.557Z"
   },
   {
    "duration": 42,
    "start_time": "2023-12-23T13:03:00.992Z"
   },
   {
    "duration": 1018,
    "start_time": "2023-12-23T13:03:15.853Z"
   },
   {
    "duration": 256,
    "start_time": "2023-12-23T13:03:16.872Z"
   },
   {
    "duration": 163,
    "start_time": "2023-12-23T13:03:17.129Z"
   },
   {
    "duration": 75,
    "start_time": "2023-12-23T13:03:17.299Z"
   },
   {
    "duration": 214,
    "start_time": "2023-12-23T13:03:17.375Z"
   },
   {
    "duration": 119,
    "start_time": "2023-12-23T13:03:17.591Z"
   },
   {
    "duration": 15,
    "start_time": "2023-12-23T13:03:17.712Z"
   },
   {
    "duration": 3085,
    "start_time": "2023-12-23T13:03:17.729Z"
   },
   {
    "duration": 33,
    "start_time": "2023-12-23T13:03:20.815Z"
   },
   {
    "duration": 15,
    "start_time": "2023-12-23T13:03:20.851Z"
   },
   {
    "duration": 25,
    "start_time": "2023-12-23T13:03:20.900Z"
   },
   {
    "duration": 19,
    "start_time": "2023-12-23T13:03:20.927Z"
   },
   {
    "duration": 14,
    "start_time": "2023-12-23T13:03:20.948Z"
   },
   {
    "duration": 4,
    "start_time": "2023-12-23T13:03:20.999Z"
   },
   {
    "duration": 17,
    "start_time": "2023-12-23T13:03:21.005Z"
   },
   {
    "duration": 42,
    "start_time": "2023-12-23T13:03:21.024Z"
   },
   {
    "duration": 63,
    "start_time": "2023-12-23T13:03:21.067Z"
   },
   {
    "duration": 4,
    "start_time": "2023-12-23T13:53:03.271Z"
   },
   {
    "duration": 43,
    "start_time": "2023-12-23T13:53:35.456Z"
   },
   {
    "duration": 3,
    "start_time": "2023-12-23T13:54:32.331Z"
   },
   {
    "duration": 47,
    "start_time": "2023-12-23T14:12:09.276Z"
   },
   {
    "duration": 136,
    "start_time": "2023-12-23T14:13:04.764Z"
   },
   {
    "duration": 57,
    "start_time": "2023-12-23T14:13:15.334Z"
   },
   {
    "duration": 370,
    "start_time": "2023-12-23T14:24:27.509Z"
   },
   {
    "duration": 29,
    "start_time": "2023-12-23T14:28:19.602Z"
   },
   {
    "duration": 1398,
    "start_time": "2023-12-23T14:29:08.286Z"
   },
   {
    "duration": 276,
    "start_time": "2023-12-23T14:29:09.685Z"
   },
   {
    "duration": 191,
    "start_time": "2023-12-23T14:29:09.963Z"
   },
   {
    "duration": 100,
    "start_time": "2023-12-23T14:29:10.156Z"
   },
   {
    "duration": 215,
    "start_time": "2023-12-23T14:29:10.257Z"
   },
   {
    "duration": 180,
    "start_time": "2023-12-23T14:29:10.474Z"
   },
   {
    "duration": 13,
    "start_time": "2023-12-23T14:29:10.656Z"
   },
   {
    "duration": 3342,
    "start_time": "2023-12-23T14:29:10.670Z"
   },
   {
    "duration": 40,
    "start_time": "2023-12-23T14:29:14.014Z"
   },
   {
    "duration": 12,
    "start_time": "2023-12-23T14:29:14.057Z"
   },
   {
    "duration": 42,
    "start_time": "2023-12-23T14:29:14.071Z"
   },
   {
    "duration": 19,
    "start_time": "2023-12-23T14:29:14.115Z"
   },
   {
    "duration": 16,
    "start_time": "2023-12-23T14:29:14.135Z"
   },
   {
    "duration": 23,
    "start_time": "2023-12-23T14:29:14.153Z"
   },
   {
    "duration": 26,
    "start_time": "2023-12-23T14:29:14.178Z"
   },
   {
    "duration": 52,
    "start_time": "2023-12-23T14:29:14.206Z"
   },
   {
    "duration": 56,
    "start_time": "2023-12-23T14:29:14.259Z"
   },
   {
    "duration": 69,
    "start_time": "2023-12-23T14:29:14.316Z"
   },
   {
    "duration": 122,
    "start_time": "2023-12-23T14:29:14.398Z"
   },
   {
    "duration": 6,
    "start_time": "2023-12-23T14:30:20.894Z"
   },
   {
    "duration": 4,
    "start_time": "2023-12-23T14:30:43.266Z"
   },
   {
    "duration": 35,
    "start_time": "2023-12-23T14:32:30.063Z"
   },
   {
    "duration": 3,
    "start_time": "2023-12-23T14:33:28.996Z"
   },
   {
    "duration": 3,
    "start_time": "2023-12-23T14:33:46.453Z"
   },
   {
    "duration": 30682,
    "start_time": "2023-12-23T14:33:47.474Z"
   },
   {
    "duration": 3,
    "start_time": "2023-12-23T14:35:11.358Z"
   },
   {
    "duration": 74018,
    "start_time": "2023-12-23T14:35:42.296Z"
   },
   {
    "duration": 27909,
    "start_time": "2023-12-23T14:39:26.994Z"
   },
   {
    "duration": 4,
    "start_time": "2023-12-23T14:40:39.576Z"
   },
   {
    "duration": 91257,
    "start_time": "2023-12-23T14:40:47.048Z"
   },
   {
    "duration": 53,
    "start_time": "2023-12-23T14:42:25.568Z"
   },
   {
    "duration": 6,
    "start_time": "2023-12-23T14:44:52.605Z"
   },
   {
    "duration": 1295,
    "start_time": "2023-12-23T14:45:40.438Z"
   },
   {
    "duration": 241,
    "start_time": "2023-12-23T14:45:41.735Z"
   },
   {
    "duration": 179,
    "start_time": "2023-12-23T14:45:41.977Z"
   },
   {
    "duration": 85,
    "start_time": "2023-12-23T14:45:42.158Z"
   },
   {
    "duration": 205,
    "start_time": "2023-12-23T14:45:42.244Z"
   },
   {
    "duration": 172,
    "start_time": "2023-12-23T14:45:42.450Z"
   },
   {
    "duration": 14,
    "start_time": "2023-12-23T14:45:42.623Z"
   },
   {
    "duration": 3133,
    "start_time": "2023-12-23T14:45:42.638Z"
   },
   {
    "duration": 36,
    "start_time": "2023-12-23T14:45:45.773Z"
   },
   {
    "duration": 12,
    "start_time": "2023-12-23T14:45:45.811Z"
   },
   {
    "duration": 21,
    "start_time": "2023-12-23T14:45:45.824Z"
   },
   {
    "duration": 33,
    "start_time": "2023-12-23T14:45:45.847Z"
   },
   {
    "duration": 26,
    "start_time": "2023-12-23T14:45:45.881Z"
   },
   {
    "duration": 3,
    "start_time": "2023-12-23T14:45:45.908Z"
   },
   {
    "duration": 27,
    "start_time": "2023-12-23T14:45:45.912Z"
   },
   {
    "duration": 41,
    "start_time": "2023-12-23T14:45:45.940Z"
   },
   {
    "duration": 45,
    "start_time": "2023-12-23T14:45:45.983Z"
   },
   {
    "duration": 50,
    "start_time": "2023-12-23T14:45:46.029Z"
   },
   {
    "duration": 21,
    "start_time": "2023-12-23T14:45:46.080Z"
   },
   {
    "duration": 5,
    "start_time": "2023-12-23T14:45:46.102Z"
   },
   {
    "duration": 27929,
    "start_time": "2023-12-23T14:45:46.108Z"
   },
   {
    "duration": 0,
    "start_time": "2023-12-23T14:46:14.038Z"
   },
   {
    "duration": 27444,
    "start_time": "2023-12-23T14:47:28.364Z"
   },
   {
    "duration": 1357,
    "start_time": "2023-12-23T14:49:41.302Z"
   },
   {
    "duration": 246,
    "start_time": "2023-12-23T14:49:42.661Z"
   },
   {
    "duration": 169,
    "start_time": "2023-12-23T14:49:42.909Z"
   },
   {
    "duration": 86,
    "start_time": "2023-12-23T14:49:43.080Z"
   },
   {
    "duration": 233,
    "start_time": "2023-12-23T14:49:43.168Z"
   },
   {
    "duration": 183,
    "start_time": "2023-12-23T14:49:43.402Z"
   },
   {
    "duration": 25,
    "start_time": "2023-12-23T14:49:43.588Z"
   },
   {
    "duration": 3121,
    "start_time": "2023-12-23T14:49:43.614Z"
   },
   {
    "duration": 31,
    "start_time": "2023-12-23T14:49:46.736Z"
   },
   {
    "duration": 29,
    "start_time": "2023-12-23T14:49:46.770Z"
   },
   {
    "duration": 23,
    "start_time": "2023-12-23T14:49:46.801Z"
   },
   {
    "duration": 25,
    "start_time": "2023-12-23T14:49:46.826Z"
   },
   {
    "duration": 23,
    "start_time": "2023-12-23T14:49:46.854Z"
   },
   {
    "duration": 24,
    "start_time": "2023-12-23T14:49:46.879Z"
   },
   {
    "duration": 22,
    "start_time": "2023-12-23T14:49:46.905Z"
   },
   {
    "duration": 43,
    "start_time": "2023-12-23T14:49:46.929Z"
   },
   {
    "duration": 61,
    "start_time": "2023-12-23T14:49:46.974Z"
   },
   {
    "duration": 68,
    "start_time": "2023-12-23T14:49:47.037Z"
   },
   {
    "duration": 7,
    "start_time": "2023-12-23T14:49:47.106Z"
   },
   {
    "duration": 4,
    "start_time": "2023-12-23T14:49:47.114Z"
   },
   {
    "duration": 56119,
    "start_time": "2023-12-23T14:49:47.119Z"
   },
   {
    "duration": 15,
    "start_time": "2023-12-23T14:50:43.239Z"
   },
   {
    "duration": 4049,
    "start_time": "2023-12-23T14:55:12.651Z"
   },
   {
    "duration": 5,
    "start_time": "2023-12-23T14:55:22.299Z"
   },
   {
    "duration": 27201,
    "start_time": "2023-12-23T14:55:22.764Z"
   },
   {
    "duration": 1341,
    "start_time": "2023-12-23T15:03:07.529Z"
   },
   {
    "duration": 244,
    "start_time": "2023-12-23T15:03:08.872Z"
   },
   {
    "duration": 169,
    "start_time": "2023-12-23T15:03:09.117Z"
   },
   {
    "duration": 83,
    "start_time": "2023-12-23T15:03:09.288Z"
   },
   {
    "duration": 209,
    "start_time": "2023-12-23T15:03:09.373Z"
   },
   {
    "duration": 166,
    "start_time": "2023-12-23T15:03:09.584Z"
   },
   {
    "duration": 12,
    "start_time": "2023-12-23T15:03:09.752Z"
   },
   {
    "duration": 3041,
    "start_time": "2023-12-23T15:03:09.766Z"
   },
   {
    "duration": 31,
    "start_time": "2023-12-23T15:03:12.809Z"
   },
   {
    "duration": 11,
    "start_time": "2023-12-23T15:03:12.842Z"
   },
   {
    "duration": 20,
    "start_time": "2023-12-23T15:03:12.854Z"
   },
   {
    "duration": 49,
    "start_time": "2023-12-23T15:03:12.875Z"
   },
   {
    "duration": 14,
    "start_time": "2023-12-23T15:03:12.925Z"
   },
   {
    "duration": 3,
    "start_time": "2023-12-23T15:03:12.941Z"
   },
   {
    "duration": 16,
    "start_time": "2023-12-23T15:03:12.945Z"
   },
   {
    "duration": 55,
    "start_time": "2023-12-23T15:03:12.963Z"
   },
   {
    "duration": 39,
    "start_time": "2023-12-23T15:03:13.019Z"
   },
   {
    "duration": 63,
    "start_time": "2023-12-23T15:03:13.059Z"
   },
   {
    "duration": 6,
    "start_time": "2023-12-23T15:03:13.123Z"
   },
   {
    "duration": 16,
    "start_time": "2023-12-23T15:03:13.130Z"
   },
   {
    "duration": 34211,
    "start_time": "2023-12-23T15:03:13.147Z"
   },
   {
    "duration": 14,
    "start_time": "2023-12-23T15:03:47.359Z"
   },
   {
    "duration": 14,
    "start_time": "2023-12-23T15:04:02.964Z"
   },
   {
    "duration": 1341,
    "start_time": "2023-12-23T15:06:59.218Z"
   },
   {
    "duration": 248,
    "start_time": "2023-12-23T15:07:00.561Z"
   },
   {
    "duration": 161,
    "start_time": "2023-12-23T15:07:00.811Z"
   },
   {
    "duration": 85,
    "start_time": "2023-12-23T15:07:00.974Z"
   },
   {
    "duration": 213,
    "start_time": "2023-12-23T15:07:01.061Z"
   },
   {
    "duration": 180,
    "start_time": "2023-12-23T15:07:01.276Z"
   },
   {
    "duration": 13,
    "start_time": "2023-12-23T15:07:01.457Z"
   },
   {
    "duration": 3060,
    "start_time": "2023-12-23T15:07:01.472Z"
   },
   {
    "duration": 29,
    "start_time": "2023-12-23T15:07:04.533Z"
   },
   {
    "duration": 12,
    "start_time": "2023-12-23T15:07:04.564Z"
   },
   {
    "duration": 39,
    "start_time": "2023-12-23T15:07:04.577Z"
   },
   {
    "duration": 18,
    "start_time": "2023-12-23T15:07:04.617Z"
   },
   {
    "duration": 14,
    "start_time": "2023-12-23T15:07:04.637Z"
   },
   {
    "duration": 3,
    "start_time": "2023-12-23T15:07:04.653Z"
   },
   {
    "duration": 42,
    "start_time": "2023-12-23T15:07:04.657Z"
   },
   {
    "duration": 42,
    "start_time": "2023-12-23T15:07:04.700Z"
   },
   {
    "duration": 39,
    "start_time": "2023-12-23T15:07:04.744Z"
   },
   {
    "duration": 52,
    "start_time": "2023-12-23T15:07:04.799Z"
   },
   {
    "duration": 5,
    "start_time": "2023-12-23T15:07:04.852Z"
   },
   {
    "duration": 4,
    "start_time": "2023-12-23T15:07:04.859Z"
   },
   {
    "duration": 28371,
    "start_time": "2023-12-23T15:07:04.864Z"
   },
   {
    "duration": 14,
    "start_time": "2023-12-23T15:07:33.237Z"
   },
   {
    "duration": 1348,
    "start_time": "2023-12-23T15:10:23.088Z"
   },
   {
    "duration": 236,
    "start_time": "2023-12-23T15:10:24.438Z"
   },
   {
    "duration": 180,
    "start_time": "2023-12-23T15:10:24.676Z"
   },
   {
    "duration": 88,
    "start_time": "2023-12-23T15:10:24.858Z"
   },
   {
    "duration": 200,
    "start_time": "2023-12-23T15:10:24.947Z"
   },
   {
    "duration": 172,
    "start_time": "2023-12-23T15:10:25.148Z"
   },
   {
    "duration": 16,
    "start_time": "2023-12-23T15:10:25.322Z"
   },
   {
    "duration": 3024,
    "start_time": "2023-12-23T15:10:25.339Z"
   },
   {
    "duration": 34,
    "start_time": "2023-12-23T15:10:28.365Z"
   },
   {
    "duration": 29,
    "start_time": "2023-12-23T15:10:28.401Z"
   },
   {
    "duration": 21,
    "start_time": "2023-12-23T15:10:28.432Z"
   },
   {
    "duration": 17,
    "start_time": "2023-12-23T15:10:28.454Z"
   },
   {
    "duration": 15,
    "start_time": "2023-12-23T15:10:28.472Z"
   },
   {
    "duration": 11,
    "start_time": "2023-12-23T15:10:28.488Z"
   },
   {
    "duration": 16,
    "start_time": "2023-12-23T15:10:28.500Z"
   },
   {
    "duration": 41,
    "start_time": "2023-12-23T15:10:28.517Z"
   },
   {
    "duration": 57,
    "start_time": "2023-12-23T15:10:28.559Z"
   },
   {
    "duration": 50,
    "start_time": "2023-12-23T15:10:28.618Z"
   },
   {
    "duration": 5,
    "start_time": "2023-12-23T15:10:28.670Z"
   },
   {
    "duration": 23,
    "start_time": "2023-12-23T15:10:28.676Z"
   },
   {
    "duration": 31652,
    "start_time": "2023-12-23T15:10:28.700Z"
   },
   {
    "duration": 15,
    "start_time": "2023-12-23T15:11:00.354Z"
   },
   {
    "duration": 1260,
    "start_time": "2023-12-23T15:16:11.065Z"
   },
   {
    "duration": 240,
    "start_time": "2023-12-23T15:16:12.327Z"
   },
   {
    "duration": 191,
    "start_time": "2023-12-23T15:16:12.568Z"
   },
   {
    "duration": 86,
    "start_time": "2023-12-23T15:16:12.762Z"
   },
   {
    "duration": 207,
    "start_time": "2023-12-23T15:16:12.850Z"
   },
   {
    "duration": 165,
    "start_time": "2023-12-23T15:16:13.059Z"
   },
   {
    "duration": 14,
    "start_time": "2023-12-23T15:16:13.226Z"
   },
   {
    "duration": 3084,
    "start_time": "2023-12-23T15:16:13.241Z"
   },
   {
    "duration": 29,
    "start_time": "2023-12-23T15:16:16.327Z"
   },
   {
    "duration": 12,
    "start_time": "2023-12-23T15:16:16.358Z"
   },
   {
    "duration": 35,
    "start_time": "2023-12-23T15:16:16.372Z"
   },
   {
    "duration": 18,
    "start_time": "2023-12-23T15:16:16.408Z"
   },
   {
    "duration": 15,
    "start_time": "2023-12-23T15:16:16.428Z"
   },
   {
    "duration": 15,
    "start_time": "2023-12-23T15:16:16.444Z"
   },
   {
    "duration": 37,
    "start_time": "2023-12-23T15:16:16.461Z"
   },
   {
    "duration": 58,
    "start_time": "2023-12-23T15:16:16.499Z"
   },
   {
    "duration": 38,
    "start_time": "2023-12-23T15:16:16.558Z"
   },
   {
    "duration": 58,
    "start_time": "2023-12-23T15:16:16.598Z"
   },
   {
    "duration": 5,
    "start_time": "2023-12-23T15:16:16.657Z"
   },
   {
    "duration": 25,
    "start_time": "2023-12-23T15:16:16.663Z"
   },
   {
    "duration": 27800,
    "start_time": "2023-12-23T15:16:16.689Z"
   },
   {
    "duration": 9,
    "start_time": "2023-12-23T15:16:44.491Z"
   },
   {
    "duration": 167,
    "start_time": "2023-12-23T15:26:34.828Z"
   },
   {
    "duration": 1297,
    "start_time": "2023-12-23T15:58:38.642Z"
   },
   {
    "duration": 241,
    "start_time": "2023-12-23T15:58:39.940Z"
   },
   {
    "duration": 156,
    "start_time": "2023-12-23T15:58:40.199Z"
   },
   {
    "duration": 87,
    "start_time": "2023-12-23T15:58:40.357Z"
   },
   {
    "duration": 216,
    "start_time": "2023-12-23T15:58:40.446Z"
   },
   {
    "duration": 160,
    "start_time": "2023-12-23T15:58:40.663Z"
   },
   {
    "duration": 14,
    "start_time": "2023-12-23T15:58:40.825Z"
   },
   {
    "duration": 3082,
    "start_time": "2023-12-23T15:58:40.841Z"
   },
   {
    "duration": 29,
    "start_time": "2023-12-23T15:58:43.925Z"
   },
   {
    "duration": 12,
    "start_time": "2023-12-23T15:58:43.957Z"
   },
   {
    "duration": 40,
    "start_time": "2023-12-23T15:58:43.970Z"
   },
   {
    "duration": 19,
    "start_time": "2023-12-23T15:58:44.012Z"
   },
   {
    "duration": 15,
    "start_time": "2023-12-23T15:58:44.032Z"
   },
   {
    "duration": 4,
    "start_time": "2023-12-23T15:58:44.048Z"
   },
   {
    "duration": 45,
    "start_time": "2023-12-23T15:58:44.054Z"
   },
   {
    "duration": 43,
    "start_time": "2023-12-23T15:58:44.101Z"
   },
   {
    "duration": 54,
    "start_time": "2023-12-23T15:58:44.146Z"
   },
   {
    "duration": 53,
    "start_time": "2023-12-23T15:58:44.202Z"
   },
   {
    "duration": 7,
    "start_time": "2023-12-23T15:58:44.257Z"
   },
   {
    "duration": 11,
    "start_time": "2023-12-23T15:58:44.266Z"
   },
   {
    "duration": 29346,
    "start_time": "2023-12-23T15:58:44.278Z"
   },
   {
    "duration": 10,
    "start_time": "2023-12-23T15:59:13.625Z"
   },
   {
    "duration": 176,
    "start_time": "2023-12-23T15:59:13.637Z"
   },
   {
    "duration": 2887,
    "start_time": "2023-12-23T18:06:42.876Z"
   },
   {
    "duration": 244,
    "start_time": "2023-12-23T18:06:45.765Z"
   },
   {
    "duration": 163,
    "start_time": "2023-12-23T18:07:26.540Z"
   },
   {
    "duration": 84,
    "start_time": "2023-12-23T18:09:59.697Z"
   },
   {
    "duration": 212,
    "start_time": "2023-12-23T18:10:32.712Z"
   },
   {
    "duration": 101,
    "start_time": "2023-12-23T18:11:52.096Z"
   },
   {
    "duration": 82,
    "start_time": "2023-12-23T18:12:13.982Z"
   },
   {
    "duration": 3187,
    "start_time": "2023-12-23T18:12:27.267Z"
   },
   {
    "duration": 30,
    "start_time": "2023-12-23T18:13:40.554Z"
   },
   {
    "duration": 12,
    "start_time": "2023-12-23T18:13:46.980Z"
   },
   {
    "duration": 23,
    "start_time": "2023-12-23T18:13:48.384Z"
   },
   {
    "duration": 22,
    "start_time": "2023-12-23T18:14:28.875Z"
   },
   {
    "duration": 16,
    "start_time": "2023-12-23T18:14:48.759Z"
   },
   {
    "duration": 4,
    "start_time": "2023-12-23T18:14:49.934Z"
   },
   {
    "duration": 18,
    "start_time": "2023-12-23T18:14:51.654Z"
   },
   {
    "duration": 47,
    "start_time": "2023-12-23T18:14:54.174Z"
   },
   {
    "duration": 45,
    "start_time": "2023-12-23T18:14:58.466Z"
   },
   {
    "duration": 54,
    "start_time": "2023-12-23T18:14:59.498Z"
   },
   {
    "duration": 6,
    "start_time": "2023-12-23T18:15:41.497Z"
   },
   {
    "duration": 4,
    "start_time": "2023-12-23T18:16:09.957Z"
   },
   {
    "duration": 81,
    "start_time": "2023-12-23T19:50:34.099Z"
   },
   {
    "duration": 77,
    "start_time": "2023-12-23T19:52:20.220Z"
   },
   {
    "duration": 95,
    "start_time": "2023-12-23T19:52:44.952Z"
   },
   {
    "duration": 69,
    "start_time": "2023-12-23T19:52:49.545Z"
   }
  ],
  "kernelspec": {
   "display_name": "Python 3 (ipykernel)",
   "language": "python",
   "name": "python3"
  },
  "language_info": {
   "codemirror_mode": {
    "name": "ipython",
    "version": 3
   },
   "file_extension": ".py",
   "mimetype": "text/x-python",
   "name": "python",
   "nbconvert_exporter": "python",
   "pygments_lexer": "ipython3",
   "version": "3.9.5"
  },
  "toc": {
   "base_numbering": 1,
   "nav_menu": {},
   "number_sections": true,
   "sideBar": true,
   "skip_h1_title": true,
   "title_cell": "Table of Contents",
   "title_sidebar": "Contents",
   "toc_cell": false,
   "toc_position": {
    "height": "calc(100% - 180px)",
    "left": "10px",
    "top": "150px",
    "width": "389.112px"
   },
   "toc_section_display": true,
   "toc_window_display": false
  }
 },
 "nbformat": 4,
 "nbformat_minor": 5
}
