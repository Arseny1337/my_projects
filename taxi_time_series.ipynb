{
 "cells": [
  {
   "cell_type": "markdown",
   "metadata": {
    "toc": true
   },
   "source": [
    "<h1>Содержание<span class=\"tocSkip\"></span></h1>\n",
    "<div class=\"toc\"><ul class=\"toc-item\"><li><span><a href=\"#Подготовка\" data-toc-modified-id=\"Подготовка-1\"><span class=\"toc-item-num\">1&nbsp;&nbsp;</span>Подготовка</a></span></li><li><span><a href=\"#Анализ\" data-toc-modified-id=\"Анализ-2\"><span class=\"toc-item-num\">2&nbsp;&nbsp;</span>Анализ</a></span><ul class=\"toc-item\"><li><ul class=\"toc-item\"><li><span><a href=\"#Вывод:\" data-toc-modified-id=\"Вывод:-2.0.1\"><span class=\"toc-item-num\">2.0.1&nbsp;&nbsp;</span>Вывод:</a></span></li></ul></li></ul></li><li><span><a href=\"#Обучение\" data-toc-modified-id=\"Обучение-3\"><span class=\"toc-item-num\">3&nbsp;&nbsp;</span>Обучение</a></span></li><li><span><a href=\"#Проверка-на-адекватность\" data-toc-modified-id=\"Проверка-на-адекватность-4\"><span class=\"toc-item-num\">4&nbsp;&nbsp;</span>Проверка на адекватность</a></span></li><li><span><a href=\"#Общий-вывод\" data-toc-modified-id=\"Общий-вывод-5\"><span class=\"toc-item-num\">5&nbsp;&nbsp;</span>Общий вывод</a></span><ul class=\"toc-item\"><li><ul class=\"toc-item\"><li><span><a href=\"#1.-Предобработка-данных\" data-toc-modified-id=\"1.-Предобработка-данных-5.0.1\"><span class=\"toc-item-num\">5.0.1&nbsp;&nbsp;</span>1. Предобработка данных</a></span></li><li><span><a href=\"#2.-Анализ-данных\" data-toc-modified-id=\"2.-Анализ-данных-5.0.2\"><span class=\"toc-item-num\">5.0.2&nbsp;&nbsp;</span>2. Анализ данных</a></span></li><li><span><a href=\"#3.-Обучение-моделей\" data-toc-modified-id=\"3.-Обучение-моделей-5.0.3\"><span class=\"toc-item-num\">5.0.3&nbsp;&nbsp;</span>3. Обучение моделей</a></span></li><li><span><a href=\"#4.-Выбор-лучшей-модели\" data-toc-modified-id=\"4.-Выбор-лучшей-модели-5.0.4\"><span class=\"toc-item-num\">5.0.4&nbsp;&nbsp;</span>4. Выбор лучшей модели</a></span></li><li><span><a href=\"#5.-Тестирование-лучшей-модели\" data-toc-modified-id=\"5.-Тестирование-лучшей-модели-5.0.5\"><span class=\"toc-item-num\">5.0.5&nbsp;&nbsp;</span>5. Тестирование лучшей модели</a></span></li></ul></li><li><span><a href=\"#Итоговый-вывод\" data-toc-modified-id=\"Итоговый-вывод-5.1\"><span class=\"toc-item-num\">5.1&nbsp;&nbsp;</span>Итоговый вывод</a></span></li></ul></li></ul></div>"
   ]
  },
  {
   "cell_type": "markdown",
   "metadata": {},
   "source": [
    "#  Прогнозирование заказов такси"
   ]
  },
  {
   "cell_type": "markdown",
   "metadata": {},
   "source": [
    "Компания «Чётенькое такси» собрала исторические данные о заказах такси в аэропортах. Чтобы привлекать больше водителей в период пиковой нагрузки, нужно спрогнозировать количество заказов такси на следующий час. Постройте модель для такого предсказания.\n",
    "\n",
    "Значение метрики *RMSE* на тестовой выборке должно быть не больше 48.\n",
    "\n",
    "Вам нужно:\n",
    "\n",
    "1. Загрузить данные и выполнить их ресемплирование по одному часу.\n",
    "2. Проанализировать данные.\n",
    "3. Обучить разные модели с различными гиперпараметрами. Сделать тестовую выборку размером 10% от исходных данных.\n",
    "4. Проверить данные на тестовой выборке и сделать выводы.\n",
    "\n",
    "\n",
    "Данные лежат в файле `taxi.csv`. Количество заказов находится в столбце `num_orders` (от англ. *number of orders*, «число заказов»)."
   ]
  },
  {
   "cell_type": "markdown",
   "metadata": {},
   "source": [
    "## Подготовка"
   ]
  },
  {
   "cell_type": "code",
   "execution_count": 1,
   "metadata": {},
   "outputs": [],
   "source": [
    "import pandas as pd\n",
    "\n",
    "import numpy as np\n",
    "\n",
    "import matplotlib.pyplot as plt\n",
    "\n",
    "import math\n",
    "\n",
    "from statsmodels.tsa.seasonal import seasonal_decompose\n",
    "\n",
    "from sklearn.model_selection import train_test_split, TimeSeriesSplit, GridSearchCV\n",
    "from sklearn.linear_model import LinearRegression\n",
    "from sklearn.ensemble import RandomForestRegressor\n",
    "from sklearn.tree import DecisionTreeRegressor\n",
    "from sklearn.metrics import mean_squared_error\n",
    "\n",
    "from lightgbm import LGBMRegressor\n",
    "\n",
    "import time"
   ]
  },
  {
   "cell_type": "markdown",
   "metadata": {},
   "source": [
    "Прочтём данные из файла ```taxi.csv```. Столбец с датой и временем примем за колонку с индексами."
   ]
  },
  {
   "cell_type": "code",
   "execution_count": 2,
   "metadata": {},
   "outputs": [],
   "source": [
    "data = pd.read_csv('/datasets/taxi.csv', index_col=[0], parse_dates=[0])"
   ]
  },
  {
   "cell_type": "markdown",
   "metadata": {},
   "source": [
    "Познакомимся с данными. Получим общую информацию о датасете, его размерность, проверим наличие дубликатов и пропусков. Посмотрим базовую статистику."
   ]
  },
  {
   "cell_type": "code",
   "execution_count": 3,
   "metadata": {
    "scrolled": false
   },
   "outputs": [
    {
     "name": "stdout",
     "output_type": "stream",
     "text": [
      "Общая информация о данных:\n",
      "<class 'pandas.core.frame.DataFrame'>\n",
      "DatetimeIndex: 26496 entries, 2018-03-01 00:00:00 to 2018-08-31 23:50:00\n",
      "Data columns (total 1 columns):\n",
      " #   Column      Non-Null Count  Dtype\n",
      "---  ------      --------------  -----\n",
      " 0   num_orders  26496 non-null  int64\n",
      "dtypes: int64(1)\n",
      "memory usage: 414.0 KB\n",
      "None\n",
      "Первые 5 строк таблицы:\n"
     ]
    },
    {
     "data": {
      "text/html": [
       "<div>\n",
       "<style scoped>\n",
       "    .dataframe tbody tr th:only-of-type {\n",
       "        vertical-align: middle;\n",
       "    }\n",
       "\n",
       "    .dataframe tbody tr th {\n",
       "        vertical-align: top;\n",
       "    }\n",
       "\n",
       "    .dataframe thead th {\n",
       "        text-align: right;\n",
       "    }\n",
       "</style>\n",
       "<table border=\"1\" class=\"dataframe\">\n",
       "  <thead>\n",
       "    <tr style=\"text-align: right;\">\n",
       "      <th></th>\n",
       "      <th>num_orders</th>\n",
       "    </tr>\n",
       "    <tr>\n",
       "      <th>datetime</th>\n",
       "      <th></th>\n",
       "    </tr>\n",
       "  </thead>\n",
       "  <tbody>\n",
       "    <tr>\n",
       "      <th>2018-03-01 00:00:00</th>\n",
       "      <td>9</td>\n",
       "    </tr>\n",
       "    <tr>\n",
       "      <th>2018-03-01 00:10:00</th>\n",
       "      <td>14</td>\n",
       "    </tr>\n",
       "    <tr>\n",
       "      <th>2018-03-01 00:20:00</th>\n",
       "      <td>28</td>\n",
       "    </tr>\n",
       "    <tr>\n",
       "      <th>2018-03-01 00:30:00</th>\n",
       "      <td>20</td>\n",
       "    </tr>\n",
       "    <tr>\n",
       "      <th>2018-03-01 00:40:00</th>\n",
       "      <td>32</td>\n",
       "    </tr>\n",
       "  </tbody>\n",
       "</table>\n",
       "</div>"
      ],
      "text/plain": [
       "                     num_orders\n",
       "datetime                       \n",
       "2018-03-01 00:00:00           9\n",
       "2018-03-01 00:10:00          14\n",
       "2018-03-01 00:20:00          28\n",
       "2018-03-01 00:30:00          20\n",
       "2018-03-01 00:40:00          32"
      ]
     },
     "metadata": {},
     "output_type": "display_data"
    },
    {
     "name": "stdout",
     "output_type": "stream",
     "text": [
      "Количество пропусков:\n",
      "num_orders    0\n",
      "dtype: int64\n",
      "\n",
      "Количество дубликатов: 26415\n",
      "\n",
      "Базовая статистика:\n",
      "         num_orders\n",
      "count  26496.000000\n",
      "mean      14.070463\n",
      "std        9.211330\n",
      "min        0.000000\n",
      "25%        8.000000\n",
      "50%       13.000000\n",
      "75%       19.000000\n",
      "max      119.000000\n"
     ]
    }
   ],
   "source": [
    "def data_summary(data):\n",
    "    # Подсчитаем количество пропусков в данных\n",
    "    missing_values = data.isnull().sum()\n",
    "\n",
    "    # Подсчитаем количество дубликатов\n",
    "    duplicates = data.duplicated().sum()\n",
    "\n",
    "    # Вычислим основные статистические характеристики данных\n",
    "    statistics = data.describe()\n",
    "\n",
    "    # Выведем результаты\n",
    "    print('Общая информация о данных:')\n",
    "    print(data.info())\n",
    "    print('Первые 5 строк таблицы:')\n",
    "    display(data.head(5))\n",
    "    print('Количество пропусков:')\n",
    "    print(missing_values)\n",
    "    print('\\nКоличество дубликатов:', duplicates)\n",
    "    print('\\nБазовая статистика:')\n",
    "    print(statistics)\n",
    "    \n",
    "data_summary(data)"
   ]
  },
  {
   "cell_type": "markdown",
   "metadata": {},
   "source": [
    "По полученной информации видно:\n",
    "\n",
    "- Датафрейм состоит из 26496 строк и двух столбцов\n",
    "- Столбец ```datetime``` с датой и временем мы приняли за индексы\n",
    "- Второй столбец ```num_orders``` содержит информацию о количестве заказов \n",
    "- Шаг временного ряда равен 10 минутам\n",
    "- В среднем за 10 минут принимается 14 заказов\n",
    "- Максимальное количество заказов за 10 минут - 119, минимальное - 0\n",
    "\n",
    "Дубликаты связаны с тем, что в разное время может быть одно и то же количество заказов."
   ]
  },
  {
   "cell_type": "markdown",
   "metadata": {},
   "source": [
    "Проверим соблюдение хронологии в столбце индексов```datetime```."
   ]
  },
  {
   "cell_type": "code",
   "execution_count": 4,
   "metadata": {
    "scrolled": true
   },
   "outputs": [
    {
     "data": {
      "text/plain": [
       "True"
      ]
     },
     "execution_count": 4,
     "metadata": {},
     "output_type": "execute_result"
    }
   ],
   "source": [
    "data.index.is_monotonic"
   ]
  },
  {
   "cell_type": "markdown",
   "metadata": {},
   "source": [
    "Хронология соблюдена"
   ]
  },
  {
   "cell_type": "markdown",
   "metadata": {},
   "source": [
    "Выполним ресэмплирование по промежутку в 1 час."
   ]
  },
  {
   "cell_type": "code",
   "execution_count": 5,
   "metadata": {
    "scrolled": true
   },
   "outputs": [
    {
     "data": {
      "text/html": [
       "<div>\n",
       "<style scoped>\n",
       "    .dataframe tbody tr th:only-of-type {\n",
       "        vertical-align: middle;\n",
       "    }\n",
       "\n",
       "    .dataframe tbody tr th {\n",
       "        vertical-align: top;\n",
       "    }\n",
       "\n",
       "    .dataframe thead th {\n",
       "        text-align: right;\n",
       "    }\n",
       "</style>\n",
       "<table border=\"1\" class=\"dataframe\">\n",
       "  <thead>\n",
       "    <tr style=\"text-align: right;\">\n",
       "      <th></th>\n",
       "      <th>num_orders</th>\n",
       "    </tr>\n",
       "    <tr>\n",
       "      <th>datetime</th>\n",
       "      <th></th>\n",
       "    </tr>\n",
       "  </thead>\n",
       "  <tbody>\n",
       "    <tr>\n",
       "      <th>2018-03-01 00:00:00</th>\n",
       "      <td>124</td>\n",
       "    </tr>\n",
       "    <tr>\n",
       "      <th>2018-03-01 01:00:00</th>\n",
       "      <td>85</td>\n",
       "    </tr>\n",
       "    <tr>\n",
       "      <th>2018-03-01 02:00:00</th>\n",
       "      <td>71</td>\n",
       "    </tr>\n",
       "    <tr>\n",
       "      <th>2018-03-01 03:00:00</th>\n",
       "      <td>66</td>\n",
       "    </tr>\n",
       "    <tr>\n",
       "      <th>2018-03-01 04:00:00</th>\n",
       "      <td>43</td>\n",
       "    </tr>\n",
       "  </tbody>\n",
       "</table>\n",
       "</div>"
      ],
      "text/plain": [
       "                     num_orders\n",
       "datetime                       \n",
       "2018-03-01 00:00:00         124\n",
       "2018-03-01 01:00:00          85\n",
       "2018-03-01 02:00:00          71\n",
       "2018-03-01 03:00:00          66\n",
       "2018-03-01 04:00:00          43"
      ]
     },
     "execution_count": 5,
     "metadata": {},
     "output_type": "execute_result"
    }
   ],
   "source": [
    "data = data.resample('1H').sum()\n",
    "data.head()"
   ]
  },
  {
   "cell_type": "markdown",
   "metadata": {},
   "source": [
    "Данные предварительно обработаны, можно переходить к их анализу."
   ]
  },
  {
   "cell_type": "markdown",
   "metadata": {},
   "source": [
    "## Анализ"
   ]
  },
  {
   "cell_type": "markdown",
   "metadata": {},
   "source": [
    "Декомпозируем временной ряд. Декомпозиция временного ряда - это процесс разбиения временного ряда на его компоненты, такие как тренд, сезонность и остатки (шум). Это может помочь в анализе данных, выявлении паттернов и прогнозировании будущих значений. Проведём декомпозицию временного ряда в Python, используя библиотеку ```statsmodels```."
   ]
  },
  {
   "cell_type": "code",
   "execution_count": 6,
   "metadata": {},
   "outputs": [
    {
     "data": {
      "image/png": "[encoded data removed]",
      "text/plain": [
       "<Figure size 864x720 with 4 Axes>"
      ]
     },
     "metadata": {
      "needs_background": "light"
     },
     "output_type": "display_data"
    }
   ],
   "source": [
    "# Декомпозиция временного ряда\n",
    "decomposition = seasonal_decompose(data['num_orders'])\n",
    "\n",
    "# Визуализация компонент\n",
    "plt.figure(figsize=(12, 10))\n",
    "\n",
    "# График Тренда\n",
    "plt.subplot(411)\n",
    "plt.plot(decomposition.trend)\n",
    "plt.title('Тренд')\n",
    "plt.ylabel('Количество заказов')\n",
    "plt.grid(True)\n",
    "\n",
    "# График Сезонности с данными за последние 10 дней (240 часов)\n",
    "plt.subplot(412)\n",
    "plt.plot(decomposition.seasonal.tail(240))\n",
    "plt.title('Сезонность (Последние 10 дней)')\n",
    "plt.ylabel('Количество заказов')\n",
    "plt.grid(True)\n",
    "\n",
    "\n",
    "# График Остатков\n",
    "plt.subplot(413)\n",
    "plt.plot(decomposition.resid)\n",
    "plt.title('Остатки')\n",
    "plt.ylabel('Количество заказов')\n",
    "plt.grid(True)\n",
    "\n",
    "# График исходных данных\n",
    "plt.subplot(414)\n",
    "plt.plot(data['num_orders'])\n",
    "plt.title('Исходные данные')\n",
    "plt.ylabel('Количество заказов')\n",
    "plt.grid(True)\n",
    "\n",
    "plt.tight_layout()\n",
    "plt.show()"
   ]
  },
  {
   "cell_type": "markdown",
   "metadata": {},
   "source": [
    "#### Вывод:\n",
    "Глядя на графики можно сделать следующие выводы:\n",
    "\n",
    "- График тренда имеет восходящую тенденцию, следовательно количество заказов такси растёт со временем, а сервис набирает популярность.\n",
    "- График сезонности показывает, что количество заказов меняется в течение суток с повторяющейся закономерностью: поздней ночью и ранним утром заказов меньше всего, в начале и в конце рабочего дня наблюдаются всплески количества заказов, а к полуночи (когда общественный транспорт перестаёт работать) количество заказов такси достигает максимума.\n",
    "- Амплитуда шума на графике остатков расширяется вместе с ростом графика тренда. Это может указывать на наличие гетероскедастичности. Гетероскедастичность означает, что дисперсия остатков меняется с течением времени. Это может быть связано с изменением вариабельности данных во времени."
   ]
  },
  {
   "cell_type": "markdown",
   "metadata": {},
   "source": []
  },
  {
   "cell_type": "markdown",
   "metadata": {},
   "source": [
    "Изучим недельную сезонность. Для этого произведём ресэмплирование по дням и построим график."
   ]
  },
  {
   "cell_type": "code",
   "execution_count": 7,
   "metadata": {},
   "outputs": [
    {
     "data": {
      "image/png": "[encoded data removed]",
      "text/plain": [
       "<Figure size 864x288 with 1 Axes>"
      ]
     },
     "metadata": {
      "needs_background": "light"
     },
     "output_type": "display_data"
    },
    {
     "data": {
      "image/png": "[encoded data removed]",
      "text/plain": [
       "<Figure size 864x288 with 1 Axes>"
      ]
     },
     "metadata": {
      "needs_background": "light"
     },
     "output_type": "display_data"
    }
   ],
   "source": [
    "data_daily = data['num_orders'].resample('D').sum()\n",
    "\n",
    "# График недельной сезонности за последние три недели\n",
    "plt.figure(figsize=(12, 4))\n",
    "plt.plot(data_daily[-21:].index, data_daily[-21:].values)\n",
    "plt.title('Недельная сезонность')\n",
    "plt.xlabel('Дата')\n",
    "plt.ylabel('Количество заказов')\n",
    "plt.grid(True)\n",
    "plt.show()\n",
    "\n",
    "# График за одну неделю (для изучения тенденций внутри недели)\n",
    "plt.figure(figsize=(12, 4))\n",
    "plt.plot(data_daily[-7:].index, data_daily[-7:].values)\n",
    "plt.title('График за неделю')\n",
    "plt.xlabel('Дата')\n",
    "plt.ylabel('Количество заказов')\n",
    "plt.grid(True)\n",
    "plt.show()"
   ]
  },
  {
   "cell_type": "markdown",
   "metadata": {},
   "source": [
    "**Вывод:**\n",
    "На графике видно, что имеет место устойчивый паттерн недельной сезонности. 25 августа 2018 года была суббота. Следовательно, очевидно, что в воскресенье такси заказывают меньше всего, больше всего в понедельник, далее количество заказов растёт к четвергу и снижается к воскресенью."
   ]
  },
  {
   "cell_type": "markdown",
   "metadata": {},
   "source": [
    "## Обучение"
   ]
  },
  {
   "cell_type": "markdown",
   "metadata": {},
   "source": [
    "Приступим к обучению моделей.\n",
    "Сперва сгенерируем признакии. Нам понадобятся:\n",
    "\n",
    "- Календарные признаки:\n",
    "\n",
    "    - Час\n",
    "    - День недели\n",
    "    - День месяца\n",
    "\n",
    "- Лаги:\n",
    "\n",
    "    - От 1 отстающего до 12\n",
    "    - 24\n",
    "    - 48\n",
    "    - 168\n",
    "    \n",
    "- Скользящее среднее\n",
    "\n",
    "    - С окном 24 (так как имеется дневная сезонность)\n",
    "    - С окном 168 (так как имеется недельная сезонность)"
   ]
  },
  {
   "cell_type": "code",
   "execution_count": 8,
   "metadata": {
    "scrolled": false
   },
   "outputs": [
    {
     "data": {
      "text/plain": [
       "Index(['num_orders', 'hour', 'dayofweek', 'dayofmonth', 'lag_1', 'lag_2',\n",
       "       'lag_3', 'lag_4', 'lag_5', 'lag_6', 'lag_7', 'lag_8', 'lag_9', 'lag_10',\n",
       "       'lag_11', 'lag_12', 'lag_24', 'lag_48', 'lag_168', 'rolling_mean_24',\n",
       "       'rolling_mean_168'],\n",
       "      dtype='object')"
      ]
     },
     "execution_count": 8,
     "metadata": {},
     "output_type": "execute_result"
    }
   ],
   "source": [
    "def make_features(df, max_lag):\n",
    "    data = df.copy()\n",
    "    \n",
    "    # Календарные признаки\n",
    "    data['hour'] = data.index.hour\n",
    "    data['dayofweek'] = data.index.dayofweek\n",
    "    data['dayofmonth'] = data.index.day\n",
    "    \n",
    "    # Лаги\n",
    "    for lag in range(1, max_lag + 1):\n",
    "        data['lag_{}'.format(lag)] = data['num_orders'].shift(lag)\n",
    "    \n",
    "    # Отдельные лаги под номерами 24, 48, 168\n",
    "    data['lag_24'] = data['num_orders'].shift(24)\n",
    "    data['lag_48'] = data['num_orders'].shift(48)\n",
    "    data['lag_168'] = data['num_orders'].shift(168)\n",
    "    \n",
    "    # Rolling Mean с окнами размером 24 и 168\n",
    "    data['rolling_mean_24'] = data['num_orders'].shift().rolling(24).mean()\n",
    "    data['rolling_mean_168'] = data['num_orders'].shift().rolling(168).mean()\n",
    "    data = data.dropna()\n",
    "\n",
    "    return data\n",
    "\n",
    "data = make_features(data, 12)\n",
    "data.columns"
   ]
  },
  {
   "cell_type": "code",
   "execution_count": 9,
   "metadata": {},
   "outputs": [
    {
     "data": {
      "image/png": "[encoded data removed]",
      "text/plain": [
       "<Figure size 1332x432 with 1 Axes>"
      ]
     },
     "metadata": {
      "needs_background": "light"
     },
     "output_type": "display_data"
    }
   ],
   "source": [
    "# Код ревьюера\n",
    "from statsmodels.graphics import tsaplots\n",
    "\n",
    "taxi = pd.read_csv(\"/datasets/taxi.csv\", index_col=[0], parse_dates=[0]).resample('1H').sum()\n",
    "ts = taxi['num_orders']\n",
    "\n",
    "fig = tsaplots.plot_acf(ts,lags= 190)\n",
    "fig.set_size_inches(18.5, 6)\n",
    "plt.ylim(-.1, 1.1)\n",
    "plt.show() \n"
   ]
  },
  {
   "cell_type": "markdown",
   "metadata": {},
   "source": [
    "Выделим признаки и целевой признак."
   ]
  },
  {
   "cell_type": "code",
   "execution_count": 10,
   "metadata": {},
   "outputs": [],
   "source": [
    "# Выделение признаков и целевого признака\n",
    "features = data.drop(['num_orders'], axis=1)\n",
    "target = data['num_orders']"
   ]
  },
  {
   "cell_type": "markdown",
   "metadata": {},
   "source": [
    "Разделим данные на обучающую и тестовую выборки. Так как будет использоваться кросс-валидация, валидационная выборка не нужна."
   ]
  },
  {
   "cell_type": "code",
   "execution_count": 11,
   "metadata": {},
   "outputs": [],
   "source": [
    "# Разделение данных на обучающую и тестовую выборки\n",
    "data_train, data_test, target_train, target_test = train_test_split(features, target, test_size=0.1, random_state=12345, shuffle=False)"
   ]
  },
  {
   "cell_type": "markdown",
   "metadata": {},
   "source": [
    "Приступим к обучению моделей и подбору гиперпараметров на кросс-валидации."
   ]
  },
  {
   "cell_type": "code",
   "execution_count": 12,
   "metadata": {},
   "outputs": [],
   "source": [
    "tscv = TimeSeriesSplit(n_splits=4)"
   ]
  },
  {
   "cell_type": "code",
   "execution_count": 13,
   "metadata": {},
   "outputs": [
    {
     "data": {
      "text/html": [
       "<div>\n",
       "<style scoped>\n",
       "    .dataframe tbody tr th:only-of-type {\n",
       "        vertical-align: middle;\n",
       "    }\n",
       "\n",
       "    .dataframe tbody tr th {\n",
       "        vertical-align: top;\n",
       "    }\n",
       "\n",
       "    .dataframe thead th {\n",
       "        text-align: right;\n",
       "    }\n",
       "</style>\n",
       "<table border=\"1\" class=\"dataframe\">\n",
       "  <thead>\n",
       "    <tr style=\"text-align: right;\">\n",
       "      <th></th>\n",
       "      <th>num_orders</th>\n",
       "      <th>hour</th>\n",
       "      <th>dayofweek</th>\n",
       "      <th>dayofmonth</th>\n",
       "      <th>lag_1</th>\n",
       "      <th>lag_2</th>\n",
       "      <th>lag_3</th>\n",
       "      <th>lag_4</th>\n",
       "      <th>lag_5</th>\n",
       "      <th>lag_6</th>\n",
       "      <th>...</th>\n",
       "      <th>lag_8</th>\n",
       "      <th>lag_9</th>\n",
       "      <th>lag_10</th>\n",
       "      <th>lag_11</th>\n",
       "      <th>lag_12</th>\n",
       "      <th>lag_24</th>\n",
       "      <th>lag_48</th>\n",
       "      <th>lag_168</th>\n",
       "      <th>rolling_mean_24</th>\n",
       "      <th>rolling_mean_168</th>\n",
       "    </tr>\n",
       "    <tr>\n",
       "      <th>datetime</th>\n",
       "      <th></th>\n",
       "      <th></th>\n",
       "      <th></th>\n",
       "      <th></th>\n",
       "      <th></th>\n",
       "      <th></th>\n",
       "      <th></th>\n",
       "      <th></th>\n",
       "      <th></th>\n",
       "      <th></th>\n",
       "      <th></th>\n",
       "      <th></th>\n",
       "      <th></th>\n",
       "      <th></th>\n",
       "      <th></th>\n",
       "      <th></th>\n",
       "      <th></th>\n",
       "      <th></th>\n",
       "      <th></th>\n",
       "      <th></th>\n",
       "      <th></th>\n",
       "    </tr>\n",
       "  </thead>\n",
       "  <tbody>\n",
       "    <tr>\n",
       "      <th>2018-03-08 00:00:00</th>\n",
       "      <td>143</td>\n",
       "      <td>0</td>\n",
       "      <td>3</td>\n",
       "      <td>8</td>\n",
       "      <td>94.0</td>\n",
       "      <td>127.0</td>\n",
       "      <td>108.0</td>\n",
       "      <td>76.0</td>\n",
       "      <td>50.0</td>\n",
       "      <td>99.0</td>\n",
       "      <td>...</td>\n",
       "      <td>46.0</td>\n",
       "      <td>51.0</td>\n",
       "      <td>43.0</td>\n",
       "      <td>55.0</td>\n",
       "      <td>34.0</td>\n",
       "      <td>100.0</td>\n",
       "      <td>42.0</td>\n",
       "      <td>124.0</td>\n",
       "      <td>60.041667</td>\n",
       "      <td>54.226190</td>\n",
       "    </tr>\n",
       "    <tr>\n",
       "      <th>2018-03-08 01:00:00</th>\n",
       "      <td>78</td>\n",
       "      <td>1</td>\n",
       "      <td>3</td>\n",
       "      <td>8</td>\n",
       "      <td>143.0</td>\n",
       "      <td>94.0</td>\n",
       "      <td>127.0</td>\n",
       "      <td>108.0</td>\n",
       "      <td>76.0</td>\n",
       "      <td>50.0</td>\n",
       "      <td>...</td>\n",
       "      <td>48.0</td>\n",
       "      <td>46.0</td>\n",
       "      <td>51.0</td>\n",
       "      <td>43.0</td>\n",
       "      <td>55.0</td>\n",
       "      <td>121.0</td>\n",
       "      <td>75.0</td>\n",
       "      <td>85.0</td>\n",
       "      <td>61.833333</td>\n",
       "      <td>54.339286</td>\n",
       "    </tr>\n",
       "    <tr>\n",
       "      <th>2018-03-08 02:00:00</th>\n",
       "      <td>65</td>\n",
       "      <td>2</td>\n",
       "      <td>3</td>\n",
       "      <td>8</td>\n",
       "      <td>78.0</td>\n",
       "      <td>143.0</td>\n",
       "      <td>94.0</td>\n",
       "      <td>127.0</td>\n",
       "      <td>108.0</td>\n",
       "      <td>76.0</td>\n",
       "      <td>...</td>\n",
       "      <td>99.0</td>\n",
       "      <td>48.0</td>\n",
       "      <td>46.0</td>\n",
       "      <td>51.0</td>\n",
       "      <td>43.0</td>\n",
       "      <td>24.0</td>\n",
       "      <td>36.0</td>\n",
       "      <td>71.0</td>\n",
       "      <td>60.041667</td>\n",
       "      <td>54.297619</td>\n",
       "    </tr>\n",
       "    <tr>\n",
       "      <th>2018-03-08 03:00:00</th>\n",
       "      <td>68</td>\n",
       "      <td>3</td>\n",
       "      <td>3</td>\n",
       "      <td>8</td>\n",
       "      <td>65.0</td>\n",
       "      <td>78.0</td>\n",
       "      <td>143.0</td>\n",
       "      <td>94.0</td>\n",
       "      <td>127.0</td>\n",
       "      <td>108.0</td>\n",
       "      <td>...</td>\n",
       "      <td>50.0</td>\n",
       "      <td>99.0</td>\n",
       "      <td>48.0</td>\n",
       "      <td>46.0</td>\n",
       "      <td>51.0</td>\n",
       "      <td>66.0</td>\n",
       "      <td>49.0</td>\n",
       "      <td>66.0</td>\n",
       "      <td>61.750000</td>\n",
       "      <td>54.261905</td>\n",
       "    </tr>\n",
       "    <tr>\n",
       "      <th>2018-03-08 04:00:00</th>\n",
       "      <td>60</td>\n",
       "      <td>4</td>\n",
       "      <td>3</td>\n",
       "      <td>8</td>\n",
       "      <td>68.0</td>\n",
       "      <td>65.0</td>\n",
       "      <td>78.0</td>\n",
       "      <td>143.0</td>\n",
       "      <td>94.0</td>\n",
       "      <td>127.0</td>\n",
       "      <td>...</td>\n",
       "      <td>76.0</td>\n",
       "      <td>50.0</td>\n",
       "      <td>99.0</td>\n",
       "      <td>48.0</td>\n",
       "      <td>46.0</td>\n",
       "      <td>73.0</td>\n",
       "      <td>30.0</td>\n",
       "      <td>43.0</td>\n",
       "      <td>61.833333</td>\n",
       "      <td>54.273810</td>\n",
       "    </tr>\n",
       "    <tr>\n",
       "      <th>...</th>\n",
       "      <td>...</td>\n",
       "      <td>...</td>\n",
       "      <td>...</td>\n",
       "      <td>...</td>\n",
       "      <td>...</td>\n",
       "      <td>...</td>\n",
       "      <td>...</td>\n",
       "      <td>...</td>\n",
       "      <td>...</td>\n",
       "      <td>...</td>\n",
       "      <td>...</td>\n",
       "      <td>...</td>\n",
       "      <td>...</td>\n",
       "      <td>...</td>\n",
       "      <td>...</td>\n",
       "      <td>...</td>\n",
       "      <td>...</td>\n",
       "      <td>...</td>\n",
       "      <td>...</td>\n",
       "      <td>...</td>\n",
       "      <td>...</td>\n",
       "    </tr>\n",
       "    <tr>\n",
       "      <th>2018-08-31 19:00:00</th>\n",
       "      <td>136</td>\n",
       "      <td>19</td>\n",
       "      <td>4</td>\n",
       "      <td>31</td>\n",
       "      <td>207.0</td>\n",
       "      <td>217.0</td>\n",
       "      <td>197.0</td>\n",
       "      <td>116.0</td>\n",
       "      <td>133.0</td>\n",
       "      <td>166.0</td>\n",
       "      <td>...</td>\n",
       "      <td>167.0</td>\n",
       "      <td>191.0</td>\n",
       "      <td>203.0</td>\n",
       "      <td>182.0</td>\n",
       "      <td>46.0</td>\n",
       "      <td>72.0</td>\n",
       "      <td>169.0</td>\n",
       "      <td>113.0</td>\n",
       "      <td>164.875000</td>\n",
       "      <td>154.297619</td>\n",
       "    </tr>\n",
       "    <tr>\n",
       "      <th>2018-08-31 20:00:00</th>\n",
       "      <td>154</td>\n",
       "      <td>20</td>\n",
       "      <td>4</td>\n",
       "      <td>31</td>\n",
       "      <td>136.0</td>\n",
       "      <td>207.0</td>\n",
       "      <td>217.0</td>\n",
       "      <td>197.0</td>\n",
       "      <td>116.0</td>\n",
       "      <td>133.0</td>\n",
       "      <td>...</td>\n",
       "      <td>136.0</td>\n",
       "      <td>167.0</td>\n",
       "      <td>191.0</td>\n",
       "      <td>203.0</td>\n",
       "      <td>182.0</td>\n",
       "      <td>142.0</td>\n",
       "      <td>191.0</td>\n",
       "      <td>179.0</td>\n",
       "      <td>167.541667</td>\n",
       "      <td>154.434524</td>\n",
       "    </tr>\n",
       "    <tr>\n",
       "      <th>2018-08-31 21:00:00</th>\n",
       "      <td>159</td>\n",
       "      <td>21</td>\n",
       "      <td>4</td>\n",
       "      <td>31</td>\n",
       "      <td>154.0</td>\n",
       "      <td>136.0</td>\n",
       "      <td>207.0</td>\n",
       "      <td>217.0</td>\n",
       "      <td>197.0</td>\n",
       "      <td>116.0</td>\n",
       "      <td>...</td>\n",
       "      <td>166.0</td>\n",
       "      <td>136.0</td>\n",
       "      <td>167.0</td>\n",
       "      <td>191.0</td>\n",
       "      <td>203.0</td>\n",
       "      <td>198.0</td>\n",
       "      <td>170.0</td>\n",
       "      <td>166.0</td>\n",
       "      <td>168.041667</td>\n",
       "      <td>154.285714</td>\n",
       "    </tr>\n",
       "    <tr>\n",
       "      <th>2018-08-31 22:00:00</th>\n",
       "      <td>223</td>\n",
       "      <td>22</td>\n",
       "      <td>4</td>\n",
       "      <td>31</td>\n",
       "      <td>159.0</td>\n",
       "      <td>154.0</td>\n",
       "      <td>136.0</td>\n",
       "      <td>207.0</td>\n",
       "      <td>217.0</td>\n",
       "      <td>197.0</td>\n",
       "      <td>...</td>\n",
       "      <td>133.0</td>\n",
       "      <td>166.0</td>\n",
       "      <td>136.0</td>\n",
       "      <td>167.0</td>\n",
       "      <td>191.0</td>\n",
       "      <td>158.0</td>\n",
       "      <td>177.0</td>\n",
       "      <td>242.0</td>\n",
       "      <td>166.416667</td>\n",
       "      <td>154.244048</td>\n",
       "    </tr>\n",
       "    <tr>\n",
       "      <th>2018-08-31 23:00:00</th>\n",
       "      <td>205</td>\n",
       "      <td>23</td>\n",
       "      <td>4</td>\n",
       "      <td>31</td>\n",
       "      <td>223.0</td>\n",
       "      <td>159.0</td>\n",
       "      <td>154.0</td>\n",
       "      <td>136.0</td>\n",
       "      <td>207.0</td>\n",
       "      <td>217.0</td>\n",
       "      <td>...</td>\n",
       "      <td>116.0</td>\n",
       "      <td>133.0</td>\n",
       "      <td>166.0</td>\n",
       "      <td>136.0</td>\n",
       "      <td>167.0</td>\n",
       "      <td>246.0</td>\n",
       "      <td>265.0</td>\n",
       "      <td>173.0</td>\n",
       "      <td>169.125000</td>\n",
       "      <td>154.130952</td>\n",
       "    </tr>\n",
       "  </tbody>\n",
       "</table>\n",
       "<p>4248 rows × 21 columns</p>\n",
       "</div>"
      ],
      "text/plain": [
       "                     num_orders  hour  dayofweek  dayofmonth  lag_1  lag_2  \\\n",
       "datetime                                                                     \n",
       "2018-03-08 00:00:00         143     0          3           8   94.0  127.0   \n",
       "2018-03-08 01:00:00          78     1          3           8  143.0   94.0   \n",
       "2018-03-08 02:00:00          65     2          3           8   78.0  143.0   \n",
       "2018-03-08 03:00:00          68     3          3           8   65.0   78.0   \n",
       "2018-03-08 04:00:00          60     4          3           8   68.0   65.0   \n",
       "...                         ...   ...        ...         ...    ...    ...   \n",
       "2018-08-31 19:00:00         136    19          4          31  207.0  217.0   \n",
       "2018-08-31 20:00:00         154    20          4          31  136.0  207.0   \n",
       "2018-08-31 21:00:00         159    21          4          31  154.0  136.0   \n",
       "2018-08-31 22:00:00         223    22          4          31  159.0  154.0   \n",
       "2018-08-31 23:00:00         205    23          4          31  223.0  159.0   \n",
       "\n",
       "                     lag_3  lag_4  lag_5  lag_6  ...  lag_8  lag_9  lag_10  \\\n",
       "datetime                                         ...                         \n",
       "2018-03-08 00:00:00  108.0   76.0   50.0   99.0  ...   46.0   51.0    43.0   \n",
       "2018-03-08 01:00:00  127.0  108.0   76.0   50.0  ...   48.0   46.0    51.0   \n",
       "2018-03-08 02:00:00   94.0  127.0  108.0   76.0  ...   99.0   48.0    46.0   \n",
       "2018-03-08 03:00:00  143.0   94.0  127.0  108.0  ...   50.0   99.0    48.0   \n",
       "2018-03-08 04:00:00   78.0  143.0   94.0  127.0  ...   76.0   50.0    99.0   \n",
       "...                    ...    ...    ...    ...  ...    ...    ...     ...   \n",
       "2018-08-31 19:00:00  197.0  116.0  133.0  166.0  ...  167.0  191.0   203.0   \n",
       "2018-08-31 20:00:00  217.0  197.0  116.0  133.0  ...  136.0  167.0   191.0   \n",
       "2018-08-31 21:00:00  207.0  217.0  197.0  116.0  ...  166.0  136.0   167.0   \n",
       "2018-08-31 22:00:00  136.0  207.0  217.0  197.0  ...  133.0  166.0   136.0   \n",
       "2018-08-31 23:00:00  154.0  136.0  207.0  217.0  ...  116.0  133.0   166.0   \n",
       "\n",
       "                     lag_11  lag_12  lag_24  lag_48  lag_168  rolling_mean_24  \\\n",
       "datetime                                                                        \n",
       "2018-03-08 00:00:00    55.0    34.0   100.0    42.0    124.0        60.041667   \n",
       "2018-03-08 01:00:00    43.0    55.0   121.0    75.0     85.0        61.833333   \n",
       "2018-03-08 02:00:00    51.0    43.0    24.0    36.0     71.0        60.041667   \n",
       "2018-03-08 03:00:00    46.0    51.0    66.0    49.0     66.0        61.750000   \n",
       "2018-03-08 04:00:00    48.0    46.0    73.0    30.0     43.0        61.833333   \n",
       "...                     ...     ...     ...     ...      ...              ...   \n",
       "2018-08-31 19:00:00   182.0    46.0    72.0   169.0    113.0       164.875000   \n",
       "2018-08-31 20:00:00   203.0   182.0   142.0   191.0    179.0       167.541667   \n",
       "2018-08-31 21:00:00   191.0   203.0   198.0   170.0    166.0       168.041667   \n",
       "2018-08-31 22:00:00   167.0   191.0   158.0   177.0    242.0       166.416667   \n",
       "2018-08-31 23:00:00   136.0   167.0   246.0   265.0    173.0       169.125000   \n",
       "\n",
       "                     rolling_mean_168  \n",
       "datetime                               \n",
       "2018-03-08 00:00:00         54.226190  \n",
       "2018-03-08 01:00:00         54.339286  \n",
       "2018-03-08 02:00:00         54.297619  \n",
       "2018-03-08 03:00:00         54.261905  \n",
       "2018-03-08 04:00:00         54.273810  \n",
       "...                               ...  \n",
       "2018-08-31 19:00:00        154.297619  \n",
       "2018-08-31 20:00:00        154.434524  \n",
       "2018-08-31 21:00:00        154.285714  \n",
       "2018-08-31 22:00:00        154.244048  \n",
       "2018-08-31 23:00:00        154.130952  \n",
       "\n",
       "[4248 rows x 21 columns]"
      ]
     },
     "execution_count": 13,
     "metadata": {},
     "output_type": "execute_result"
    }
   ],
   "source": [
    "data"
   ]
  },
  {
   "cell_type": "code",
   "execution_count": 14,
   "metadata": {},
   "outputs": [
    {
     "name": "stdout",
     "output_type": "stream",
     "text": [
      "Лучшие параметры RandomForestRegressor: {'max_depth': None, 'n_estimators': 21}\n",
      "RMSE RandomForestRegressor на кросс-валидации: 23.68\n",
      "Время обучения RandomForestRegressor: 0.77 секунд\n",
      "Время предсказания RandomForestRegressor: 0.02 секунд\n",
      "\n",
      "______________________________\n",
      "\n",
      "Лучшие параметры LightGBM: {'learning_rate': 0.1, 'num_leaves': 15}\n",
      "RMSE LightGBM на кросс-валидации: 23.49\n",
      "Время обучения LightGBM: 33.41 секунд\n",
      "Время предсказания LightGBM: 0.09 секунд\n",
      "\n",
      "______________________________\n",
      "\n",
      "RMSE DecisionTreeRegressor на кросс-валидации: 26.48\n",
      "Время обучения DecisionTreeRegressor: 0.13 секунд\n",
      "Время предсказания DecisionTreeRegressor: 0.00 секунд\n",
      "\n",
      "==============================\n",
      "\n",
      "Лучшая модель: LightGBM\n",
      "RMSE лучшей модели (LightGBM) на тестовой выборке: 38.20\n",
      "Время предсказания лучшей модели (LightGBM) на тестовой выборке: 0.00 секунд\n"
     ]
    }
   ],
   "source": [
    "# Модель 1: RandomForestRegressor\n",
    "param_grid_rf = {\n",
    "    'n_estimators': [7, 14, 21],\n",
    "    'max_depth': [None, 5, 10]\n",
    "}\n",
    "rf_model = RandomForestRegressor(random_state=12345)\n",
    "grid_search_rf = GridSearchCV(estimator=rf_model, param_grid=param_grid_rf, cv=tscv, scoring='neg_root_mean_squared_error', n_jobs=-1)\n",
    "\n",
    "grid_search_rf.fit(data_train, target_train)\n",
    "\n",
    "best_model_rf = grid_search_rf.best_estimator_\n",
    "best_params_rf = grid_search_rf.best_params_\n",
    "rmse_rf = abs(grid_search_rf.best_score_)\n",
    "\n",
    "\n",
    "# Модель 2: LightGBM\n",
    "param_grid_lgbm = {\n",
    "    'num_leaves': [15, 30, 45],\n",
    "    'learning_rate': [0.01, 0.1, 0.2]\n",
    "}\n",
    "lgbm_model = LGBMRegressor(objective='regression', metric='rmse')\n",
    "grid_search_lgbm = GridSearchCV(estimator=lgbm_model, param_grid=param_grid_lgbm, cv=tscv, scoring='neg_root_mean_squared_error', n_jobs=-1)\n",
    "\n",
    "grid_search_lgbm.fit(data_train, target_train)\n",
    "\n",
    "best_model_lgbm = grid_search_lgbm.best_estimator_\n",
    "best_params_lgbm = grid_search_lgbm.best_params_\n",
    "rmse_lgbm = abs(grid_search_lgbm.best_score_)\n",
    "\n",
    "# Модель 3: DecisionTreeRegressor\n",
    "param_grid_dtr = {\n",
    "    'max_depth': [None, 4, 8],\n",
    "    'min_samples_leaf': [1, 2, 4]\n",
    "}\n",
    "dtr_model = DecisionTreeRegressor()\n",
    "grid_search_dtr = GridSearchCV(estimator=dtr_model, param_grid=param_grid_dtr, cv=tscv, scoring='neg_root_mean_squared_error', n_jobs=-1)\n",
    "\n",
    "grid_search_dtr.fit(data_train, target_train)\n",
    "\n",
    "rmse_dtr = abs(grid_search_dtr.best_score_)\n",
    "\n",
    "# Оценка времени работы моделей на тренировочной выборке\n",
    "start_time = time.time()\n",
    "best_model_rf.fit(data_train, target_train)\n",
    "training_time_rf = time.time() - start_time\n",
    "predict_start_time = time.time()\n",
    "predictions_rf = best_model_rf.predict(data_train)\n",
    "predict_time_rf = time.time() - predict_start_time\n",
    "\n",
    "start_time = time.time()\n",
    "best_model_lgbm.fit(data_train, target_train)\n",
    "training_time_lgbm = time.time() - start_time\n",
    "predict_start_time = time.time()\n",
    "predictions_lgbm = best_model_lgbm.predict(data_train)\n",
    "predict_time_lgbm = time.time() - predict_start_time\n",
    "\n",
    "start_time = time.time()\n",
    "dtr_model.fit(data_train, target_train)\n",
    "training_time_dtr = time.time() - start_time\n",
    "predict_start_time = time.time()\n",
    "predictions_dtr = dtr_model.predict(data_train)\n",
    "predict_time_dtr = time.time() - predict_start_time\n",
    "\n",
    "\n",
    "# Вывод результатов\n",
    "print(\"Лучшие параметры RandomForestRegressor:\", best_params_rf)\n",
    "print(f\"RMSE RandomForestRegressor на кросс-валидации: {rmse_rf:.2f}\")\n",
    "print(f\"Время обучения RandomForestRegressor: {training_time_rf:.2f} секунд\")\n",
    "print(f\"Время предсказания RandomForestRegressor: {predict_time_rf:.2f} секунд\")\n",
    "print()\n",
    "print('_'*30)\n",
    "print()\n",
    "print(\"Лучшие параметры LightGBM:\", best_params_lgbm)\n",
    "print(f\"RMSE LightGBM на кросс-валидации: {rmse_lgbm:.2f}\")\n",
    "print(f\"Время обучения LightGBM: {training_time_lgbm:.2f} секунд\")\n",
    "print(f\"Время предсказания LightGBM: {predict_time_lgbm:.2f} секунд\")\n",
    "print()\n",
    "print('_'*30)\n",
    "print()\n",
    "print(f\"RMSE DecisionTreeRegressor на кросс-валидации: {rmse_dtr:.2f}\")\n",
    "print(f\"Время обучения DecisionTreeRegressor: {training_time_dtr:.2f} секунд\")\n",
    "print(f\"Время предсказания DecisionTreeRegressor: {predict_time_dtr:.2f} секунд\")\n",
    "print()\n",
    "print('='*30)\n",
    "print()\n",
    "# Выбор лучшей модели\n",
    "best_model = None\n",
    "best_model_name = None\n",
    "best_rmse = float('inf')\n",
    "\n",
    "if rmse_rf < best_rmse:\n",
    "    best_model = best_model_rf\n",
    "    best_model_name = \"RandomForestRegressor\"\n",
    "    best_rmse = rmse_rf\n",
    "\n",
    "if rmse_lgbm < best_rmse:\n",
    "    best_model = best_model_lgbm\n",
    "    best_model_name = \"LightGBM\"\n",
    "    best_rmse = rmse_lgbm\n",
    "\n",
    "if rmse_dtr < best_rmse:\n",
    "    best_model = dtr_model\n",
    "    best_model_name = \"DecisionTreeRegressor\"\n",
    "    best_rmse = rmse_dtr\n",
    "\n",
    "# Предсказание и измерение времени предсказания на тестовой выборке\n",
    "predict_start_time = time.time()\n",
    "test_predictions = best_model.predict(data_test)\n",
    "predict_time_test = time.time() - predict_start_time\n",
    "\n",
    "# Рассчёт RMSE на тестовой выборке\n",
    "test_rmse = math.sqrt(mean_squared_error(target_test, test_predictions))\n",
    "\n",
    "# Вывод результатов на тестовой выборке\n",
    "\n",
    "print(f\"Лучшая модель: {best_model_name}\")\n",
    "print(f\"RMSE лучшей модели ({best_model_name}) на тестовой выборке: {test_rmse:.2f}\")\n",
    "print(f\"Время предсказания лучшей модели ({best_model_name}) на тестовой выборке: {predict_time_test:.2f} секунд\")"
   ]
  },
  {
   "cell_type": "markdown",
   "metadata": {},
   "source": [
    "## Проверка на адекватность"
   ]
  },
  {
   "cell_type": "code",
   "execution_count": 15,
   "metadata": {},
   "outputs": [
    {
     "name": "stdout",
     "output_type": "stream",
     "text": [
      "RMSE для прогноза предыдущим значением: 58.82\n"
     ]
    }
   ],
   "source": [
    "# Создание прогноза предыдущим значением\n",
    "pred_previous = target_test.shift()\n",
    "pred_previous.iloc[0] = target_train.iloc[-1]\n",
    "\n",
    "# Рассчет RMSE для прогноза предыдущим значением\n",
    "rmse_previous = math.sqrt(mean_squared_error(target_test, pred_previous))\n",
    "\n",
    "# Вывод RMSE для прогноза предыдущим значением\n",
    "print(f\"RMSE для прогноза предыдущим значением: {rmse_previous:.2f}\")\n"
   ]
  },
  {
   "cell_type": "markdown",
   "metadata": {},
   "source": [
    "RMSE dummy-модели хуже, следовательно наша модель адекватна."
   ]
  },
  {
   "cell_type": "markdown",
   "metadata": {},
   "source": [
    "## Общий вывод"
   ]
  },
  {
   "cell_type": "markdown",
   "metadata": {},
   "source": [
    "В ходе выполнения проекта были выполнены следующие этапы:\n",
    "\n",
    "#### 1. Предобработка данных\n",
    "- Проведено ресемплирование данных по одному часу.\n",
    "- Созданы дополнительные признаки:\n",
    "\n",
    "#### 2. Анализ данных\n",
    "- Произведен анализ временных рядов, который выявил следующие закономерности:\n",
    "  - Наблюдается восходящая тенденция на графике тренда, что указывает на увеличение заказов такси со временем. Однако, важно понимать, что поскольку у нас нет данных за несколько лет, мы не можем с точностью утверждать, что эта тенденция не связана с годовой сезонностью. Рост показателей к августу может быть связан с сезоном отпусков.\n",
    "  - График сезонности показал изменения количества заказов в течение суток с повторяющейся закономерностью.\n",
    "  - Амплитуда шума на графике остатков расширяется вместе с ростом графика тренда, что может указывать на наличие гетероскедастичности данных.\n",
    "  - Также на графике сезонности при ресэмплировании по дням видно, что имеет место устойчивый паттерн недельной сезонности. 25 августа 2018 года была суббота. Следовательно, очевидно, что в воскресенье такси заказывают меньше всего, больше всего в понедельник, далее количество заказов растёт к четвергу и снижается к воскресенью.\n",
    "#### 3. Обучение моделей\n",
    "- Были обучены три различные модели прогнозирования: решающее дерево, случайный лес и градиентный бустинг.\n",
    "- Для каждой модели проведен подбор оптимальных гиперпараметров с использованием GridSearchCV.\n",
    "\n",
    "#### 4. Выбор лучшей модели\n",
    "- Наилучшие результаты были достигнуты с использованием модели LightGBM с оптимальными гиперпараметрами: learning_rate=0.1 и num_leaves=15.\n",
    "- RMSE модели LightGBM на кросс-валидации составил 23.49.\n",
    "\n",
    "#### 5. Тестирование лучшей модели\n",
    "- Лучшая модель LightGBM была протестирована на тестовой выборке, и RMSE на ней составил 38.20.\n",
    "\n",
    "### Итоговый вывод\n",
    "Проект проведен успешно, и была разработана модель прогнозирования количества заказов такси на следующий час. Лучшей моделью оказалась LightGBM с настроенными гиперпараметрами ```learning_rate=0.1``` и ```num_leaves=15```, и её производительность была успешно проверена на тестовой выборке. Модель позволяет прогнозировать количество заказов с высокой точностью, что полезно для оптимизации работы такси-сервиса и улучшения качества обслуживания клиентов."
   ]
  }
 ],
 "metadata": {
  "ExecuteTimeLog": [
   {
    "duration": 1693,
    "start_time": "2023-10-26T07:44:32.848Z"
   },
   {
    "duration": 144,
    "start_time": "2023-10-26T07:45:21.173Z"
   },
   {
    "duration": 28,
    "start_time": "2023-10-26T07:49:38.598Z"
   },
   {
    "duration": 5,
    "start_time": "2023-10-26T07:57:14.182Z"
   },
   {
    "duration": 12,
    "start_time": "2023-10-26T07:58:18.345Z"
   },
   {
    "duration": 908,
    "start_time": "2023-10-26T08:03:42.666Z"
   },
   {
    "duration": 6,
    "start_time": "2023-10-26T08:09:27.320Z"
   },
   {
    "duration": 9,
    "start_time": "2023-10-26T08:09:37.394Z"
   },
   {
    "duration": 10,
    "start_time": "2023-10-26T08:11:02.673Z"
   },
   {
    "duration": 10,
    "start_time": "2023-10-26T08:11:28.641Z"
   },
   {
    "duration": 11,
    "start_time": "2023-10-26T08:12:48.320Z"
   },
   {
    "duration": 1431,
    "start_time": "2023-10-26T08:13:10.859Z"
   },
   {
    "duration": 58,
    "start_time": "2023-10-26T08:13:12.292Z"
   },
   {
    "duration": 30,
    "start_time": "2023-10-26T08:13:12.352Z"
   },
   {
    "duration": 4,
    "start_time": "2023-10-26T08:13:12.385Z"
   },
   {
    "duration": 35,
    "start_time": "2023-10-26T08:13:12.391Z"
   },
   {
    "duration": 814,
    "start_time": "2023-10-26T08:13:12.428Z"
   },
   {
    "duration": 14,
    "start_time": "2023-10-26T08:13:13.243Z"
   },
   {
    "duration": 5,
    "start_time": "2023-10-26T08:14:38.623Z"
   },
   {
    "duration": 5,
    "start_time": "2023-10-26T08:15:37.152Z"
   },
   {
    "duration": 4,
    "start_time": "2023-10-26T08:17:51.775Z"
   },
   {
    "duration": 7,
    "start_time": "2023-10-26T08:17:54.823Z"
   },
   {
    "duration": 3,
    "start_time": "2023-10-26T08:27:35.855Z"
   },
   {
    "duration": 3,
    "start_time": "2023-10-26T08:32:56.091Z"
   },
   {
    "duration": 5,
    "start_time": "2023-10-26T08:36:51.782Z"
   },
   {
    "duration": 5,
    "start_time": "2023-10-26T08:37:31.505Z"
   },
   {
    "duration": 1430,
    "start_time": "2023-10-26T08:37:49.987Z"
   },
   {
    "duration": 48,
    "start_time": "2023-10-26T08:37:51.419Z"
   },
   {
    "duration": 27,
    "start_time": "2023-10-26T08:37:51.469Z"
   },
   {
    "duration": 13,
    "start_time": "2023-10-26T08:37:51.498Z"
   },
   {
    "duration": 32,
    "start_time": "2023-10-26T08:37:51.513Z"
   },
   {
    "duration": 855,
    "start_time": "2023-10-26T08:37:51.547Z"
   },
   {
    "duration": 13,
    "start_time": "2023-10-26T08:37:52.404Z"
   },
   {
    "duration": 18,
    "start_time": "2023-10-26T08:37:52.419Z"
   },
   {
    "duration": 24,
    "start_time": "2023-10-26T08:37:52.439Z"
   },
   {
    "duration": 5,
    "start_time": "2023-10-26T08:37:52.465Z"
   },
   {
    "duration": 1538,
    "start_time": "2023-10-26T08:37:52.472Z"
   },
   {
    "duration": 4,
    "start_time": "2023-10-26T08:38:43.637Z"
   },
   {
    "duration": 1763,
    "start_time": "2023-10-26T08:38:55.074Z"
   },
   {
    "duration": 55,
    "start_time": "2023-10-26T08:38:56.839Z"
   },
   {
    "duration": 31,
    "start_time": "2023-10-26T08:38:56.896Z"
   },
   {
    "duration": 6,
    "start_time": "2023-10-26T08:38:56.929Z"
   },
   {
    "duration": 53,
    "start_time": "2023-10-26T08:38:56.937Z"
   },
   {
    "duration": 865,
    "start_time": "2023-10-26T08:38:56.993Z"
   },
   {
    "duration": 11,
    "start_time": "2023-10-26T08:38:57.860Z"
   },
   {
    "duration": 5,
    "start_time": "2023-10-26T08:38:57.874Z"
   },
   {
    "duration": 12,
    "start_time": "2023-10-26T08:38:57.881Z"
   },
   {
    "duration": 4,
    "start_time": "2023-10-26T08:38:57.896Z"
   },
   {
    "duration": 3066675,
    "start_time": "2023-10-26T08:38:57.901Z"
   },
   {
    "duration": 1476,
    "start_time": "2023-10-26T10:39:10.127Z"
   },
   {
    "duration": 257,
    "start_time": "2023-10-26T10:39:11.605Z"
   },
   {
    "duration": 27,
    "start_time": "2023-10-26T10:39:11.863Z"
   },
   {
    "duration": 4,
    "start_time": "2023-10-26T10:39:11.891Z"
   },
   {
    "duration": 17,
    "start_time": "2023-10-26T10:39:11.896Z"
   },
   {
    "duration": 793,
    "start_time": "2023-10-26T10:39:11.915Z"
   },
   {
    "duration": 14,
    "start_time": "2023-10-26T10:39:12.710Z"
   },
   {
    "duration": 411,
    "start_time": "2023-10-26T10:39:12.745Z"
   },
   {
    "duration": 1842,
    "start_time": "2023-10-26T17:39:11.900Z"
   },
   {
    "duration": 120,
    "start_time": "2023-10-26T17:39:13.745Z"
   },
   {
    "duration": 30,
    "start_time": "2023-10-26T17:39:13.867Z"
   },
   {
    "duration": 4,
    "start_time": "2023-10-26T17:39:13.899Z"
   },
   {
    "duration": 28,
    "start_time": "2023-10-26T17:39:13.905Z"
   },
   {
    "duration": 951,
    "start_time": "2023-10-26T17:39:13.935Z"
   },
   {
    "duration": 179,
    "start_time": "2023-10-26T17:39:58.241Z"
   },
   {
    "duration": 472,
    "start_time": "2023-10-26T17:42:25.953Z"
   },
   {
    "duration": 223,
    "start_time": "2023-10-26T17:42:41.330Z"
   },
   {
    "duration": 186,
    "start_time": "2023-10-26T17:43:50.814Z"
   },
   {
    "duration": 193,
    "start_time": "2023-10-26T17:44:35.181Z"
   },
   {
    "duration": 216,
    "start_time": "2023-10-26T17:48:05.118Z"
   },
   {
    "duration": 351,
    "start_time": "2023-10-26T17:51:09.592Z"
   },
   {
    "duration": 366,
    "start_time": "2023-10-26T17:51:40.386Z"
   },
   {
    "duration": 9,
    "start_time": "2023-10-26T18:32:39.999Z"
   },
   {
    "duration": 23,
    "start_time": "2023-10-26T18:45:16.597Z"
   },
   {
    "duration": 24,
    "start_time": "2023-10-26T18:45:23.823Z"
   },
   {
    "duration": 8,
    "start_time": "2023-10-26T18:47:03.917Z"
   },
   {
    "duration": 411,
    "start_time": "2023-10-26T18:47:07.117Z"
   },
   {
    "duration": 7,
    "start_time": "2023-10-26T18:47:49.440Z"
   },
   {
    "duration": 4,
    "start_time": "2023-10-26T18:47:57.234Z"
   },
   {
    "duration": 231,
    "start_time": "2023-10-26T18:47:57.241Z"
   },
   {
    "duration": 1447,
    "start_time": "2023-10-26T18:50:38.989Z"
   },
   {
    "duration": 51,
    "start_time": "2023-10-26T18:50:40.438Z"
   },
   {
    "duration": 33,
    "start_time": "2023-10-26T18:50:40.490Z"
   },
   {
    "duration": 6,
    "start_time": "2023-10-26T18:50:40.526Z"
   },
   {
    "duration": 26,
    "start_time": "2023-10-26T18:50:40.534Z"
   },
   {
    "duration": 884,
    "start_time": "2023-10-26T18:50:40.562Z"
   },
   {
    "duration": 440,
    "start_time": "2023-10-26T18:50:41.448Z"
   },
   {
    "duration": 34,
    "start_time": "2023-10-26T18:50:41.890Z"
   },
   {
    "duration": 388,
    "start_time": "2023-10-26T18:50:41.928Z"
   },
   {
    "duration": 8,
    "start_time": "2023-10-26T18:50:42.321Z"
   },
   {
    "duration": 7,
    "start_time": "2023-10-26T18:50:42.331Z"
   },
   {
    "duration": 6,
    "start_time": "2023-10-26T18:50:42.339Z"
   },
   {
    "duration": 266,
    "start_time": "2023-10-26T18:50:42.347Z"
   },
   {
    "duration": 5,
    "start_time": "2023-10-26T18:53:26.831Z"
   },
   {
    "duration": 35,
    "start_time": "2023-10-26T18:53:37.961Z"
   },
   {
    "duration": 1576,
    "start_time": "2023-10-26T18:56:05.978Z"
   },
   {
    "duration": 54,
    "start_time": "2023-10-26T18:56:07.556Z"
   },
   {
    "duration": 35,
    "start_time": "2023-10-26T18:56:07.612Z"
   },
   {
    "duration": 12,
    "start_time": "2023-10-26T18:56:07.648Z"
   },
   {
    "duration": 32,
    "start_time": "2023-10-26T18:56:07.662Z"
   },
   {
    "duration": 875,
    "start_time": "2023-10-26T18:56:07.695Z"
   },
   {
    "duration": 426,
    "start_time": "2023-10-26T18:56:08.572Z"
   },
   {
    "duration": 34,
    "start_time": "2023-10-26T18:56:09.000Z"
   },
   {
    "duration": 393,
    "start_time": "2023-10-26T18:56:09.036Z"
   },
   {
    "duration": 4,
    "start_time": "2023-10-26T18:56:09.431Z"
   },
   {
    "duration": 10,
    "start_time": "2023-10-26T18:56:09.437Z"
   },
   {
    "duration": 8,
    "start_time": "2023-10-26T18:56:09.449Z"
   },
   {
    "duration": 40,
    "start_time": "2023-10-26T18:56:09.459Z"
   },
   {
    "duration": 2572353,
    "start_time": "2023-10-26T18:56:09.513Z"
   },
   {
    "duration": 5,
    "start_time": "2023-10-26T19:45:45.059Z"
   }
  ],
  "kernelspec": {
   "display_name": "Python 3 (ipykernel)",
   "language": "python",
   "name": "python3"
  },
  "language_info": {
   "codemirror_mode": {
    "name": "ipython",
    "version": 3
   },
   "file_extension": ".py",
   "mimetype": "text/x-python",
   "name": "python",
   "nbconvert_exporter": "python",
   "pygments_lexer": "ipython3",
   "version": "3.9.5"
  },
  "toc": {
   "base_numbering": 1,
   "nav_menu": {},
   "number_sections": true,
   "sideBar": true,
   "skip_h1_title": true,
   "title_cell": "Содержание",
   "title_sidebar": "Contents",
   "toc_cell": true,
   "toc_position": {},
   "toc_section_display": true,
   "toc_window_display": false
  }
 },
 "nbformat": 4,
 "nbformat_minor": 2
}
